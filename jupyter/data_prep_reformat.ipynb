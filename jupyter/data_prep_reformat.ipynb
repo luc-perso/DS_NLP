{
 "cells": [
  {
   "cell_type": "markdown",
   "metadata": {},
   "source": [
    "<table style=\"border:none; border-collapse:collapse; cellspacing:0; cellpadding:0\">\n",
    "    <tr>\n",
    "        <td width=30% style=\"border:none\">\n",
    "            <img src=\"logo_datascientest.png\" width=\"100%\"/>\n",
    "        </td>\n",
    "        <td style=\"border:none\">\n",
    "            <center>\n",
    "                <h1>DS project: Customer satisfaction</h1>\n",
    "                <h2>Data preparation - Reformating files</h2>\n",
    "            </center>\n",
    "        </td>\n",
    "    </tr>\n",
    "</table>\n",
    "\n",
    "<hr>\n",
    "\n",
    "**Date** : 2023\n",
    "\n",
    "**Author** : Elie MAZE, Luc Thomas\n",
    "\n",
    "**Goal** : Reformat and clean input files "
   ]
  },
  {
   "cell_type": "code",
   "execution_count": 38,
   "metadata": {},
   "outputs": [
    {
     "name": "stdout",
     "output_type": "stream",
     "text": [
      "The autoreload extension is already loaded. To reload it, use:\n",
      "  %reload_ext autoreload\n"
     ]
    }
   ],
   "source": [
    "import _mypath\n",
    "import os, glob\n",
    "import pandas as pd\n",
    "import re\n",
    "from uuid import uuid4\n",
    "import csv\n",
    "\n",
    "%matplotlib inline\n",
    "import seaborn as sns\n",
    "import matplotlib.pyplot as plt\n",
    "\n",
    "from data.reformat import correctInputFile, merge\n",
    "\n",
    "%load_ext autoreload\n",
    "%autoreload 1"
   ]
  },
  {
   "cell_type": "markdown",
   "metadata": {},
   "source": [
    "# Main\n",
    "## file correction"
   ]
  },
  {
   "cell_type": "code",
   "execution_count": 2,
   "metadata": {},
   "outputs": [
    {
     "data": {
      "text/plain": [
       "['../input/data\\\\dataset_amazon.csv',\n",
       " '../input/data\\\\dataset_cdiscount.csv',\n",
       " '../input/data\\\\dataset_fnac.csv']"
      ]
     },
     "execution_count": 2,
     "metadata": {},
     "output_type": "execute_result"
    }
   ],
   "source": [
    "data_folder = \"../input/data\"\n",
    "paths = [path for path in glob.glob(data_folder+\"/*.csv\") if not \"corrected\" in path and not \"merged\" in path]\n",
    "paths"
   ]
  },
  {
   "cell_type": "code",
   "execution_count": 3,
   "metadata": {},
   "outputs": [],
   "source": [
    "for path in paths:\n",
    "    correctInputFile(path)"
   ]
  },
  {
   "cell_type": "markdown",
   "metadata": {},
   "source": [
    "## Grouping"
   ]
  },
  {
   "cell_type": "code",
   "execution_count": 2,
   "metadata": {},
   "outputs": [],
   "source": [
    "merge(data_folder)"
   ]
  },
  {
   "cell_type": "markdown",
   "metadata": {},
   "source": [
    "## fitering"
   ]
  },
  {
   "cell_type": "code",
   "execution_count": 32,
   "metadata": {},
   "outputs": [
    {
     "name": "stdout",
     "output_type": "stream",
     "text": [
      "data shape: (106752, 8)\n"
     ]
    }
   ],
   "source": [
    "infile = os.path.join(data_folder, \"merged_dataset.csv\")\n",
    "data = pd.read_csv(infile, sep=\",\", engine='python', encoding=\"utf-8\")\n",
    "print(\"data shape:\", data.shape)"
   ]
  },
  {
   "cell_type": "code",
   "execution_count": 5,
   "metadata": {},
   "outputs": [
    {
     "data": {
      "text/html": [
       "<div>\n",
       "<style scoped>\n",
       "    .dataframe tbody tr th:only-of-type {\n",
       "        vertical-align: middle;\n",
       "    }\n",
       "\n",
       "    .dataframe tbody tr th {\n",
       "        vertical-align: top;\n",
       "    }\n",
       "\n",
       "    .dataframe thead th {\n",
       "        text-align: right;\n",
       "    }\n",
       "</style>\n",
       "<table border=\"1\" class=\"dataframe\">\n",
       "  <thead>\n",
       "    <tr style=\"text-align: right;\">\n",
       "      <th></th>\n",
       "      <th>Commentaire</th>\n",
       "      <th>star</th>\n",
       "      <th>date</th>\n",
       "      <th>client</th>\n",
       "      <th>reponse</th>\n",
       "      <th>source</th>\n",
       "      <th>company</th>\n",
       "      <th>langage</th>\n",
       "    </tr>\n",
       "  </thead>\n",
       "  <tbody>\n",
       "    <tr>\n",
       "      <th>0</th>\n",
       "      <td>Colis commandé mardi 28 fevrier 23  , livraiso...</td>\n",
       "      <td>1</td>\n",
       "      <td>2023-03-07</td>\n",
       "      <td>Toto</td>\n",
       "      <td>NaN</td>\n",
       "      <td>TrustPilot</td>\n",
       "      <td>Amazon</td>\n",
       "      <td>fr</td>\n",
       "    </tr>\n",
       "    <tr>\n",
       "      <th>1</th>\n",
       "      <td>Amazon avec sa politique de retour est la pire...</td>\n",
       "      <td>1</td>\n",
       "      <td>2023-03-07</td>\n",
       "      <td>nasri eddine</td>\n",
       "      <td>NaN</td>\n",
       "      <td>TrustPilot</td>\n",
       "      <td>Amazon</td>\n",
       "      <td>fr</td>\n",
       "    </tr>\n",
       "    <tr>\n",
       "      <th>2</th>\n",
       "      <td>Dieu sait que j'en connais des déboires avec l...</td>\n",
       "      <td>4</td>\n",
       "      <td>2023-03-07</td>\n",
       "      <td>Amandine</td>\n",
       "      <td>NaN</td>\n",
       "      <td>TrustPilot</td>\n",
       "      <td>Amazon</td>\n",
       "      <td>fr</td>\n",
       "    </tr>\n",
       "    <tr>\n",
       "      <th>3</th>\n",
       "      <td>Nul, preleve une commande que je n'ai jamais r...</td>\n",
       "      <td>1</td>\n",
       "      <td>2023-03-07</td>\n",
       "      <td>Bob Brico</td>\n",
       "      <td>NaN</td>\n",
       "      <td>TrustPilot</td>\n",
       "      <td>Amazon</td>\n",
       "      <td>fr</td>\n",
       "    </tr>\n",
       "    <tr>\n",
       "      <th>4</th>\n",
       "      <td>Colis soit disant livré mais jamais reçu donc ...</td>\n",
       "      <td>1</td>\n",
       "      <td>2023-03-06</td>\n",
       "      <td>Client</td>\n",
       "      <td>NaN</td>\n",
       "      <td>TrustPilot</td>\n",
       "      <td>Amazon</td>\n",
       "      <td>fr</td>\n",
       "    </tr>\n",
       "  </tbody>\n",
       "</table>\n",
       "</div>"
      ],
      "text/plain": [
       "                                         Commentaire  star        date   \n",
       "0  Colis commandé mardi 28 fevrier 23  , livraiso...     1  2023-03-07  \\\n",
       "1  Amazon avec sa politique de retour est la pire...     1  2023-03-07   \n",
       "2  Dieu sait que j'en connais des déboires avec l...     4  2023-03-07   \n",
       "3  Nul, preleve une commande que je n'ai jamais r...     1  2023-03-07   \n",
       "4  Colis soit disant livré mais jamais reçu donc ...     1  2023-03-06   \n",
       "\n",
       "         client reponse      source company langage  \n",
       "0          Toto     NaN  TrustPilot  Amazon      fr  \n",
       "1  nasri eddine     NaN  TrustPilot  Amazon      fr  \n",
       "2      Amandine     NaN  TrustPilot  Amazon      fr  \n",
       "3     Bob Brico     NaN  TrustPilot  Amazon      fr  \n",
       "4        Client     NaN  TrustPilot  Amazon      fr  "
      ]
     },
     "execution_count": 5,
     "metadata": {},
     "output_type": "execute_result"
    }
   ],
   "source": [
    "data.head(5)"
   ]
  },
  {
   "cell_type": "code",
   "execution_count": 7,
   "metadata": {},
   "outputs": [
    {
     "data": {
      "text/plain": [
       "Commentaire        0\n",
       "star               0\n",
       "date               0\n",
       "client             1\n",
       "reponse        82034\n",
       "source             0\n",
       "company            0\n",
       "langage            0\n",
       "dtype: int64"
      ]
     },
     "execution_count": 7,
     "metadata": {},
     "output_type": "execute_result"
    }
   ],
   "source": [
    "data.isna().sum()"
   ]
  },
  {
   "cell_type": "code",
   "execution_count": 14,
   "metadata": {},
   "outputs": [
    {
     "data": {
      "image/png": "[encoded data removed]",
      "text/plain": [
       "<Figure size 432x288 with 1 Axes>"
      ]
     },
     "metadata": {},
     "output_type": "display_data"
    }
   ],
   "source": [
    "sns.set()\n",
    "data[\"company\"].value_counts().plot.pie(autopct=\"%.1f%%\")\n",
    "plt.title(\"Distribution of companies\")\n",
    "plt.show()"
   ]
  },
  {
   "cell_type": "code",
   "execution_count": 13,
   "metadata": {},
   "outputs": [
    {
     "data": {
      "image/png": "[encoded data removed]",
      "text/plain": [
       "<Figure size 1080x360 with 1 Axes>"
      ]
     },
     "metadata": {},
     "output_type": "display_data"
    }
   ],
   "source": [
    "sns.set()\n",
    "fig = plt.figure(figsize=(15,5))\n",
    "data[\"langage\"].value_counts().plot.bar()\n",
    "plt.title(\"Distribution of langages\")\n",
    "plt.show()"
   ]
  },
  {
   "cell_type": "code",
   "execution_count": 33,
   "metadata": {},
   "outputs": [
    {
     "name": "stdout",
     "output_type": "stream",
     "text": [
      "data shape: (105568, 8)\n"
     ]
    }
   ],
   "source": [
    "mask = (data[\"langage\"]==\"fr\")\n",
    "df = pd.DataFrame(data[mask])\n",
    "print(\"data shape:\", df.shape)"
   ]
  },
  {
   "cell_type": "code",
   "execution_count": 16,
   "metadata": {},
   "outputs": [
    {
     "data": {
      "text/plain": [
       "Commentaire        0\n",
       "star               0\n",
       "date               0\n",
       "client             1\n",
       "reponse        80905\n",
       "source             0\n",
       "company            0\n",
       "langage            0\n",
       "dtype: int64"
      ]
     },
     "execution_count": 16,
     "metadata": {},
     "output_type": "execute_result"
    }
   ],
   "source": [
    "df.isna().sum()"
   ]
  },
  {
   "cell_type": "code",
   "execution_count": 25,
   "metadata": {},
   "outputs": [
    {
     "name": "stdout",
     "output_type": "stream",
     "text": [
      "Unique clients: 90357\n"
     ]
    }
   ],
   "source": [
    "print(\"Unique clients:\", len(df.client.unique()))"
   ]
  },
  {
   "cell_type": "code",
   "execution_count": 35,
   "metadata": {},
   "outputs": [],
   "source": [
    "mask = (df.client.isnull())\n",
    "df.loc[mask, \"client\"] = [str(uuid4())]"
   ]
  },
  {
   "cell_type": "code",
   "execution_count": 37,
   "metadata": {},
   "outputs": [
    {
     "data": {
      "text/plain": [
       "Commentaire        0\n",
       "star               0\n",
       "date               0\n",
       "client             0\n",
       "reponse        80905\n",
       "source             0\n",
       "company            0\n",
       "langage            0\n",
       "dtype: int64"
      ]
     },
     "execution_count": 37,
     "metadata": {},
     "output_type": "execute_result"
    }
   ],
   "source": [
    "df.isna().sum()"
   ]
  },
  {
   "cell_type": "code",
   "execution_count": 45,
   "metadata": {},
   "outputs": [
    {
     "data": {
      "text/plain": [
       "Commentaire    object\n",
       "star            int64\n",
       "date           object\n",
       "client         object\n",
       "reponse        object\n",
       "source         object\n",
       "company        object\n",
       "langage        object\n",
       "dtype: object"
      ]
     },
     "execution_count": 45,
     "metadata": {},
     "output_type": "execute_result"
    }
   ],
   "source": [
    "df.dtypes"
   ]
  },
  {
   "cell_type": "code",
   "execution_count": 40,
   "metadata": {},
   "outputs": [],
   "source": [
    "outfile = os.path.join(data_folder, \"cleaned_merged_dataset.csv\")\n",
    "df.to_csv(outfile, sep=\",\", encoding=\"utf-8\", quoting=csv.QUOTE_ALL, index=False)"
   ]
  },
  {
   "cell_type": "code",
   "execution_count": null,
   "metadata": {},
   "outputs": [],
   "source": []
  }
 ],
 "metadata": {
  "kernelspec": {
   "display_name": "Python 3 (ipykernel)",
   "language": "python",
   "name": "python3"
  },
  "language_info": {
   "codemirror_mode": {
    "name": "ipython",
    "version": 3
   },
   "file_extension": ".py",
   "mimetype": "text/x-python",
   "name": "python",
   "nbconvert_exporter": "python",
   "pygments_lexer": "ipython3",
   "version": "3.9.12"
  }
 },
 "nbformat": 4,
 "nbformat_minor": 2
}
