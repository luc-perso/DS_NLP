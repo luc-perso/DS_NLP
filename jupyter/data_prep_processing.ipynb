{
 "cells": [
  {
   "attachments": {},
   "cell_type": "markdown",
   "id": "a76c96aa",
   "metadata": {},
   "source": [
    "<table style=\"border:none; border-collapse:collapse; cellspacing:0; cellpadding:0\">\n",
    "    <tr>\n",
    "        <td width=30% style=\"border:none\">\n",
    "            <img src=\"logo_datascientest.png\" width=\"100%\"/>\n",
    "        </td>\n",
    "        <td style=\"border:none\">\n",
    "            <center>\n",
    "                <h1>DS project: Customer satisfaction</h1>\n",
    "                <h2>Data pre-processing</h2>\n",
    "            </center>\n",
    "        </td>\n",
    "    </tr>\n",
    "</table>\n",
    "\n",
    "<hr>\n",
    "\n",
    "**Date** : 2023\n",
    "\n",
    "**Author** : Elie MAZE, Luc Thomas\n",
    "\n",
    "**Goal** : Clean text"
   ]
  },
  {
   "cell_type": "code",
   "execution_count": 1,
   "id": "d4dc1580",
   "metadata": {},
   "outputs": [],
   "source": [
    "import _mypath\n",
    "import os\n",
    "import pandas as pd\n",
    "import re\n",
    "import spacy \n",
    "import csv\n",
    "from tqdm import tqdm\n",
    "\n",
    "import nltk\n",
    "nltk.data.path.append(\"/data/DATALAB_PAU/18_HPC/nltk_data\")\n",
    "\n",
    "%matplotlib inline\n",
    "import seaborn as sns\n",
    "import matplotlib.pyplot as plt\n",
    "\n",
    "%load_ext autoreload\n",
    "%autoreload 1"
   ]
  },
  {
   "cell_type": "code",
   "execution_count": 2,
   "id": "8d19f4d8",
   "metadata": {},
   "outputs": [],
   "source": [
    "DATA_FOLDER = \"/data/DATALAB_PAU/20_projects/j0215602/DS_NLP/input/processed\"\n",
    "OUT_FOLDER = \"/data/DATALAB_PAU/20_projects/j0215602/DS_NLP/input/labeled\""
   ]
  },
  {
   "attachments": {},
   "cell_type": "markdown",
   "id": "2d628fb8",
   "metadata": {},
   "source": [
    "# Data loading"
   ]
  },
  {
   "cell_type": "code",
   "execution_count": 3,
   "id": "58b3b8f1",
   "metadata": {},
   "outputs": [
    {
     "name": "stdout",
     "output_type": "stream",
     "text": [
      "data shape: (105568, 8)\n",
      "\n"
     ]
    },
    {
     "data": {
      "text/html": [
       "<div>\n",
       "<style scoped>\n",
       "    .dataframe tbody tr th:only-of-type {\n",
       "        vertical-align: middle;\n",
       "    }\n",
       "\n",
       "    .dataframe tbody tr th {\n",
       "        vertical-align: top;\n",
       "    }\n",
       "\n",
       "    .dataframe thead th {\n",
       "        text-align: right;\n",
       "    }\n",
       "</style>\n",
       "<table border=\"1\" class=\"dataframe\">\n",
       "  <thead>\n",
       "    <tr style=\"text-align: right;\">\n",
       "      <th></th>\n",
       "      <th>Commentaire</th>\n",
       "      <th>star</th>\n",
       "      <th>date</th>\n",
       "      <th>client</th>\n",
       "      <th>reponse</th>\n",
       "      <th>source</th>\n",
       "      <th>company</th>\n",
       "      <th>langage</th>\n",
       "    </tr>\n",
       "  </thead>\n",
       "  <tbody>\n",
       "    <tr>\n",
       "      <th>0</th>\n",
       "      <td>Colis commandé mardi 28 fevrier 23  , livraiso...</td>\n",
       "      <td>1</td>\n",
       "      <td>2023-03-07</td>\n",
       "      <td>Toto</td>\n",
       "      <td>NaN</td>\n",
       "      <td>TrustPilot</td>\n",
       "      <td>Amazon</td>\n",
       "      <td>fr</td>\n",
       "    </tr>\n",
       "    <tr>\n",
       "      <th>1</th>\n",
       "      <td>Amazon avec sa politique de retour est la pire...</td>\n",
       "      <td>1</td>\n",
       "      <td>2023-03-07</td>\n",
       "      <td>nasri eddine</td>\n",
       "      <td>NaN</td>\n",
       "      <td>TrustPilot</td>\n",
       "      <td>Amazon</td>\n",
       "      <td>fr</td>\n",
       "    </tr>\n",
       "    <tr>\n",
       "      <th>2</th>\n",
       "      <td>Dieu sait que j'en connais des déboires avec l...</td>\n",
       "      <td>4</td>\n",
       "      <td>2023-03-07</td>\n",
       "      <td>Amandine</td>\n",
       "      <td>NaN</td>\n",
       "      <td>TrustPilot</td>\n",
       "      <td>Amazon</td>\n",
       "      <td>fr</td>\n",
       "    </tr>\n",
       "    <tr>\n",
       "      <th>3</th>\n",
       "      <td>Nul, preleve une commande que je n'ai jamais r...</td>\n",
       "      <td>1</td>\n",
       "      <td>2023-03-07</td>\n",
       "      <td>Bob Brico</td>\n",
       "      <td>NaN</td>\n",
       "      <td>TrustPilot</td>\n",
       "      <td>Amazon</td>\n",
       "      <td>fr</td>\n",
       "    </tr>\n",
       "    <tr>\n",
       "      <th>4</th>\n",
       "      <td>Colis soit disant livré mais jamais reçu donc ...</td>\n",
       "      <td>1</td>\n",
       "      <td>2023-03-06</td>\n",
       "      <td>Client</td>\n",
       "      <td>NaN</td>\n",
       "      <td>TrustPilot</td>\n",
       "      <td>Amazon</td>\n",
       "      <td>fr</td>\n",
       "    </tr>\n",
       "  </tbody>\n",
       "</table>\n",
       "</div>"
      ],
      "text/plain": [
       "                                         Commentaire  star        date   \n",
       "0  Colis commandé mardi 28 fevrier 23  , livraiso...     1  2023-03-07  \\\n",
       "1  Amazon avec sa politique de retour est la pire...     1  2023-03-07   \n",
       "2  Dieu sait que j'en connais des déboires avec l...     4  2023-03-07   \n",
       "3  Nul, preleve une commande que je n'ai jamais r...     1  2023-03-07   \n",
       "4  Colis soit disant livré mais jamais reçu donc ...     1  2023-03-06   \n",
       "\n",
       "         client reponse      source company langage  \n",
       "0          Toto     NaN  TrustPilot  Amazon      fr  \n",
       "1  nasri eddine     NaN  TrustPilot  Amazon      fr  \n",
       "2      Amandine     NaN  TrustPilot  Amazon      fr  \n",
       "3     Bob Brico     NaN  TrustPilot  Amazon      fr  \n",
       "4        Client     NaN  TrustPilot  Amazon      fr  "
      ]
     },
     "execution_count": 3,
     "metadata": {},
     "output_type": "execute_result"
    }
   ],
   "source": [
    "infile = os.path.join(DATA_FOLDER, \"cleaned_merged_dataset.csv\")\n",
    "df = pd.read_csv(infile, sep=\",\", encoding=\"utf-8\", engine=\"python\")\n",
    "print(\"data shape:\", df.shape, end=\"\\n\\n\")\n",
    "\n",
    "df.head()"
   ]
  },
  {
   "attachments": {},
   "cell_type": "markdown",
   "id": "b698897b",
   "metadata": {},
   "source": [
    "# Data prep"
   ]
  },
  {
   "attachments": {},
   "cell_type": "markdown",
   "id": "0df5d139",
   "metadata": {},
   "source": [
    "## Cleaning (digits, max length 20, stops words, punctuations, lower case...)"
   ]
  },
  {
   "cell_type": "code",
   "execution_count": 4,
   "id": "4036b87f",
   "metadata": {},
   "outputs": [],
   "source": [
    "def cleanReview(text):\n",
    "    pattern_email = re.compile(r\"[a-zA-Z0-9.-]+@[a-zA-Z.]+\")\n",
    "    pattern_url1 = re.compile(r\"https?://[a-zA-Z0-9./]+\")\n",
    "    pattern_url2 = re.compile(r\"www\\.[a-zA-Z0-9.-:/]+\")\n",
    "\n",
    "    text = pattern_email.sub(\" \", text)\n",
    "    text = pattern_url1.sub(\" \", text)\n",
    "    text = pattern_url2.sub(\" \", text)\n",
    "    text = re.sub(r' {2,}', \" \", text)\n",
    "    return text\n",
    "\n",
    "def preprocess_word(token):\n",
    "    if token.text.isnumeric(): return \"\"\n",
    "    if len(token.text)<2 or len(token.text)>20: return \"\"\n",
    "    if token.is_stop: return \"\"\n",
    "    if token.ent_type_ == \"PUNCT\": return \"\"\n",
    "    word = re.sub(r'[\\@\\#\\$\\*\\-\\=\\+\\~\\|\\°]', \" \", token.text)\n",
    "    word = re.sub(r' {2,}', \" \", word)\n",
    "    return word.strip()\n",
    "\n",
    "def preprocess_lemma(token):\n",
    "    if token.text.isnumeric(): return \"\"\n",
    "    if len(token.text)<2 or len(token.text)>20: return \"\"\n",
    "    if token.is_stop: return \"\"\n",
    "    if token.ent_type_ == \"PUNCT\": return \"\"\n",
    "    return token.lemma_"
   ]
  },
  {
   "cell_type": "code",
   "execution_count": 5,
   "id": "16cc3dfd",
   "metadata": {},
   "outputs": [],
   "source": [
    "nlp = spacy.load(\"fr_core_news_lg\")"
   ]
  },
  {
   "cell_type": "code",
   "execution_count": 6,
   "id": "215acf9f",
   "metadata": {},
   "outputs": [
    {
     "name": "stderr",
     "output_type": "stream",
     "text": [
      "105568it [01:31, 1153.74it/s]\n"
     ]
    },
    {
     "data": {
      "text/html": [
       "<div>\n",
       "<style scoped>\n",
       "    .dataframe tbody tr th:only-of-type {\n",
       "        vertical-align: middle;\n",
       "    }\n",
       "\n",
       "    .dataframe tbody tr th {\n",
       "        vertical-align: top;\n",
       "    }\n",
       "\n",
       "    .dataframe thead th {\n",
       "        text-align: right;\n",
       "    }\n",
       "</style>\n",
       "<table border=\"1\" class=\"dataframe\">\n",
       "  <thead>\n",
       "    <tr style=\"text-align: right;\">\n",
       "      <th></th>\n",
       "      <th>Commentaire</th>\n",
       "      <th>star</th>\n",
       "      <th>date</th>\n",
       "      <th>client</th>\n",
       "      <th>reponse</th>\n",
       "      <th>source</th>\n",
       "      <th>company</th>\n",
       "      <th>langage</th>\n",
       "      <th>cleaned_words</th>\n",
       "      <th>cleaned_lemma</th>\n",
       "    </tr>\n",
       "  </thead>\n",
       "  <tbody>\n",
       "    <tr>\n",
       "      <th>0</th>\n",
       "      <td>Colis commandé mardi 28 fevrier 23  , livraiso...</td>\n",
       "      <td>1</td>\n",
       "      <td>2023-03-07</td>\n",
       "      <td>Toto</td>\n",
       "      <td>NaN</td>\n",
       "      <td>TrustPilot</td>\n",
       "      <td>Amazon</td>\n",
       "      <td>fr</td>\n",
       "      <td>colis commandé mardi  fevrier   livraison  jeu...</td>\n",
       "      <td>colis commander mardi  fevrier   livraison  je...</td>\n",
       "    </tr>\n",
       "    <tr>\n",
       "      <th>1</th>\n",
       "      <td>Amazon avec sa politique de retour est la pire...</td>\n",
       "      <td>1</td>\n",
       "      <td>2023-03-07</td>\n",
       "      <td>nasri eddine</td>\n",
       "      <td>NaN</td>\n",
       "      <td>TrustPilot</td>\n",
       "      <td>Amazon</td>\n",
       "      <td>fr</td>\n",
       "      <td>amazon   politique     pire     contrairement ...</td>\n",
       "      <td>amazon   politique     pire     contrairement ...</td>\n",
       "    </tr>\n",
       "    <tr>\n",
       "      <th>2</th>\n",
       "      <td>Dieu sait que j'en connais des déboires avec l...</td>\n",
       "      <td>4</td>\n",
       "      <td>2023-03-07</td>\n",
       "      <td>Amandine</td>\n",
       "      <td>NaN</td>\n",
       "      <td>TrustPilot</td>\n",
       "      <td>Amazon</td>\n",
       "      <td>fr</td>\n",
       "      <td>dieu     connais  déboires   sites marchands  ...</td>\n",
       "      <td>dieu     connaître  déboire   site marchand  a...</td>\n",
       "    </tr>\n",
       "    <tr>\n",
       "      <th>3</th>\n",
       "      <td>Nul, preleve une commande que je n'ai jamais r...</td>\n",
       "      <td>1</td>\n",
       "      <td>2023-03-07</td>\n",
       "      <td>Bob Brico</td>\n",
       "      <td>NaN</td>\n",
       "      <td>TrustPilot</td>\n",
       "      <td>Amazon</td>\n",
       "      <td>fr</td>\n",
       "      <td>preleve  commande     jamais reçu   service ...</td>\n",
       "      <td>prelev  commande     jamais recevoir   servi...</td>\n",
       "    </tr>\n",
       "    <tr>\n",
       "      <th>4</th>\n",
       "      <td>Colis soit disant livré mais jamais reçu donc ...</td>\n",
       "      <td>1</td>\n",
       "      <td>2023-03-06</td>\n",
       "      <td>Client</td>\n",
       "      <td>NaN</td>\n",
       "      <td>TrustPilot</td>\n",
       "      <td>Amazon</td>\n",
       "      <td>fr</td>\n",
       "      <td>colis  disant livré  jamais reçu  perdu non re...</td>\n",
       "      <td>colis  dire livrer  jamais recevoir  perdre no...</td>\n",
       "    </tr>\n",
       "  </tbody>\n",
       "</table>\n",
       "</div>"
      ],
      "text/plain": [
       "                                         Commentaire  star        date   \n",
       "0  Colis commandé mardi 28 fevrier 23  , livraiso...     1  2023-03-07  \\\n",
       "1  Amazon avec sa politique de retour est la pire...     1  2023-03-07   \n",
       "2  Dieu sait que j'en connais des déboires avec l...     4  2023-03-07   \n",
       "3  Nul, preleve une commande que je n'ai jamais r...     1  2023-03-07   \n",
       "4  Colis soit disant livré mais jamais reçu donc ...     1  2023-03-06   \n",
       "\n",
       "         client reponse      source company langage   \n",
       "0          Toto     NaN  TrustPilot  Amazon      fr  \\\n",
       "1  nasri eddine     NaN  TrustPilot  Amazon      fr   \n",
       "2      Amandine     NaN  TrustPilot  Amazon      fr   \n",
       "3     Bob Brico     NaN  TrustPilot  Amazon      fr   \n",
       "4        Client     NaN  TrustPilot  Amazon      fr   \n",
       "\n",
       "                                       cleaned_words   \n",
       "0  colis commandé mardi  fevrier   livraison  jeu...  \\\n",
       "1  amazon   politique     pire     contrairement ...   \n",
       "2  dieu     connais  déboires   sites marchands  ...   \n",
       "3    preleve  commande     jamais reçu   service ...   \n",
       "4  colis  disant livré  jamais reçu  perdu non re...   \n",
       "\n",
       "                                       cleaned_lemma  \n",
       "0  colis commander mardi  fevrier   livraison  je...  \n",
       "1  amazon   politique     pire     contrairement ...  \n",
       "2  dieu     connaître  déboire   site marchand  a...  \n",
       "3    prelev  commande     jamais recevoir   servi...  \n",
       "4  colis  dire livrer  jamais recevoir  perdre no...  "
      ]
     },
     "execution_count": 6,
     "metadata": {},
     "output_type": "execute_result"
    }
   ],
   "source": [
    "gen = nlp.pipe(df.Commentaire.str.lower().map(cleanReview), disable=[\"tagger\", \"parser\", \"attribute_ruler\", \"textcat\"], n_process=5, batch_size=100)\n",
    "\n",
    "liste_lemma, list_words = [], []\n",
    "for doc in tqdm(gen) : \n",
    "    text_preprocess = \" \".join(preprocess_word(token) for token in doc)\n",
    "    list_words.append(text_preprocess)\n",
    "\n",
    "    text_preprocess = \" \".join(preprocess_lemma(token) for token in doc)\n",
    "    liste_lemma.append(text_preprocess)\n",
    "\n",
    "df['cleaned_words'] = list_words\n",
    "df['cleaned_lemma'] = liste_lemma\n",
    "df.head(5)"
   ]
  },
  {
   "cell_type": "code",
   "execution_count": 7,
   "id": "c53359f2",
   "metadata": {},
   "outputs": [
    {
     "data": {
      "text/plain": [
       "Commentaire          0\n",
       "star                 0\n",
       "date                 0\n",
       "client               0\n",
       "reponse          80905\n",
       "source               0\n",
       "company              0\n",
       "langage              0\n",
       "cleaned_words        0\n",
       "cleaned_lemma        0\n",
       "dtype: int64"
      ]
     },
     "execution_count": 7,
     "metadata": {},
     "output_type": "execute_result"
    }
   ],
   "source": [
    "df.isna().sum()"
   ]
  },
  {
   "cell_type": "code",
   "execution_count": 57,
   "id": "695d0941",
   "metadata": {},
   "outputs": [],
   "source": [
    "df[\"cleaned_lemma\"] = df[\"cleaned_lemma\"].str.strip()\n",
    "df[\"cleaned_words\"] = df[\"cleaned_words\"].str.strip()"
   ]
  },
  {
   "cell_type": "code",
   "execution_count": 58,
   "id": "5b670fc7",
   "metadata": {},
   "outputs": [
    {
     "name": "stdout",
     "output_type": "stream",
     "text": [
      "empty processed texts: 57\n"
     ]
    }
   ],
   "source": [
    "mask = (df[\"cleaned_words\"].str.strip().str.len()==0) | (df[\"cleaned_lemma\"].str.strip().str.len()==0)\n",
    "print(\"empty processed texts:\", mask.sum())"
   ]
  },
  {
   "cell_type": "code",
   "execution_count": 59,
   "id": "df1f8fed",
   "metadata": {},
   "outputs": [
    {
     "name": "stdout",
     "output_type": "stream",
     "text": [
      "empty processed texts: 0\n"
     ]
    }
   ],
   "source": [
    "df = pd.DataFrame(df[~mask])\n",
    "\n",
    "mask = (df[\"cleaned_words\"].str.strip().str.len()==0) | (df[\"cleaned_lemma\"].str.strip().str.len()==0)\n",
    "print(\"empty processed texts:\", mask.sum())"
   ]
  },
  {
   "cell_type": "code",
   "execution_count": 60,
   "id": "e398bddc",
   "metadata": {},
   "outputs": [
    {
     "data": {
      "text/html": [
       "<div>\n",
       "<style scoped>\n",
       "    .dataframe tbody tr th:only-of-type {\n",
       "        vertical-align: middle;\n",
       "    }\n",
       "\n",
       "    .dataframe tbody tr th {\n",
       "        vertical-align: top;\n",
       "    }\n",
       "\n",
       "    .dataframe thead th {\n",
       "        text-align: right;\n",
       "    }\n",
       "</style>\n",
       "<table border=\"1\" class=\"dataframe\">\n",
       "  <thead>\n",
       "    <tr style=\"text-align: right;\">\n",
       "      <th></th>\n",
       "      <th>Commentaire</th>\n",
       "      <th>star</th>\n",
       "      <th>date</th>\n",
       "      <th>client</th>\n",
       "      <th>reponse</th>\n",
       "      <th>source</th>\n",
       "      <th>company</th>\n",
       "      <th>langage</th>\n",
       "      <th>cleaned_words</th>\n",
       "      <th>cleaned_lemma</th>\n",
       "      <th>Sentiment</th>\n",
       "    </tr>\n",
       "  </thead>\n",
       "  <tbody>\n",
       "    <tr>\n",
       "      <th>0</th>\n",
       "      <td>Colis commandé mardi 28 fevrier 23  , livraiso...</td>\n",
       "      <td>1</td>\n",
       "      <td>2023-03-07</td>\n",
       "      <td>Toto</td>\n",
       "      <td>NaN</td>\n",
       "      <td>TrustPilot</td>\n",
       "      <td>Amazon</td>\n",
       "      <td>fr</td>\n",
       "      <td>colis commandé mardi  fevrier   livraison  jeu...</td>\n",
       "      <td>colis commander mardi  fevrier   livraison  je...</td>\n",
       "      <td>__label__NEGATIVE</td>\n",
       "    </tr>\n",
       "    <tr>\n",
       "      <th>1</th>\n",
       "      <td>Amazon avec sa politique de retour est la pire...</td>\n",
       "      <td>1</td>\n",
       "      <td>2023-03-07</td>\n",
       "      <td>nasri eddine</td>\n",
       "      <td>NaN</td>\n",
       "      <td>TrustPilot</td>\n",
       "      <td>Amazon</td>\n",
       "      <td>fr</td>\n",
       "      <td>amazon   politique     pire     contrairement ...</td>\n",
       "      <td>amazon   politique     pire     contrairement ...</td>\n",
       "      <td>__label__NEGATIVE</td>\n",
       "    </tr>\n",
       "    <tr>\n",
       "      <th>2</th>\n",
       "      <td>Dieu sait que j'en connais des déboires avec l...</td>\n",
       "      <td>4</td>\n",
       "      <td>2023-03-07</td>\n",
       "      <td>Amandine</td>\n",
       "      <td>NaN</td>\n",
       "      <td>TrustPilot</td>\n",
       "      <td>Amazon</td>\n",
       "      <td>fr</td>\n",
       "      <td>dieu     connais  déboires   sites marchands  ...</td>\n",
       "      <td>dieu     connaître  déboire   site marchand  a...</td>\n",
       "      <td>__label__POSITIVE</td>\n",
       "    </tr>\n",
       "    <tr>\n",
       "      <th>3</th>\n",
       "      <td>Nul, preleve une commande que je n'ai jamais r...</td>\n",
       "      <td>1</td>\n",
       "      <td>2023-03-07</td>\n",
       "      <td>Bob Brico</td>\n",
       "      <td>NaN</td>\n",
       "      <td>TrustPilot</td>\n",
       "      <td>Amazon</td>\n",
       "      <td>fr</td>\n",
       "      <td>preleve  commande     jamais reçu   service cl...</td>\n",
       "      <td>prelev  commande     jamais recevoir   service...</td>\n",
       "      <td>__label__NEGATIVE</td>\n",
       "    </tr>\n",
       "    <tr>\n",
       "      <th>4</th>\n",
       "      <td>Colis soit disant livré mais jamais reçu donc ...</td>\n",
       "      <td>1</td>\n",
       "      <td>2023-03-06</td>\n",
       "      <td>Client</td>\n",
       "      <td>NaN</td>\n",
       "      <td>TrustPilot</td>\n",
       "      <td>Amazon</td>\n",
       "      <td>fr</td>\n",
       "      <td>colis  disant livré  jamais reçu  perdu non re...</td>\n",
       "      <td>colis  dire livrer  jamais recevoir  perdre no...</td>\n",
       "      <td>__label__NEGATIVE</td>\n",
       "    </tr>\n",
       "  </tbody>\n",
       "</table>\n",
       "</div>"
      ],
      "text/plain": [
       "                                         Commentaire  star        date   \n",
       "0  Colis commandé mardi 28 fevrier 23  , livraiso...     1  2023-03-07  \\\n",
       "1  Amazon avec sa politique de retour est la pire...     1  2023-03-07   \n",
       "2  Dieu sait que j'en connais des déboires avec l...     4  2023-03-07   \n",
       "3  Nul, preleve une commande que je n'ai jamais r...     1  2023-03-07   \n",
       "4  Colis soit disant livré mais jamais reçu donc ...     1  2023-03-06   \n",
       "\n",
       "         client reponse      source company langage   \n",
       "0          Toto     NaN  TrustPilot  Amazon      fr  \\\n",
       "1  nasri eddine     NaN  TrustPilot  Amazon      fr   \n",
       "2      Amandine     NaN  TrustPilot  Amazon      fr   \n",
       "3     Bob Brico     NaN  TrustPilot  Amazon      fr   \n",
       "4        Client     NaN  TrustPilot  Amazon      fr   \n",
       "\n",
       "                                       cleaned_words   \n",
       "0  colis commandé mardi  fevrier   livraison  jeu...  \\\n",
       "1  amazon   politique     pire     contrairement ...   \n",
       "2  dieu     connais  déboires   sites marchands  ...   \n",
       "3  preleve  commande     jamais reçu   service cl...   \n",
       "4  colis  disant livré  jamais reçu  perdu non re...   \n",
       "\n",
       "                                       cleaned_lemma          Sentiment  \n",
       "0  colis commander mardi  fevrier   livraison  je...  __label__NEGATIVE  \n",
       "1  amazon   politique     pire     contrairement ...  __label__NEGATIVE  \n",
       "2  dieu     connaître  déboire   site marchand  a...  __label__POSITIVE  \n",
       "3  prelev  commande     jamais recevoir   service...  __label__NEGATIVE  \n",
       "4  colis  dire livrer  jamais recevoir  perdre no...  __label__NEGATIVE  "
      ]
     },
     "execution_count": 60,
     "metadata": {},
     "output_type": "execute_result"
    }
   ],
   "source": [
    "df.head(5)"
   ]
  },
  {
   "cell_type": "code",
   "execution_count": 61,
   "id": "91c3a037",
   "metadata": {},
   "outputs": [],
   "source": [
    "outfile = os.path.join(DATA_FOLDER, \"processed_dataset.csv\")\n",
    "df.to_csv(outfile, sep=\",\", encoding=\"utf-8\", quoting=csv.QUOTE_ALL, index=False)"
   ]
  },
  {
   "attachments": {},
   "cell_type": "markdown",
   "id": "64bb9412",
   "metadata": {},
   "source": [
    "# DATASET SPLIT\n",
    "## Binary classes"
   ]
  },
  {
   "cell_type": "code",
   "execution_count": 62,
   "id": "aefedf82",
   "metadata": {},
   "outputs": [],
   "source": [
    "RATIO_DSPLIT = 0.8"
   ]
  },
  {
   "cell_type": "code",
   "execution_count": 63,
   "id": "46ba365b",
   "metadata": {},
   "outputs": [
    {
     "name": "stdout",
     "output_type": "stream",
     "text": [
      "train set: (63459, 11)\n",
      "val set: (15865, 11)\n",
      "test set: (19832, 11)\n"
     ]
    }
   ],
   "source": [
    "df_train = pd.DataFrame()\n",
    "df_val= pd.DataFrame()\n",
    "df_test = pd.DataFrame()\n",
    "\n",
    "for sentiment in [\"__label__NEGATIVE\", \"__label__POSITIVE\"]:\n",
    "    mask = (df[\"Sentiment\"]==sentiment)\n",
    "    tmp = df.loc[mask].sample(frac=1)\n",
    "\n",
    "    split_val_index = int(tmp.shape[0] * RATIO_DSPLIT*RATIO_DSPLIT)\n",
    "    split_test_index = int(tmp.shape[0] * RATIO_DSPLIT)\n",
    "\n",
    "    df_train = pd.concat((df_train, tmp.iloc[:split_val_index]))\n",
    "    df_val = pd.concat((df_val, tmp.iloc[split_val_index:split_test_index]))\n",
    "    df_test = pd.concat((df_test, tmp.iloc[split_test_index:]))\n",
    "\n",
    "df_train.reset_index(drop=True, inplace=True)\n",
    "df_val.reset_index(drop=True, inplace=True)\n",
    "df_test.reset_index(drop=True, inplace=True)\n",
    "\n",
    "print(\"train set:\", df_train.shape)\n",
    "print(\"val set:\", df_val.shape)\n",
    "print(\"test set:\", df_test.shape)"
   ]
  },
  {
   "cell_type": "code",
   "execution_count": 65,
   "id": "99ea4dbe",
   "metadata": {},
   "outputs": [],
   "source": [
    "outfile_2cls_train = os.path.join(OUT_FOLDER, \"train_2classes.csv\")\n",
    "df_train.to_csv(outfile_2cls_train, sep=\",\", encoding=\"utf-8\", quoting=csv.QUOTE_ALL, index=False)\n",
    "\n",
    "outfile_2cls_val = os.path.join(OUT_FOLDER, \"val_2classes.csv\")\n",
    "df_val.to_csv(outfile_2cls_val, sep=\",\", encoding=\"utf-8\", quoting=csv.QUOTE_ALL, index=False)\n",
    "\n",
    "outfile_2cls_test = os.path.join(OUT_FOLDER, \"test_2classes.csv\")\n",
    "df_test.to_csv(outfile_2cls_test, sep=\",\", encoding=\"utf-8\", quoting=csv.QUOTE_ALL, index=False)"
   ]
  },
  {
   "cell_type": "code",
   "execution_count": 66,
   "id": "a1822762",
   "metadata": {},
   "outputs": [
    {
     "data": {
      "image/png": "[encoded data removed]",
      "text/plain": [
       "<Figure size 1500x500 with 3 Axes>"
      ]
     },
     "metadata": {},
     "output_type": "display_data"
    }
   ],
   "source": [
    "# Création du subplot\n",
    "fig, axs = plt.subplots(1, 3, figsize=(15, 5))\n",
    "\n",
    "# Plot de la distribution des classes dans le jeu de train\n",
    "axs[0].hist(df_train[\"Sentiment\"], color='blue', alpha=0.5)\n",
    "axs[0].set_title('Train classes distribution')\n",
    "\n",
    "# Plot de la distribution des classes dans le jeu de dev\n",
    "axs[2].hist(df_val[\"Sentiment\"], color='red', alpha=0.5)\n",
    "axs[2].set_title('Dev classes distribution')\n",
    "\n",
    "# Plot de la distribution des classes dans le jeu de test\n",
    "axs[1].hist(df_test[\"Sentiment\"], color='green', alpha=0.5,)\n",
    "axs[1].set_title('Test classes distribution')\n",
    "\n",
    "# Affichage du subplot\n",
    "plt.show()"
   ]
  },
  {
   "attachments": {},
   "cell_type": "markdown",
   "id": "1382c2ce",
   "metadata": {},
   "source": [
    "## 3 Classes"
   ]
  },
  {
   "cell_type": "code",
   "execution_count": 67,
   "id": "f86e0b9d",
   "metadata": {},
   "outputs": [
    {
     "name": "stdout",
     "output_type": "stream",
     "text": [
      "train set: (67526, 11)\n",
      "val set: (16882, 11)\n",
      "test set: (21103, 11)\n"
     ]
    }
   ],
   "source": [
    "df_train = pd.DataFrame()\n",
    "df_val= pd.DataFrame()\n",
    "df_test = pd.DataFrame()\n",
    "\n",
    "for sentiment in df[\"Sentiment\"].unique():\n",
    "    mask = (df[\"Sentiment\"]==sentiment)\n",
    "    tmp = df.loc[mask].sample(frac=1)\n",
    "\n",
    "    split_val_index = int(tmp.shape[0] * RATIO_DSPLIT*RATIO_DSPLIT)\n",
    "    split_test_index = int(tmp.shape[0] * RATIO_DSPLIT)\n",
    "\n",
    "    df_train = pd.concat((df_train, tmp.iloc[:split_val_index]))\n",
    "    df_val = pd.concat((df_val, tmp.iloc[split_val_index:split_test_index]))\n",
    "    df_test = pd.concat((df_test, tmp.iloc[split_test_index:]))\n",
    "\n",
    "df_train.reset_index(drop=True, inplace=True)\n",
    "df_val.reset_index(drop=True, inplace=True)\n",
    "df_test.reset_index(drop=True, inplace=True)\n",
    "\n",
    "print(\"train set:\", df_train.shape)\n",
    "print(\"val set:\", df_val.shape)\n",
    "print(\"test set:\", df_test.shape)"
   ]
  },
  {
   "cell_type": "code",
   "execution_count": 68,
   "id": "7e86542f",
   "metadata": {},
   "outputs": [],
   "source": [
    "outfile_3cls_train = os.path.join(OUT_FOLDER, \"train_3classes.csv\")\n",
    "df_train.to_csv(outfile_3cls_train, sep=\",\", encoding=\"utf-8\", quoting=csv.QUOTE_ALL, index=False)\n",
    "\n",
    "outfile_3cls_val = os.path.join(OUT_FOLDER, \"val_3classes.csv\")\n",
    "df_val.to_csv(outfile_3cls_val, sep=\",\", encoding=\"utf-8\", quoting=csv.QUOTE_ALL, index=False)\n",
    "\n",
    "outfile_3cls_test = os.path.join(OUT_FOLDER, \"test_3classes.csv\")\n",
    "df_test.to_csv(outfile_3cls_test, sep=\",\", encoding=\"utf-8\", quoting=csv.QUOTE_ALL, index=False)"
   ]
  },
  {
   "cell_type": "code",
   "execution_count": 69,
   "id": "7cb8e159",
   "metadata": {},
   "outputs": [
    {
     "data": {
      "image/png": "[encoded data removed]",
      "text/plain": [
       "<Figure size 1500x500 with 3 Axes>"
      ]
     },
     "metadata": {},
     "output_type": "display_data"
    }
   ],
   "source": [
    "# Création du subplot\n",
    "fig, axs = plt.subplots(1, 3, figsize=(15, 5))\n",
    "\n",
    "# Plot de la distribution des classes dans le jeu de train\n",
    "axs[0].hist(df_train[\"Sentiment\"], color='blue', alpha=0.5)\n",
    "axs[0].set_title('Train classes distribution')\n",
    "\n",
    "# Plot de la distribution des classes dans le jeu de dev\n",
    "axs[2].hist(df_val[\"Sentiment\"], color='red', alpha=0.5)\n",
    "axs[2].set_title('Dev classes distribution')\n",
    "\n",
    "# Plot de la distribution des classes dans le jeu de test\n",
    "axs[1].hist(df_test[\"Sentiment\"], color='green', alpha=0.5,)\n",
    "axs[1].set_title('Test classes distribution')\n",
    "\n",
    "# Affichage du subplot\n",
    "plt.show()"
   ]
  },
  {
   "attachments": {},
   "cell_type": "markdown",
   "id": "fcc69071",
   "metadata": {},
   "source": [
    "## 5 classes"
   ]
  },
  {
   "cell_type": "code",
   "execution_count": 70,
   "id": "4feac44f",
   "metadata": {},
   "outputs": [
    {
     "name": "stdout",
     "output_type": "stream",
     "text": [
      "train set: (67525, 11)\n",
      "val set: (16882, 11)\n",
      "test set: (21104, 11)\n"
     ]
    }
   ],
   "source": [
    "df_train = pd.DataFrame()\n",
    "df_val= pd.DataFrame()\n",
    "df_test = pd.DataFrame()\n",
    "\n",
    "for star in df[\"star\"].unique():\n",
    "    mask = (df[\"star\"]==star)\n",
    "    tmp = df.loc[mask].sample(frac=1)\n",
    "\n",
    "    split_val_index = int(tmp.shape[0] * RATIO_DSPLIT*RATIO_DSPLIT)\n",
    "    split_test_index = int(tmp.shape[0] * RATIO_DSPLIT)\n",
    "\n",
    "    df_train = pd.concat((df_train, tmp.iloc[:split_val_index]))\n",
    "    df_val = pd.concat((df_val, tmp.iloc[split_val_index:split_test_index]))\n",
    "    df_test = pd.concat((df_test, tmp.iloc[split_test_index:]))\n",
    "\n",
    "df_train.reset_index(drop=True, inplace=True)\n",
    "df_val.reset_index(drop=True, inplace=True)\n",
    "df_test.reset_index(drop=True, inplace=True)\n",
    "\n",
    "print(\"train set:\", df_train.shape)\n",
    "print(\"val set:\", df_val.shape)\n",
    "print(\"test set:\", df_test.shape)"
   ]
  },
  {
   "cell_type": "code",
   "execution_count": 71,
   "id": "e186e65c",
   "metadata": {},
   "outputs": [],
   "source": [
    "outfile_5cls_train = os.path.join(OUT_FOLDER, \"train_5classes.csv\")\n",
    "df_train.to_csv(outfile_5cls_train, sep=\",\", encoding=\"utf-8\", quoting=csv.QUOTE_ALL, index=False)\n",
    "\n",
    "outfile_5cls_val = os.path.join(OUT_FOLDER, \"val_5classes.csv\")\n",
    "df_val.to_csv(outfile_5cls_val, sep=\",\", encoding=\"utf-8\", quoting=csv.QUOTE_ALL, index=False)\n",
    "\n",
    "outfile_5cls_test = os.path.join(OUT_FOLDER, \"test_5classes.csv\")\n",
    "df_test.to_csv(outfile_5cls_test, sep=\",\", encoding=\"utf-8\", quoting=csv.QUOTE_ALL, index=False)"
   ]
  },
  {
   "cell_type": "code",
   "execution_count": 72,
   "id": "b337a4d3",
   "metadata": {},
   "outputs": [
    {
     "data": {
      "image/png": "[encoded data removed]",
      "text/plain": [
       "<Figure size 1500x500 with 3 Axes>"
      ]
     },
     "metadata": {},
     "output_type": "display_data"
    }
   ],
   "source": [
    "# Création du subplot\n",
    "fig, axs = plt.subplots(1, 3, figsize=(15, 5))\n",
    "\n",
    "# Plot de la distribution des classes dans le jeu de train\n",
    "axs[0].hist(df_train[\"star\"], color='blue', alpha=0.5)\n",
    "axs[0].set_title('Train classes distribution')\n",
    "\n",
    "# Plot de la distribution des classes dans le jeu de dev\n",
    "axs[2].hist(df_val[\"star\"], color='red', alpha=0.5)\n",
    "axs[2].set_title('Dev classes distribution')\n",
    "\n",
    "# Plot de la distribution des classes dans le jeu de test\n",
    "axs[1].hist(df_test[\"star\"], color='green', alpha=0.5,)\n",
    "axs[1].set_title('Test classes distribution')\n",
    "\n",
    "# Affichage du subplot\n",
    "plt.show()"
   ]
  },
  {
   "cell_type": "code",
   "execution_count": null,
   "id": "9fcdab28",
   "metadata": {},
   "outputs": [],
   "source": []
  }
 ],
 "metadata": {
  "kernelspec": {
   "display_name": "Python 3 (ipykernel)",
   "language": "python",
   "name": "python3"
  },
  "language_info": {
   "codemirror_mode": {
    "name": "ipython",
    "version": 3
   },
   "file_extension": ".py",
   "mimetype": "text/x-python",
   "name": "python",
   "nbconvert_exporter": "python",
   "pygments_lexer": "ipython3",
   "version": "3.9.16"
  }
 },
 "nbformat": 4,
 "nbformat_minor": 5
}
