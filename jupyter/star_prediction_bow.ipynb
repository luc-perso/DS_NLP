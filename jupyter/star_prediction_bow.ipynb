{
 "cells": [
  {
   "attachments": {},
   "cell_type": "markdown",
   "id": "a76c96aa",
   "metadata": {},
   "source": [
    "<table style=\"border:none; border-collapse:collapse; cellspacing:0; cellpadding:0\">\n",
    "    <tr>\n",
    "        <td width=30% style=\"border:none\">\n",
    "            <img src=\"logo_datascientest.png\" width=\"100%\"/>\n",
    "        </td>\n",
    "        <td style=\"border:none\">\n",
    "            <center>\n",
    "                <h1>DS project: Customer satisfaction</h1>\n",
    "                <h2>Data exploration</h2>\n",
    "            </center>\n",
    "        </td>\n",
    "    </tr>\n",
    "</table>\n",
    "\n",
    "<hr>\n",
    "\n",
    "**Date** : 2023\n",
    "\n",
    "**Author** : Elie MAZE, Luc Thomas\n",
    "\n",
    "**Goal** : Data exploration, analysis"
   ]
  },
  {
   "cell_type": "code",
   "execution_count": 75,
   "id": "d4dc1580",
   "metadata": {},
   "outputs": [
    {
     "name": "stdout",
     "output_type": "stream",
     "text": [
      "The autoreload extension is already loaded. To reload it, use:\n",
      "  %reload_ext autoreload\n"
     ]
    }
   ],
   "source": [
    "import _mypath\n",
    "import os\n",
    "import shap\n",
    "import pandas as pd\n",
    "import re\n",
    "import fasttext\n",
    "import spacy \n",
    "from sklearn.model_selection import train_test_split\n",
    "from functools import partial\n",
    "import csv\n",
    "from sklearn.metrics import confusion_matrix, classification_report\n",
    "import numpy as np\n",
    "from tqdm import tqdm\n",
    "from sklearn.feature_extraction.text import CountVectorizer\n",
    "from sklearn.ensemble import RandomForestClassifier\n",
    "from sklearn.model_selection import RandomizedSearchCV\n",
    "from sklearn.feature_extraction.text import TfidfVectorizer\n",
    "from scipy.stats import randint\n",
    "\n",
    "import nltk\n",
    "nltk.data.path.append(\"/data/DATALAB_PAU/18_HPC/nltk_data\")\n",
    "\n",
    "from nltk.corpus import stopwords\n",
    "\n",
    "%matplotlib inline\n",
    "import seaborn as sns\n",
    "import matplotlib.pyplot as plt\n",
    "\n",
    "%load_ext autoreload\n",
    "%autoreload 1"
   ]
  },
  {
   "cell_type": "code",
   "execution_count": 2,
   "id": "8d19f4d8",
   "metadata": {},
   "outputs": [],
   "source": [
    "DATA_FOLDER = \"/data/DATALAB_PAU/20_projects/j0215602/DS_NLP/input/data\""
   ]
  },
  {
   "attachments": {},
   "cell_type": "markdown",
   "id": "2d628fb8",
   "metadata": {},
   "source": [
    "# Data loading"
   ]
  },
  {
   "cell_type": "code",
   "execution_count": 3,
   "id": "58b3b8f1",
   "metadata": {},
   "outputs": [
    {
     "name": "stdout",
     "output_type": "stream",
     "text": [
      "data shape: (105568, 8)\n",
      "\n"
     ]
    },
    {
     "data": {
      "text/html": [
       "<div>\n",
       "<style scoped>\n",
       "    .dataframe tbody tr th:only-of-type {\n",
       "        vertical-align: middle;\n",
       "    }\n",
       "\n",
       "    .dataframe tbody tr th {\n",
       "        vertical-align: top;\n",
       "    }\n",
       "\n",
       "    .dataframe thead th {\n",
       "        text-align: right;\n",
       "    }\n",
       "</style>\n",
       "<table border=\"1\" class=\"dataframe\">\n",
       "  <thead>\n",
       "    <tr style=\"text-align: right;\">\n",
       "      <th></th>\n",
       "      <th>Commentaire</th>\n",
       "      <th>star</th>\n",
       "      <th>date</th>\n",
       "      <th>client</th>\n",
       "      <th>reponse</th>\n",
       "      <th>source</th>\n",
       "      <th>company</th>\n",
       "      <th>langage</th>\n",
       "    </tr>\n",
       "  </thead>\n",
       "  <tbody>\n",
       "    <tr>\n",
       "      <th>0</th>\n",
       "      <td>Colis commandé mardi 28 fevrier 23  , livraiso...</td>\n",
       "      <td>1</td>\n",
       "      <td>2023-03-07</td>\n",
       "      <td>Toto</td>\n",
       "      <td>NaN</td>\n",
       "      <td>TrustPilot</td>\n",
       "      <td>Amazon</td>\n",
       "      <td>fr</td>\n",
       "    </tr>\n",
       "    <tr>\n",
       "      <th>1</th>\n",
       "      <td>Amazon avec sa politique de retour est la pire...</td>\n",
       "      <td>1</td>\n",
       "      <td>2023-03-07</td>\n",
       "      <td>nasri eddine</td>\n",
       "      <td>NaN</td>\n",
       "      <td>TrustPilot</td>\n",
       "      <td>Amazon</td>\n",
       "      <td>fr</td>\n",
       "    </tr>\n",
       "    <tr>\n",
       "      <th>2</th>\n",
       "      <td>Dieu sait que j'en connais des déboires avec l...</td>\n",
       "      <td>4</td>\n",
       "      <td>2023-03-07</td>\n",
       "      <td>Amandine</td>\n",
       "      <td>NaN</td>\n",
       "      <td>TrustPilot</td>\n",
       "      <td>Amazon</td>\n",
       "      <td>fr</td>\n",
       "    </tr>\n",
       "    <tr>\n",
       "      <th>3</th>\n",
       "      <td>Nul, preleve une commande que je n'ai jamais r...</td>\n",
       "      <td>1</td>\n",
       "      <td>2023-03-07</td>\n",
       "      <td>Bob Brico</td>\n",
       "      <td>NaN</td>\n",
       "      <td>TrustPilot</td>\n",
       "      <td>Amazon</td>\n",
       "      <td>fr</td>\n",
       "    </tr>\n",
       "    <tr>\n",
       "      <th>4</th>\n",
       "      <td>Colis soit disant livré mais jamais reçu donc ...</td>\n",
       "      <td>1</td>\n",
       "      <td>2023-03-06</td>\n",
       "      <td>Client</td>\n",
       "      <td>NaN</td>\n",
       "      <td>TrustPilot</td>\n",
       "      <td>Amazon</td>\n",
       "      <td>fr</td>\n",
       "    </tr>\n",
       "  </tbody>\n",
       "</table>\n",
       "</div>"
      ],
      "text/plain": [
       "                                         Commentaire  star        date   \n",
       "0  Colis commandé mardi 28 fevrier 23  , livraiso...     1  2023-03-07  \\\n",
       "1  Amazon avec sa politique de retour est la pire...     1  2023-03-07   \n",
       "2  Dieu sait que j'en connais des déboires avec l...     4  2023-03-07   \n",
       "3  Nul, preleve une commande que je n'ai jamais r...     1  2023-03-07   \n",
       "4  Colis soit disant livré mais jamais reçu donc ...     1  2023-03-06   \n",
       "\n",
       "         client reponse      source company langage  \n",
       "0          Toto     NaN  TrustPilot  Amazon      fr  \n",
       "1  nasri eddine     NaN  TrustPilot  Amazon      fr  \n",
       "2      Amandine     NaN  TrustPilot  Amazon      fr  \n",
       "3     Bob Brico     NaN  TrustPilot  Amazon      fr  \n",
       "4        Client     NaN  TrustPilot  Amazon      fr  "
      ]
     },
     "execution_count": 3,
     "metadata": {},
     "output_type": "execute_result"
    }
   ],
   "source": [
    "infile = os.path.join(\"../input/data/cleaned_merged_dataset.csv\")\n",
    "df = pd.read_csv(infile, sep=\",\", encoding=\"utf-8\", engine=\"python\")\n",
    "print(\"data shape:\", df.shape, end=\"\\n\\n\")\n",
    "\n",
    "df.head()"
   ]
  },
  {
   "attachments": {},
   "cell_type": "markdown",
   "id": "b698897b",
   "metadata": {},
   "source": [
    "# Data prep"
   ]
  },
  {
   "attachments": {},
   "cell_type": "markdown",
   "id": "0df5d139",
   "metadata": {},
   "source": [
    "## Cleaning (digits, max length 20, stops words, punctuations, lower case...)"
   ]
  },
  {
   "cell_type": "code",
   "execution_count": 4,
   "id": "16cc3dfd",
   "metadata": {},
   "outputs": [],
   "source": [
    "nlp = spacy.load(\"fr_core_news_lg\")"
   ]
  },
  {
   "cell_type": "code",
   "execution_count": 5,
   "id": "4036b87f",
   "metadata": {},
   "outputs": [],
   "source": [
    "def cleanReview(text):\n",
    "    pattern_email = re.compile(r\"[a-zA-Z0-9.-]+@[a-zA-Z.]+\")\n",
    "    pattern_url1 = re.compile(r\"https?://[a-zA-Z0-9./]+\")\n",
    "    pattern_url2 = re.compile(r\"www\\.[a-zA-Z0-9.-:/]+\")\n",
    "\n",
    "    text = pattern_email.sub(\" \", text)\n",
    "    text = pattern_url1.sub(\" \", text)\n",
    "    text = pattern_url2.sub(\" \", text)\n",
    "    text = re.sub(r' {2,}', \" \", text)\n",
    "    return text\n",
    "\n",
    "def preprocess(token):\n",
    "    if token.text.isnumeric(): return \"\"\n",
    "    if len(token.text)<2 or len(token.text)>20: return \"\"\n",
    "    if token.is_stop: return \"\"\n",
    "    if token.ent_type_ == \"PUNCT\": return \"\"\n",
    "    return token.lemma_"
   ]
  },
  {
   "cell_type": "code",
   "execution_count": 8,
   "id": "215acf9f",
   "metadata": {},
   "outputs": [
    {
     "name": "stderr",
     "output_type": "stream",
     "text": [
      "105568it [01:26, 1218.30it/s]\n"
     ]
    },
    {
     "data": {
      "text/html": [
       "<div>\n",
       "<style scoped>\n",
       "    .dataframe tbody tr th:only-of-type {\n",
       "        vertical-align: middle;\n",
       "    }\n",
       "\n",
       "    .dataframe tbody tr th {\n",
       "        vertical-align: top;\n",
       "    }\n",
       "\n",
       "    .dataframe thead th {\n",
       "        text-align: right;\n",
       "    }\n",
       "</style>\n",
       "<table border=\"1\" class=\"dataframe\">\n",
       "  <thead>\n",
       "    <tr style=\"text-align: right;\">\n",
       "      <th></th>\n",
       "      <th>Commentaire</th>\n",
       "      <th>star</th>\n",
       "      <th>date</th>\n",
       "      <th>client</th>\n",
       "      <th>reponse</th>\n",
       "      <th>source</th>\n",
       "      <th>company</th>\n",
       "      <th>langage</th>\n",
       "      <th>text_preprocess</th>\n",
       "    </tr>\n",
       "  </thead>\n",
       "  <tbody>\n",
       "    <tr>\n",
       "      <th>0</th>\n",
       "      <td>Colis commandé mardi 28 fevrier 23  , livraiso...</td>\n",
       "      <td>1</td>\n",
       "      <td>2023-03-07</td>\n",
       "      <td>Toto</td>\n",
       "      <td>NaN</td>\n",
       "      <td>TrustPilot</td>\n",
       "      <td>Amazon</td>\n",
       "      <td>fr</td>\n",
       "      <td>colis commander mardi  fevrier   livraison  je...</td>\n",
       "    </tr>\n",
       "    <tr>\n",
       "      <th>1</th>\n",
       "      <td>Amazon avec sa politique de retour est la pire...</td>\n",
       "      <td>1</td>\n",
       "      <td>2023-03-07</td>\n",
       "      <td>nasri eddine</td>\n",
       "      <td>NaN</td>\n",
       "      <td>TrustPilot</td>\n",
       "      <td>Amazon</td>\n",
       "      <td>fr</td>\n",
       "      <td>amazon   politique     pire     contrairement ...</td>\n",
       "    </tr>\n",
       "    <tr>\n",
       "      <th>2</th>\n",
       "      <td>Dieu sait que j'en connais des déboires avec l...</td>\n",
       "      <td>4</td>\n",
       "      <td>2023-03-07</td>\n",
       "      <td>Amandine</td>\n",
       "      <td>NaN</td>\n",
       "      <td>TrustPilot</td>\n",
       "      <td>Amazon</td>\n",
       "      <td>fr</td>\n",
       "      <td>dieu     connaître  déboire   site marchand  a...</td>\n",
       "    </tr>\n",
       "    <tr>\n",
       "      <th>3</th>\n",
       "      <td>Nul, preleve une commande que je n'ai jamais r...</td>\n",
       "      <td>1</td>\n",
       "      <td>2023-03-07</td>\n",
       "      <td>Bob Brico</td>\n",
       "      <td>NaN</td>\n",
       "      <td>TrustPilot</td>\n",
       "      <td>Amazon</td>\n",
       "      <td>fr</td>\n",
       "      <td>prelev  commande     jamais recevoir   servi...</td>\n",
       "    </tr>\n",
       "    <tr>\n",
       "      <th>4</th>\n",
       "      <td>Colis soit disant livré mais jamais reçu donc ...</td>\n",
       "      <td>1</td>\n",
       "      <td>2023-03-06</td>\n",
       "      <td>Client</td>\n",
       "      <td>NaN</td>\n",
       "      <td>TrustPilot</td>\n",
       "      <td>Amazon</td>\n",
       "      <td>fr</td>\n",
       "      <td>colis  dire livrer  jamais recevoir  perdre no...</td>\n",
       "    </tr>\n",
       "  </tbody>\n",
       "</table>\n",
       "</div>"
      ],
      "text/plain": [
       "                                         Commentaire  star        date   \n",
       "0  Colis commandé mardi 28 fevrier 23  , livraiso...     1  2023-03-07  \\\n",
       "1  Amazon avec sa politique de retour est la pire...     1  2023-03-07   \n",
       "2  Dieu sait que j'en connais des déboires avec l...     4  2023-03-07   \n",
       "3  Nul, preleve une commande que je n'ai jamais r...     1  2023-03-07   \n",
       "4  Colis soit disant livré mais jamais reçu donc ...     1  2023-03-06   \n",
       "\n",
       "         client reponse      source company langage   \n",
       "0          Toto     NaN  TrustPilot  Amazon      fr  \\\n",
       "1  nasri eddine     NaN  TrustPilot  Amazon      fr   \n",
       "2      Amandine     NaN  TrustPilot  Amazon      fr   \n",
       "3     Bob Brico     NaN  TrustPilot  Amazon      fr   \n",
       "4        Client     NaN  TrustPilot  Amazon      fr   \n",
       "\n",
       "                                     text_preprocess  \n",
       "0  colis commander mardi  fevrier   livraison  je...  \n",
       "1  amazon   politique     pire     contrairement ...  \n",
       "2  dieu     connaître  déboire   site marchand  a...  \n",
       "3    prelev  commande     jamais recevoir   servi...  \n",
       "4  colis  dire livrer  jamais recevoir  perdre no...  "
      ]
     },
     "execution_count": 8,
     "metadata": {},
     "output_type": "execute_result"
    }
   ],
   "source": [
    "liste_transform = []\n",
    "gen = nlp.pipe(df.Commentaire.str.lower().map(cleanReview), disable=[\"tagger\", \"parser\", \"attribute_ruler\", \"textcat\"], n_process=5, batch_size=100)\n",
    "\n",
    "for doc in tqdm(gen) : \n",
    "    text_preprocess = \" \".join(preprocess(token) for token in doc)\n",
    "    liste_transform.append(text_preprocess)\n",
    "\n",
    "df['text_preprocess'] = liste_transform\n",
    "df.head()"
   ]
  },
  {
   "cell_type": "code",
   "execution_count": 17,
   "id": "65128c15",
   "metadata": {},
   "outputs": [
    {
     "data": {
      "text/plain": [
       "star\n",
       "1    24141\n",
       "2     3607\n",
       "3     6360\n",
       "4    18427\n",
       "5    53033\n",
       "Name: count, dtype: int64"
      ]
     },
     "execution_count": 17,
     "metadata": {},
     "output_type": "execute_result"
    }
   ],
   "source": [
    "df[\"star\"].value_counts().sort_index()"
   ]
  },
  {
   "cell_type": "code",
   "execution_count": 39,
   "id": "6e4b7669",
   "metadata": {},
   "outputs": [
    {
     "data": {
      "text/html": [
       "<div>\n",
       "<style scoped>\n",
       "    .dataframe tbody tr th:only-of-type {\n",
       "        vertical-align: middle;\n",
       "    }\n",
       "\n",
       "    .dataframe tbody tr th {\n",
       "        vertical-align: top;\n",
       "    }\n",
       "\n",
       "    .dataframe thead th {\n",
       "        text-align: right;\n",
       "    }\n",
       "</style>\n",
       "<table border=\"1\" class=\"dataframe\">\n",
       "  <thead>\n",
       "    <tr style=\"text-align: right;\">\n",
       "      <th></th>\n",
       "      <th>Commentaire</th>\n",
       "      <th>star</th>\n",
       "      <th>date</th>\n",
       "      <th>client</th>\n",
       "      <th>reponse</th>\n",
       "      <th>source</th>\n",
       "      <th>company</th>\n",
       "      <th>langage</th>\n",
       "      <th>text_preprocess</th>\n",
       "      <th>Sentiment</th>\n",
       "    </tr>\n",
       "  </thead>\n",
       "  <tbody>\n",
       "    <tr>\n",
       "      <th>0</th>\n",
       "      <td>Colis commandé mardi 28 fevrier 23  , livraiso...</td>\n",
       "      <td>1</td>\n",
       "      <td>2023-03-07</td>\n",
       "      <td>Toto</td>\n",
       "      <td>NaN</td>\n",
       "      <td>TrustPilot</td>\n",
       "      <td>Amazon</td>\n",
       "      <td>fr</td>\n",
       "      <td>colis commander mardi  fevrier   livraison  je...</td>\n",
       "      <td>0</td>\n",
       "    </tr>\n",
       "    <tr>\n",
       "      <th>1</th>\n",
       "      <td>Amazon avec sa politique de retour est la pire...</td>\n",
       "      <td>1</td>\n",
       "      <td>2023-03-07</td>\n",
       "      <td>nasri eddine</td>\n",
       "      <td>NaN</td>\n",
       "      <td>TrustPilot</td>\n",
       "      <td>Amazon</td>\n",
       "      <td>fr</td>\n",
       "      <td>amazon   politique     pire     contrairement ...</td>\n",
       "      <td>0</td>\n",
       "    </tr>\n",
       "    <tr>\n",
       "      <th>2</th>\n",
       "      <td>Dieu sait que j'en connais des déboires avec l...</td>\n",
       "      <td>4</td>\n",
       "      <td>2023-03-07</td>\n",
       "      <td>Amandine</td>\n",
       "      <td>NaN</td>\n",
       "      <td>TrustPilot</td>\n",
       "      <td>Amazon</td>\n",
       "      <td>fr</td>\n",
       "      <td>dieu     connaître  déboire   site marchand  a...</td>\n",
       "      <td>2</td>\n",
       "    </tr>\n",
       "    <tr>\n",
       "      <th>3</th>\n",
       "      <td>Nul, preleve une commande que je n'ai jamais r...</td>\n",
       "      <td>1</td>\n",
       "      <td>2023-03-07</td>\n",
       "      <td>Bob Brico</td>\n",
       "      <td>NaN</td>\n",
       "      <td>TrustPilot</td>\n",
       "      <td>Amazon</td>\n",
       "      <td>fr</td>\n",
       "      <td>prelev  commande     jamais recevoir   servi...</td>\n",
       "      <td>0</td>\n",
       "    </tr>\n",
       "    <tr>\n",
       "      <th>4</th>\n",
       "      <td>Colis soit disant livré mais jamais reçu donc ...</td>\n",
       "      <td>1</td>\n",
       "      <td>2023-03-06</td>\n",
       "      <td>Client</td>\n",
       "      <td>NaN</td>\n",
       "      <td>TrustPilot</td>\n",
       "      <td>Amazon</td>\n",
       "      <td>fr</td>\n",
       "      <td>colis  dire livrer  jamais recevoir  perdre no...</td>\n",
       "      <td>0</td>\n",
       "    </tr>\n",
       "  </tbody>\n",
       "</table>\n",
       "</div>"
      ],
      "text/plain": [
       "                                         Commentaire  star        date   \n",
       "0  Colis commandé mardi 28 fevrier 23  , livraiso...     1  2023-03-07  \\\n",
       "1  Amazon avec sa politique de retour est la pire...     1  2023-03-07   \n",
       "2  Dieu sait que j'en connais des déboires avec l...     4  2023-03-07   \n",
       "3  Nul, preleve une commande que je n'ai jamais r...     1  2023-03-07   \n",
       "4  Colis soit disant livré mais jamais reçu donc ...     1  2023-03-06   \n",
       "\n",
       "         client reponse      source company langage   \n",
       "0          Toto     NaN  TrustPilot  Amazon      fr  \\\n",
       "1  nasri eddine     NaN  TrustPilot  Amazon      fr   \n",
       "2      Amandine     NaN  TrustPilot  Amazon      fr   \n",
       "3     Bob Brico     NaN  TrustPilot  Amazon      fr   \n",
       "4        Client     NaN  TrustPilot  Amazon      fr   \n",
       "\n",
       "                                     text_preprocess  Sentiment  \n",
       "0  colis commander mardi  fevrier   livraison  je...          0  \n",
       "1  amazon   politique     pire     contrairement ...          0  \n",
       "2  dieu     connaître  déboire   site marchand  a...          2  \n",
       "3    prelev  commande     jamais recevoir   servi...          0  \n",
       "4  colis  dire livrer  jamais recevoir  perdre no...          0  "
      ]
     },
     "execution_count": 39,
     "metadata": {},
     "output_type": "execute_result"
    }
   ],
   "source": [
    "mapping = {1:0, 2:0, \n",
    "           3:1, \n",
    "           4:2, 5:2}\n",
    "\n",
    "df[\"Sentiment\"] = df[\"star\"].replace(mapping).astype(int)\n",
    "df.head()"
   ]
  },
  {
   "cell_type": "code",
   "execution_count": 40,
   "id": "91c3a037",
   "metadata": {},
   "outputs": [],
   "source": [
    "outfile = os.path.join(DATA_FOLDER, \"bow_processed_dataset.csv\")\n",
    "df.to_csv(outfile, sep=\",\", encoding=\"utf-8\", quoting=csv.QUOTE_ALL, index=False)"
   ]
  },
  {
   "attachments": {},
   "cell_type": "markdown",
   "id": "64bb9412",
   "metadata": {},
   "source": [
    "## DATASET SPLIT\n",
    "### Binary classes"
   ]
  },
  {
   "cell_type": "code",
   "execution_count": 3,
   "id": "1d8d1244",
   "metadata": {},
   "outputs": [],
   "source": [
    "outfile = os.path.join(DATA_FOLDER, \"bow_processed_dataset.csv\")\n",
    "df = pd.read_csv(outfile, sep=\",\", encoding=\"utf-8\", engine=\"python\")"
   ]
  },
  {
   "cell_type": "code",
   "execution_count": 41,
   "id": "0ba22e35",
   "metadata": {},
   "outputs": [
    {
     "data": {
      "text/plain": [
       "array([0, 2, 1])"
      ]
     },
     "execution_count": 41,
     "metadata": {},
     "output_type": "execute_result"
    }
   ],
   "source": [
    "df[\"Sentiment\"].unique()"
   ]
  },
  {
   "cell_type": "code",
   "execution_count": 46,
   "id": "46ba365b",
   "metadata": {},
   "outputs": [
    {
     "name": "stdout",
     "output_type": "stream",
     "text": [
      "train set: (79366, 10)\n",
      "test set: (19842, 10)\n"
     ]
    }
   ],
   "source": [
    "df_train_bin = pd.DataFrame()\n",
    "df_test_bin = pd.DataFrame()\n",
    "\n",
    "for sentiment in [0,2]:\n",
    "    mask = (df[\"Sentiment\"]==sentiment)\n",
    "    tmp = df.loc[mask].sample(frac=1)\n",
    "    split_test_index = int(tmp.shape[0] * 0.8)\n",
    "    df_train_bin = pd.concat((df_train_bin, tmp.iloc[:split_test_index]))\n",
    "    df_test_bin = pd.concat((df_test_bin, tmp.iloc[split_test_index:]))\n",
    "\n",
    "print(\"train set:\", df_train_bin.shape)\n",
    "print(\"test set:\", df_test_bin.shape)"
   ]
  },
  {
   "cell_type": "code",
   "execution_count": 47,
   "id": "99ea4dbe",
   "metadata": {},
   "outputs": [],
   "source": [
    "outfile_2cls_train = os.path.join(DATA_FOLDER, \"bow_2cls_train.txt\")\n",
    "df_train_bin[[\"Sentiment\", \"text_preprocess\"]].to_csv(outfile_2cls_train, sep=\" \", encoding=\"utf-8\")\n",
    "\n",
    "outfile_2cls_test = os.path.join(DATA_FOLDER, \"bow_2cls_test.txt\")\n",
    "df_test_bin[[\"Sentiment\", \"text_preprocess\"]].to_csv(outfile_2cls_test, sep=\" \", encoding=\"utf-8\")"
   ]
  },
  {
   "cell_type": "code",
   "execution_count": 48,
   "id": "a1822762",
   "metadata": {},
   "outputs": [
    {
     "data": {
      "image/png": "[encoded data removed]",
      "text/plain": [
       "<Figure size 1500x500 with 2 Axes>"
      ]
     },
     "metadata": {},
     "output_type": "display_data"
    }
   ],
   "source": [
    "# Création du subplot\n",
    "fig, axs = plt.subplots(1, 2, figsize=(15, 5))\n",
    "\n",
    "# Plot de la distribution des classes dans le jeu de train\n",
    "axs[0].hist(df_train_bin[\"Sentiment\"], color='blue', alpha=0.5)\n",
    "axs[0].set_title('Train classes distribution')\n",
    "\n",
    "# Plot de la distribution des classes dans le jeu de test\n",
    "axs[1].hist(df_test_bin[\"Sentiment\"], color='green', alpha=0.5,)\n",
    "axs[1].set_title('Test classes distribution')\n",
    "\n",
    "# Affichage du subplot\n",
    "plt.show()"
   ]
  },
  {
   "attachments": {},
   "cell_type": "markdown",
   "id": "1382c2ce",
   "metadata": {},
   "source": [
    "### 3 Classes"
   ]
  },
  {
   "cell_type": "code",
   "execution_count": 24,
   "id": "f86e0b9d",
   "metadata": {},
   "outputs": [
    {
     "name": "stdout",
     "output_type": "stream",
     "text": [
      "train set: (67562, 10)\n",
      "val set: (16892, 10)\n",
      "test set: (21114, 10)\n"
     ]
    }
   ],
   "source": [
    "df_train = pd.DataFrame()\n",
    "df_test = pd.DataFrame()\n",
    "\n",
    "for sentiment in df[\"Sentiment\"].unique():\n",
    "    mask = (df[\"Sentiment\"]==sentiment)\n",
    "    tmp = df.loc[mask].sample(frac=1)\n",
    "    split_test_index = int(tmp.shape[0] * 0.8)\n",
    "    df_train = pd.concat((df_train, tmp.iloc[:split_test_index]))\n",
    "    df_test = pd.concat((df_test, tmp.iloc[split_test_index:]))\n",
    "\n",
    "print(\"train set:\", df_train.shape)\n",
    "print(\"test set:\", df_test.shape)"
   ]
  },
  {
   "cell_type": "code",
   "execution_count": 27,
   "id": "7e86542f",
   "metadata": {},
   "outputs": [],
   "source": [
    "outfile_train = os.path.join(DATA_FOLDER, \"bow_3cls_train.txt\")\n",
    "df_train[[\"Sentiment\", \"text_preprocess\"]].to_csv(outfile_train, sep=\" \", encoding=\"utf-8\")\n",
    "\n",
    "outfile_test = os.path.join(DATA_FOLDER, \"bow_3cls_test.txt\")\n",
    "df_test[[\"Sentiment\", \"text_preprocess\"]].to_csv(outfile_test, sep=\" \", encoding=\"utf-8\")"
   ]
  },
  {
   "cell_type": "code",
   "execution_count": 28,
   "id": "7cb8e159",
   "metadata": {},
   "outputs": [
    {
     "data": {
      "image/png": "[encoded data removed]",
      "text/plain": [
       "<Figure size 1500x500 with 3 Axes>"
      ]
     },
     "metadata": {},
     "output_type": "display_data"
    }
   ],
   "source": [
    "# Création du subplot\n",
    "fig, axs = plt.subplots(1, 3, figsize=(15, 5))\n",
    "\n",
    "# Plot de la distribution des classes dans le jeu de train\n",
    "axs[0].hist(df_train[\"Sentiment\"], color='blue', alpha=0.5)\n",
    "axs[0].set_title('Train classes distribution')\n",
    "\n",
    "# Plot de la distribution des classes dans le jeu de test\n",
    "axs[1].hist(df_test[\"Sentiment\"], color='green', alpha=0.5,)\n",
    "axs[1].set_title('Test classes distribution')\n",
    "\n",
    "# Affichage du subplot\n",
    "plt.show()"
   ]
  },
  {
   "cell_type": "code",
   "execution_count": 29,
   "id": "f6738140",
   "metadata": {},
   "outputs": [
    {
     "data": {
      "text/plain": [
       "Text(0.5, 1.0, 'Distribution des classes - trainset')"
      ]
     },
     "execution_count": 29,
     "metadata": {},
     "output_type": "execute_result"
    },
    {
     "data": {
      "image/png": "[encoded data removed]",
      "text/plain": [
       "<Figure size 500x300 with 1 Axes>"
      ]
     },
     "metadata": {},
     "output_type": "display_data"
    }
   ],
   "source": [
    "count_pos = df_train[\"Sentiment\"].value_counts()[\"__label__POSITIVE\"]\n",
    "count_neu = df_train[\"Sentiment\"].value_counts()[\"__label__NEUTRAL\"]\n",
    "count_neg = df_train[\"Sentiment\"].value_counts()[\"__label__NEGATIVE\"]\n",
    "\n",
    "ratio_neu = (count_pos-count_neu) // count_neu\n",
    "ratio_neg = (count_pos-count_neg) // count_neg\n",
    "\n",
    "mask = (df_train[\"Sentiment\"]==\"__label__NEUTRAL\")\n",
    "items = [df_train]+[df_train[mask]]*ratio_neu\n",
    "df_train = pd.concat(items,ignore_index=True)\n",
    "\n",
    "mask = (df_train[\"Sentiment\"]==\"__label__NEGATIVE\")\n",
    "items = [df_train]+[df_train[mask]*ratio_neg]\n",
    "df_train = pd.concat(items,ignore_index=True)\n",
    "\n",
    "fig = plt.figure(figsize=(5,3))\n",
    "df_train[\"Sentiment\"].hist()\n",
    "plt.title(\"Distribution des classes - trainset\")\n"
   ]
  },
  {
   "attachments": {},
   "cell_type": "markdown",
   "id": "96fa321a",
   "metadata": {},
   "source": [
    "# Training"
   ]
  },
  {
   "cell_type": "code",
   "execution_count": 58,
   "id": "6ce523b1",
   "metadata": {},
   "outputs": [],
   "source": [
    "LABELS = [0, 2]\n",
    "\n",
    "def plotCMX(labels, cm):\n",
    "    fig, ax = plt.subplots(figsize=(7.5, 7.5))\n",
    "    ax.matshow(cm, cmap=plt.cm.Blues, alpha=0.3)\n",
    "    for i in range(cm.shape[0]):\n",
    "        for j in range(cm.shape[1]):\n",
    "            ax.text(x=j, y=i,s=cm[i, j], va='center', ha='center', size='xx-large')\n",
    "    \n",
    "    plt.xlabel('Predictions', fontsize=18)\n",
    "    ax.set_xticklabels([\"\"]+labels)\n",
    "    plt.ylabel('Actuals', fontsize=18)\n",
    "    ax.set_yticklabels([\"\"]+labels)\n",
    "    plt.title('Confusion Matrix', fontsize=18)\n",
    "    plt.show()"
   ]
  },
  {
   "attachments": {},
   "cell_type": "markdown",
   "id": "6ba64435",
   "metadata": {},
   "source": [
    "## 2 classes"
   ]
  },
  {
   "cell_type": "code",
   "execution_count": 50,
   "id": "102cd500",
   "metadata": {},
   "outputs": [
    {
     "name": "stdout",
     "output_type": "stream",
     "text": [
      "Vocabulary size:  2000\n",
      "{'bonjour': 265, 'passer': 1316, 'premier': 1400, 'commande': 399, 'décembre': 617, 'moyen': 1198, 'paiement': 1289, 'virement': 1923, 'fournir': 835, 'avis': 211}\n"
     ]
    }
   ],
   "source": [
    "# Create features\n",
    "vectorizer = CountVectorizer(max_features=2000, stop_words=stopwords.words('french'))\n",
    "X_train_bin = vectorizer.fit_transform(df_train_bin[\"text_preprocess\"].values)\n",
    "y_train_bin = df_train_bin[\"Sentiment\"].values\n",
    "\n",
    "X_test_bin = vectorizer.transform(df_test_bin[\"text_preprocess\"].values)\n",
    "y_test_bin = df_test_bin[\"Sentiment\"].values\n",
    "\n",
    "# taille du vocabulaire\n",
    "voc = vectorizer.vocabulary_\n",
    "print('Vocabulary size: ', len(voc))\n",
    "\n",
    "# Affichage d'un échantilllon du vocabulaire\n",
    "print({k: voc[k] for k in list(voc)[:10]})"
   ]
  },
  {
   "cell_type": "code",
   "execution_count": 55,
   "id": "01db16d4",
   "metadata": {},
   "outputs": [
    {
     "data": {
      "text/html": [
       "<style>#sk-container-id-1 {color: black;background-color: white;}#sk-container-id-1 pre{padding: 0;}#sk-container-id-1 div.sk-toggleable {background-color: white;}#sk-container-id-1 label.sk-toggleable__label {cursor: pointer;display: block;width: 100%;margin-bottom: 0;padding: 0.3em;box-sizing: border-box;text-align: center;}#sk-container-id-1 label.sk-toggleable__label-arrow:before {content: \"▸\";float: left;margin-right: 0.25em;color: #696969;}#sk-container-id-1 label.sk-toggleable__label-arrow:hover:before {color: black;}#sk-container-id-1 div.sk-estimator:hover label.sk-toggleable__label-arrow:before {color: black;}#sk-container-id-1 div.sk-toggleable__content {max-height: 0;max-width: 0;overflow: hidden;text-align: left;background-color: #f0f8ff;}#sk-container-id-1 div.sk-toggleable__content pre {margin: 0.2em;color: black;border-radius: 0.25em;background-color: #f0f8ff;}#sk-container-id-1 input.sk-toggleable__control:checked~div.sk-toggleable__content {max-height: 200px;max-width: 100%;overflow: auto;}#sk-container-id-1 input.sk-toggleable__control:checked~label.sk-toggleable__label-arrow:before {content: \"▾\";}#sk-container-id-1 div.sk-estimator input.sk-toggleable__control:checked~label.sk-toggleable__label {background-color: #d4ebff;}#sk-container-id-1 div.sk-label input.sk-toggleable__control:checked~label.sk-toggleable__label {background-color: #d4ebff;}#sk-container-id-1 input.sk-hidden--visually {border: 0;clip: rect(1px 1px 1px 1px);clip: rect(1px, 1px, 1px, 1px);height: 1px;margin: -1px;overflow: hidden;padding: 0;position: absolute;width: 1px;}#sk-container-id-1 div.sk-estimator {font-family: monospace;background-color: #f0f8ff;border: 1px dotted black;border-radius: 0.25em;box-sizing: border-box;margin-bottom: 0.5em;}#sk-container-id-1 div.sk-estimator:hover {background-color: #d4ebff;}#sk-container-id-1 div.sk-parallel-item::after {content: \"\";width: 100%;border-bottom: 1px solid gray;flex-grow: 1;}#sk-container-id-1 div.sk-label:hover label.sk-toggleable__label {background-color: #d4ebff;}#sk-container-id-1 div.sk-serial::before {content: \"\";position: absolute;border-left: 1px solid gray;box-sizing: border-box;top: 0;bottom: 0;left: 50%;z-index: 0;}#sk-container-id-1 div.sk-serial {display: flex;flex-direction: column;align-items: center;background-color: white;padding-right: 0.2em;padding-left: 0.2em;position: relative;}#sk-container-id-1 div.sk-item {position: relative;z-index: 1;}#sk-container-id-1 div.sk-parallel {display: flex;align-items: stretch;justify-content: center;background-color: white;position: relative;}#sk-container-id-1 div.sk-item::before, #sk-container-id-1 div.sk-parallel-item::before {content: \"\";position: absolute;border-left: 1px solid gray;box-sizing: border-box;top: 0;bottom: 0;left: 50%;z-index: -1;}#sk-container-id-1 div.sk-parallel-item {display: flex;flex-direction: column;z-index: 1;position: relative;background-color: white;}#sk-container-id-1 div.sk-parallel-item:first-child::after {align-self: flex-end;width: 50%;}#sk-container-id-1 div.sk-parallel-item:last-child::after {align-self: flex-start;width: 50%;}#sk-container-id-1 div.sk-parallel-item:only-child::after {width: 0;}#sk-container-id-1 div.sk-dashed-wrapped {border: 1px dashed gray;margin: 0 0.4em 0.5em 0.4em;box-sizing: border-box;padding-bottom: 0.4em;background-color: white;}#sk-container-id-1 div.sk-label label {font-family: monospace;font-weight: bold;display: inline-block;line-height: 1.2em;}#sk-container-id-1 div.sk-label-container {text-align: center;}#sk-container-id-1 div.sk-container {/* jupyter's `normalize.less` sets `[hidden] { display: none; }` but bootstrap.min.css set `[hidden] { display: none !important; }` so we also need the `!important` here to be able to override the default hidden behavior on the sphinx rendered scikit-learn.org. See: https://github.com/scikit-learn/scikit-learn/issues/21755 */display: inline-block !important;position: relative;}#sk-container-id-1 div.sk-text-repr-fallback {display: none;}</style><div id=\"sk-container-id-1\" class=\"sk-top-container\"><div class=\"sk-text-repr-fallback\"><pre>RandomForestClassifier(n_jobs=-1)</pre><b>In a Jupyter environment, please rerun this cell to show the HTML representation or trust the notebook. <br />On GitHub, the HTML representation is unable to render, please try loading this page with nbviewer.org.</b></div><div class=\"sk-container\" hidden><div class=\"sk-item\"><div class=\"sk-estimator sk-toggleable\"><input class=\"sk-toggleable__control sk-hidden--visually\" id=\"sk-estimator-id-1\" type=\"checkbox\" checked><label for=\"sk-estimator-id-1\" class=\"sk-toggleable__label sk-toggleable__label-arrow\">RandomForestClassifier</label><div class=\"sk-toggleable__content\"><pre>RandomForestClassifier(n_jobs=-1)</pre></div></div></div></div></div>"
      ],
      "text/plain": [
       "RandomForestClassifier(n_jobs=-1)"
      ]
     },
     "execution_count": 55,
     "metadata": {},
     "output_type": "execute_result"
    }
   ],
   "source": [
    "rf = RandomForestClassifier(n_jobs=-1)\n",
    "\n",
    "# Entraînement du modèle.\n",
    "rf.fit(X_train_bin, y_train_bin)"
   ]
  },
  {
   "attachments": {},
   "cell_type": "markdown",
   "id": "1feb4ce2",
   "metadata": {},
   "source": [
    "### Evaluation"
   ]
  },
  {
   "cell_type": "code",
   "execution_count": 59,
   "id": "33f61ef1",
   "metadata": {},
   "outputs": [
    {
     "name": "stderr",
     "output_type": "stream",
     "text": [
      "/data/DATALAB_PAU/18_HPC/tmp/ipykernel_75949/2176178015.py:11: UserWarning: FixedFormatter should only be used together with FixedLocator\n",
      "  ax.set_xticklabels([\"\"]+labels)\n",
      "/data/DATALAB_PAU/18_HPC/tmp/ipykernel_75949/2176178015.py:13: UserWarning: FixedFormatter should only be used together with FixedLocator\n",
      "  ax.set_yticklabels([\"\"]+labels)\n"
     ]
    },
    {
     "data": {
      "image/png": "[encoded data removed]",
      "text/plain": [
       "<Figure size 750x750 with 1 Axes>"
      ]
     },
     "metadata": {},
     "output_type": "display_data"
    }
   ],
   "source": [
    "y_pred_bin = rf.predict(X_test_bin)\n",
    "\n",
    "cm = confusion_matrix(y_test_bin, y_pred_bin)\n",
    "plotCMX(LABELS, cm)"
   ]
  },
  {
   "cell_type": "code",
   "execution_count": 60,
   "id": "8ed1f58d",
   "metadata": {},
   "outputs": [
    {
     "name": "stdout",
     "output_type": "stream",
     "text": [
      "              precision    recall  f1-score   support\n",
      "\n",
      "           0       0.89      0.88      0.88      5550\n",
      "           2       0.95      0.96      0.95     14292\n",
      "\n",
      "    accuracy                           0.93     19842\n",
      "   macro avg       0.92      0.92      0.92     19842\n",
      "weighted avg       0.93      0.93      0.93     19842\n",
      "\n"
     ]
    }
   ],
   "source": [
    "print(classification_report(y_test_bin, y_pred_bin))"
   ]
  },
  {
   "attachments": {},
   "cell_type": "markdown",
   "id": "24840cb6",
   "metadata": {},
   "source": [
    "## 3 classes"
   ]
  },
  {
   "cell_type": "code",
   "execution_count": 61,
   "id": "70b75701",
   "metadata": {},
   "outputs": [
    {
     "name": "stdout",
     "output_type": "stream",
     "text": [
      "Vocabulary size:  2000\n",
      "{'acheter': 89, 'dernièrement': 546, 'machine': 1096, 'laver': 1051, 'site': 1718, 'promesse': 1441, 'cdiscount': 330, 'livreur': 1074, 'reprendre': 1588, 'ancien': 136}\n"
     ]
    }
   ],
   "source": [
    "# Create features\n",
    "vectorizer = CountVectorizer(max_features=2000, stop_words=stopwords.words('french'))\n",
    "X_train = vectorizer.fit_transform(df_train[\"text_preprocess\"].values)\n",
    "y_train = df_train[\"Sentiment\"].values\n",
    "\n",
    "X_test = vectorizer.transform(df_test[\"text_preprocess\"].values)\n",
    "y_test = df_test[\"Sentiment\"].values\n",
    "\n",
    "# taille du vocabulaire\n",
    "voc = vectorizer.vocabulary_\n",
    "print('Vocabulary size: ', len(voc))\n",
    "\n",
    "# Affichage d'un échantilllon du vocabulaire\n",
    "print({k: voc[k] for k in list(voc)[:10]})"
   ]
  },
  {
   "cell_type": "code",
   "execution_count": 62,
   "id": "1c48bed5",
   "metadata": {},
   "outputs": [
    {
     "data": {
      "text/html": [
       "<style>#sk-container-id-2 {color: black;background-color: white;}#sk-container-id-2 pre{padding: 0;}#sk-container-id-2 div.sk-toggleable {background-color: white;}#sk-container-id-2 label.sk-toggleable__label {cursor: pointer;display: block;width: 100%;margin-bottom: 0;padding: 0.3em;box-sizing: border-box;text-align: center;}#sk-container-id-2 label.sk-toggleable__label-arrow:before {content: \"▸\";float: left;margin-right: 0.25em;color: #696969;}#sk-container-id-2 label.sk-toggleable__label-arrow:hover:before {color: black;}#sk-container-id-2 div.sk-estimator:hover label.sk-toggleable__label-arrow:before {color: black;}#sk-container-id-2 div.sk-toggleable__content {max-height: 0;max-width: 0;overflow: hidden;text-align: left;background-color: #f0f8ff;}#sk-container-id-2 div.sk-toggleable__content pre {margin: 0.2em;color: black;border-radius: 0.25em;background-color: #f0f8ff;}#sk-container-id-2 input.sk-toggleable__control:checked~div.sk-toggleable__content {max-height: 200px;max-width: 100%;overflow: auto;}#sk-container-id-2 input.sk-toggleable__control:checked~label.sk-toggleable__label-arrow:before {content: \"▾\";}#sk-container-id-2 div.sk-estimator input.sk-toggleable__control:checked~label.sk-toggleable__label {background-color: #d4ebff;}#sk-container-id-2 div.sk-label input.sk-toggleable__control:checked~label.sk-toggleable__label {background-color: #d4ebff;}#sk-container-id-2 input.sk-hidden--visually {border: 0;clip: rect(1px 1px 1px 1px);clip: rect(1px, 1px, 1px, 1px);height: 1px;margin: -1px;overflow: hidden;padding: 0;position: absolute;width: 1px;}#sk-container-id-2 div.sk-estimator {font-family: monospace;background-color: #f0f8ff;border: 1px dotted black;border-radius: 0.25em;box-sizing: border-box;margin-bottom: 0.5em;}#sk-container-id-2 div.sk-estimator:hover {background-color: #d4ebff;}#sk-container-id-2 div.sk-parallel-item::after {content: \"\";width: 100%;border-bottom: 1px solid gray;flex-grow: 1;}#sk-container-id-2 div.sk-label:hover label.sk-toggleable__label {background-color: #d4ebff;}#sk-container-id-2 div.sk-serial::before {content: \"\";position: absolute;border-left: 1px solid gray;box-sizing: border-box;top: 0;bottom: 0;left: 50%;z-index: 0;}#sk-container-id-2 div.sk-serial {display: flex;flex-direction: column;align-items: center;background-color: white;padding-right: 0.2em;padding-left: 0.2em;position: relative;}#sk-container-id-2 div.sk-item {position: relative;z-index: 1;}#sk-container-id-2 div.sk-parallel {display: flex;align-items: stretch;justify-content: center;background-color: white;position: relative;}#sk-container-id-2 div.sk-item::before, #sk-container-id-2 div.sk-parallel-item::before {content: \"\";position: absolute;border-left: 1px solid gray;box-sizing: border-box;top: 0;bottom: 0;left: 50%;z-index: -1;}#sk-container-id-2 div.sk-parallel-item {display: flex;flex-direction: column;z-index: 1;position: relative;background-color: white;}#sk-container-id-2 div.sk-parallel-item:first-child::after {align-self: flex-end;width: 50%;}#sk-container-id-2 div.sk-parallel-item:last-child::after {align-self: flex-start;width: 50%;}#sk-container-id-2 div.sk-parallel-item:only-child::after {width: 0;}#sk-container-id-2 div.sk-dashed-wrapped {border: 1px dashed gray;margin: 0 0.4em 0.5em 0.4em;box-sizing: border-box;padding-bottom: 0.4em;background-color: white;}#sk-container-id-2 div.sk-label label {font-family: monospace;font-weight: bold;display: inline-block;line-height: 1.2em;}#sk-container-id-2 div.sk-label-container {text-align: center;}#sk-container-id-2 div.sk-container {/* jupyter's `normalize.less` sets `[hidden] { display: none; }` but bootstrap.min.css set `[hidden] { display: none !important; }` so we also need the `!important` here to be able to override the default hidden behavior on the sphinx rendered scikit-learn.org. See: https://github.com/scikit-learn/scikit-learn/issues/21755 */display: inline-block !important;position: relative;}#sk-container-id-2 div.sk-text-repr-fallback {display: none;}</style><div id=\"sk-container-id-2\" class=\"sk-top-container\"><div class=\"sk-text-repr-fallback\"><pre>RandomForestClassifier(n_jobs=-1)</pre><b>In a Jupyter environment, please rerun this cell to show the HTML representation or trust the notebook. <br />On GitHub, the HTML representation is unable to render, please try loading this page with nbviewer.org.</b></div><div class=\"sk-container\" hidden><div class=\"sk-item\"><div class=\"sk-estimator sk-toggleable\"><input class=\"sk-toggleable__control sk-hidden--visually\" id=\"sk-estimator-id-2\" type=\"checkbox\" checked><label for=\"sk-estimator-id-2\" class=\"sk-toggleable__label sk-toggleable__label-arrow\">RandomForestClassifier</label><div class=\"sk-toggleable__content\"><pre>RandomForestClassifier(n_jobs=-1)</pre></div></div></div></div></div>"
      ],
      "text/plain": [
       "RandomForestClassifier(n_jobs=-1)"
      ]
     },
     "execution_count": 62,
     "metadata": {},
     "output_type": "execute_result"
    }
   ],
   "source": [
    "rf = RandomForestClassifier(n_jobs=-1)\n",
    "\n",
    "# Entraînement du modèle.\n",
    "rf.fit(X_train, y_train)"
   ]
  },
  {
   "attachments": {},
   "cell_type": "markdown",
   "id": "c6d8c248",
   "metadata": {},
   "source": [
    "### Evaluation"
   ]
  },
  {
   "cell_type": "code",
   "execution_count": 63,
   "id": "fe06a11e",
   "metadata": {},
   "outputs": [
    {
     "name": "stderr",
     "output_type": "stream",
     "text": [
      "/data/DATALAB_PAU/18_HPC/tmp/ipykernel_75949/2176178015.py:11: UserWarning: FixedFormatter should only be used together with FixedLocator\n",
      "  ax.set_xticklabels([\"\"]+labels)\n",
      "/data/DATALAB_PAU/18_HPC/tmp/ipykernel_75949/2176178015.py:13: UserWarning: FixedFormatter should only be used together with FixedLocator\n",
      "  ax.set_yticklabels([\"\"]+labels)\n"
     ]
    },
    {
     "data": {
      "image/png": "[encoded data removed]",
      "text/plain": [
       "<Figure size 750x750 with 1 Axes>"
      ]
     },
     "metadata": {},
     "output_type": "display_data"
    }
   ],
   "source": [
    "LABELS = [0, 1, 2]\n",
    "y_pred = rf.predict(X_test)\n",
    "\n",
    "cm = confusion_matrix(y_test, y_pred)\n",
    "plotCMX(LABELS, cm)"
   ]
  },
  {
   "cell_type": "code",
   "execution_count": 64,
   "id": "808c993f",
   "metadata": {},
   "outputs": [
    {
     "name": "stdout",
     "output_type": "stream",
     "text": [
      "                   precision    recall  f1-score   support\n",
      "\n",
      "__label__NEGATIVE       0.82      0.86      0.84      5550\n",
      " __label__NEUTRAL       0.24      0.15      0.19      1272\n",
      "__label__POSITIVE       0.91      0.92      0.92     14292\n",
      "\n",
      "         accuracy                           0.86     21114\n",
      "        macro avg       0.66      0.65      0.65     21114\n",
      "     weighted avg       0.85      0.86      0.85     21114\n",
      "\n"
     ]
    }
   ],
   "source": [
    "print(classification_report(y_test, y_pred))"
   ]
  },
  {
   "attachments": {},
   "cell_type": "markdown",
   "id": "6a79f94d",
   "metadata": {},
   "source": [
    "# TF-IDF"
   ]
  },
  {
   "attachments": {},
   "cell_type": "markdown",
   "id": "8bf64abe",
   "metadata": {},
   "source": [
    "## 2 classes"
   ]
  },
  {
   "cell_type": "code",
   "execution_count": 71,
   "id": "940ed499",
   "metadata": {},
   "outputs": [
    {
     "data": {
      "text/html": [
       "<style>#sk-container-id-4 {color: black;background-color: white;}#sk-container-id-4 pre{padding: 0;}#sk-container-id-4 div.sk-toggleable {background-color: white;}#sk-container-id-4 label.sk-toggleable__label {cursor: pointer;display: block;width: 100%;margin-bottom: 0;padding: 0.3em;box-sizing: border-box;text-align: center;}#sk-container-id-4 label.sk-toggleable__label-arrow:before {content: \"▸\";float: left;margin-right: 0.25em;color: #696969;}#sk-container-id-4 label.sk-toggleable__label-arrow:hover:before {color: black;}#sk-container-id-4 div.sk-estimator:hover label.sk-toggleable__label-arrow:before {color: black;}#sk-container-id-4 div.sk-toggleable__content {max-height: 0;max-width: 0;overflow: hidden;text-align: left;background-color: #f0f8ff;}#sk-container-id-4 div.sk-toggleable__content pre {margin: 0.2em;color: black;border-radius: 0.25em;background-color: #f0f8ff;}#sk-container-id-4 input.sk-toggleable__control:checked~div.sk-toggleable__content {max-height: 200px;max-width: 100%;overflow: auto;}#sk-container-id-4 input.sk-toggleable__control:checked~label.sk-toggleable__label-arrow:before {content: \"▾\";}#sk-container-id-4 div.sk-estimator input.sk-toggleable__control:checked~label.sk-toggleable__label {background-color: #d4ebff;}#sk-container-id-4 div.sk-label input.sk-toggleable__control:checked~label.sk-toggleable__label {background-color: #d4ebff;}#sk-container-id-4 input.sk-hidden--visually {border: 0;clip: rect(1px 1px 1px 1px);clip: rect(1px, 1px, 1px, 1px);height: 1px;margin: -1px;overflow: hidden;padding: 0;position: absolute;width: 1px;}#sk-container-id-4 div.sk-estimator {font-family: monospace;background-color: #f0f8ff;border: 1px dotted black;border-radius: 0.25em;box-sizing: border-box;margin-bottom: 0.5em;}#sk-container-id-4 div.sk-estimator:hover {background-color: #d4ebff;}#sk-container-id-4 div.sk-parallel-item::after {content: \"\";width: 100%;border-bottom: 1px solid gray;flex-grow: 1;}#sk-container-id-4 div.sk-label:hover label.sk-toggleable__label {background-color: #d4ebff;}#sk-container-id-4 div.sk-serial::before {content: \"\";position: absolute;border-left: 1px solid gray;box-sizing: border-box;top: 0;bottom: 0;left: 50%;z-index: 0;}#sk-container-id-4 div.sk-serial {display: flex;flex-direction: column;align-items: center;background-color: white;padding-right: 0.2em;padding-left: 0.2em;position: relative;}#sk-container-id-4 div.sk-item {position: relative;z-index: 1;}#sk-container-id-4 div.sk-parallel {display: flex;align-items: stretch;justify-content: center;background-color: white;position: relative;}#sk-container-id-4 div.sk-item::before, #sk-container-id-4 div.sk-parallel-item::before {content: \"\";position: absolute;border-left: 1px solid gray;box-sizing: border-box;top: 0;bottom: 0;left: 50%;z-index: -1;}#sk-container-id-4 div.sk-parallel-item {display: flex;flex-direction: column;z-index: 1;position: relative;background-color: white;}#sk-container-id-4 div.sk-parallel-item:first-child::after {align-self: flex-end;width: 50%;}#sk-container-id-4 div.sk-parallel-item:last-child::after {align-self: flex-start;width: 50%;}#sk-container-id-4 div.sk-parallel-item:only-child::after {width: 0;}#sk-container-id-4 div.sk-dashed-wrapped {border: 1px dashed gray;margin: 0 0.4em 0.5em 0.4em;box-sizing: border-box;padding-bottom: 0.4em;background-color: white;}#sk-container-id-4 div.sk-label label {font-family: monospace;font-weight: bold;display: inline-block;line-height: 1.2em;}#sk-container-id-4 div.sk-label-container {text-align: center;}#sk-container-id-4 div.sk-container {/* jupyter's `normalize.less` sets `[hidden] { display: none; }` but bootstrap.min.css set `[hidden] { display: none !important; }` so we also need the `!important` here to be able to override the default hidden behavior on the sphinx rendered scikit-learn.org. See: https://github.com/scikit-learn/scikit-learn/issues/21755 */display: inline-block !important;position: relative;}#sk-container-id-4 div.sk-text-repr-fallback {display: none;}</style><div id=\"sk-container-id-4\" class=\"sk-top-container\"><div class=\"sk-text-repr-fallback\"><pre>RandomForestClassifier(n_jobs=-1)</pre><b>In a Jupyter environment, please rerun this cell to show the HTML representation or trust the notebook. <br />On GitHub, the HTML representation is unable to render, please try loading this page with nbviewer.org.</b></div><div class=\"sk-container\" hidden><div class=\"sk-item\"><div class=\"sk-estimator sk-toggleable\"><input class=\"sk-toggleable__control sk-hidden--visually\" id=\"sk-estimator-id-4\" type=\"checkbox\" checked><label for=\"sk-estimator-id-4\" class=\"sk-toggleable__label sk-toggleable__label-arrow\">RandomForestClassifier</label><div class=\"sk-toggleable__content\"><pre>RandomForestClassifier(n_jobs=-1)</pre></div></div></div></div></div>"
      ],
      "text/plain": [
       "RandomForestClassifier(n_jobs=-1)"
      ]
     },
     "execution_count": 71,
     "metadata": {},
     "output_type": "execute_result"
    }
   ],
   "source": [
    "# Application de TF-IDF aux avis\n",
    "vectorizer = TfidfVectorizer(max_features=5000, stop_words=stopwords.words('french'), ngram_range=(2,4))\n",
    "X_train_bin_tfidf = vectorizer.fit_transform(df_train_bin[\"text_preprocess\"].values)\n",
    "X_test_bin_tfidf = vectorizer.transform(df_test_bin[\"text_preprocess\"].values)\n",
    "\n",
    "rf = RandomForestClassifier(n_jobs=-1)\n",
    "\n",
    "# Entraînement du modèle.\n",
    "rf.fit(X_train_bin_tfidf, y_train_bin)"
   ]
  },
  {
   "cell_type": "code",
   "execution_count": 72,
   "id": "f41fad59",
   "metadata": {},
   "outputs": [
    {
     "name": "stderr",
     "output_type": "stream",
     "text": [
      "/data/DATALAB_PAU/18_HPC/tmp/ipykernel_75949/2176178015.py:11: UserWarning: FixedFormatter should only be used together with FixedLocator\n",
      "  ax.set_xticklabels([\"\"]+labels)\n",
      "/data/DATALAB_PAU/18_HPC/tmp/ipykernel_75949/2176178015.py:13: UserWarning: FixedFormatter should only be used together with FixedLocator\n",
      "  ax.set_yticklabels([\"\"]+labels)\n"
     ]
    },
    {
     "data": {
      "image/png": "[encoded data removed]",
      "text/plain": [
       "<Figure size 750x750 with 1 Axes>"
      ]
     },
     "metadata": {},
     "output_type": "display_data"
    }
   ],
   "source": [
    "LABELS = [0, 2]\n",
    "y_pred = rf.predict(X_test_bin_tfidf)\n",
    "\n",
    "cm = confusion_matrix(y_test_bin, y_pred_bin)\n",
    "plotCMX(LABELS, cm)"
   ]
  },
  {
   "cell_type": "code",
   "execution_count": 73,
   "id": "df9467eb",
   "metadata": {},
   "outputs": [
    {
     "name": "stdout",
     "output_type": "stream",
     "text": [
      "              precision    recall  f1-score   support\n",
      "\n",
      "           0       0.89      0.88      0.88      5550\n",
      "           2       0.95      0.96      0.95     14292\n",
      "\n",
      "    accuracy                           0.93     19842\n",
      "   macro avg       0.92      0.92      0.92     19842\n",
      "weighted avg       0.93      0.93      0.93     19842\n",
      "\n"
     ]
    }
   ],
   "source": [
    "print(classification_report(y_test_bin, y_pred_bin))"
   ]
  },
  {
   "attachments": {},
   "cell_type": "markdown",
   "id": "39d7994e",
   "metadata": {},
   "source": [
    "### Explicability"
   ]
  },
  {
   "cell_type": "code",
   "execution_count": 76,
   "id": "a7b74382",
   "metadata": {},
   "outputs": [
    {
     "ename": "AttributeError",
     "evalue": "module 'numpy' has no attribute 'bool'.\n`np.bool` was a deprecated alias for the builtin `bool`. To avoid this error in existing code, use `bool` by itself. Doing this will not modify any behavior and is safe. If you specifically wanted the numpy scalar type, use `np.bool_` here.\nThe aliases was originally deprecated in NumPy 1.20; for more details and guidance see the original release note at:\n    https://numpy.org/devdocs/release/1.20.0-notes.html#deprecations",
     "output_type": "error",
     "traceback": [
      "\u001b[0;31m---------------------------------------------------------------------------\u001b[0m",
      "\u001b[0;31mAttributeError\u001b[0m                            Traceback (most recent call last)",
      "Cell \u001b[0;32mIn[76], line 1\u001b[0m\n\u001b[0;32m----> 1\u001b[0m explainer \u001b[39m=\u001b[39m shap\u001b[39m.\u001b[39;49mTreeExplainer(rf, data\u001b[39m=\u001b[39;49mX_test_bin_tfidf\u001b[39m.\u001b[39;49mtoarray())\n\u001b[1;32m      3\u001b[0m shap_values \u001b[39m=\u001b[39m explainer\u001b[39m.\u001b[39mshap_values(X_test_bin_tfidf\u001b[39m.\u001b[39mtodense(), approximate\u001b[39m=\u001b[39m\u001b[39mTrue\u001b[39;00m)\n\u001b[1;32m      5\u001b[0m \u001b[39mprint\u001b[39m(\u001b[39m'\u001b[39m\u001b[39mExpected Value:\u001b[39m\u001b[39m'\u001b[39m, explainer\u001b[39m.\u001b[39mexpected_value)\n",
      "File \u001b[0;32m/data/DATALAB_PAU/20_projects/j0215602/DS_NLP/env/lib/python3.9/site-packages/shap/explainers/_tree.py:101\u001b[0m, in \u001b[0;36mTree.__init__\u001b[0;34m(self, model, data, model_output, feature_perturbation, feature_names, approximate, **deprecated_options)\u001b[0m\n\u001b[1;32m     98\u001b[0m     \u001b[39mself\u001b[39m\u001b[39m.\u001b[39mdata_feature_names \u001b[39m=\u001b[39m \u001b[39mlist\u001b[39m(data\u001b[39m.\u001b[39mcolumns)\n\u001b[1;32m    100\u001b[0m masker \u001b[39m=\u001b[39m data\n\u001b[0;32m--> 101\u001b[0m \u001b[39msuper\u001b[39;49m(Tree, \u001b[39mself\u001b[39;49m)\u001b[39m.\u001b[39;49m\u001b[39m__init__\u001b[39;49m(model, masker, feature_names\u001b[39m=\u001b[39;49mfeature_names)\n\u001b[1;32m    103\u001b[0m \u001b[39mif\u001b[39;00m \u001b[39mtype\u001b[39m(\u001b[39mself\u001b[39m\u001b[39m.\u001b[39mmasker) \u001b[39mis\u001b[39;00m maskers\u001b[39m.\u001b[39mIndependent:\n\u001b[1;32m    104\u001b[0m     data \u001b[39m=\u001b[39m \u001b[39mself\u001b[39m\u001b[39m.\u001b[39mmasker\u001b[39m.\u001b[39mdata\n",
      "File \u001b[0;32m/data/DATALAB_PAU/20_projects/j0215602/DS_NLP/env/lib/python3.9/site-packages/shap/explainers/_explainer.py:88\u001b[0m, in \u001b[0;36mExplainer.__init__\u001b[0;34m(self, model, masker, link, algorithm, output_names, feature_names, linearize_link, seed, **kwargs)\u001b[0m\n\u001b[1;32m     86\u001b[0m         \u001b[39mself\u001b[39m\u001b[39m.\u001b[39mmasker \u001b[39m=\u001b[39m maskers\u001b[39m.\u001b[39mPartition(masker)\n\u001b[1;32m     87\u001b[0m     \u001b[39melse\u001b[39;00m:\n\u001b[0;32m---> 88\u001b[0m         \u001b[39mself\u001b[39m\u001b[39m.\u001b[39mmasker \u001b[39m=\u001b[39m maskers\u001b[39m.\u001b[39;49mIndependent(masker)\n\u001b[1;32m     89\u001b[0m \u001b[39melif\u001b[39;00m safe_isinstance(masker, [\u001b[39m\"\u001b[39m\u001b[39mtransformers.PreTrainedTokenizer\u001b[39m\u001b[39m\"\u001b[39m, \u001b[39m\"\u001b[39m\u001b[39mtransformers.tokenization_utils_base.PreTrainedTokenizerBase\u001b[39m\u001b[39m\"\u001b[39m]):\n\u001b[1;32m     90\u001b[0m     \u001b[39mif\u001b[39;00m is_transformers_lm(\u001b[39mself\u001b[39m\u001b[39m.\u001b[39mmodel):\n\u001b[1;32m     91\u001b[0m         \u001b[39m# auto assign text infilling if model is a transformer model with lm head\u001b[39;00m\n",
      "File \u001b[0;32m/data/DATALAB_PAU/20_projects/j0215602/DS_NLP/env/lib/python3.9/site-packages/shap/maskers/_tabular.py:262\u001b[0m, in \u001b[0;36mIndependent.__init__\u001b[0;34m(self, data, max_samples)\u001b[0m\n\u001b[1;32m    247\u001b[0m \u001b[39mdef\u001b[39;00m \u001b[39m__init__\u001b[39m(\u001b[39mself\u001b[39m, data, max_samples\u001b[39m=\u001b[39m\u001b[39m100\u001b[39m):\n\u001b[1;32m    248\u001b[0m \u001b[39m    \u001b[39m\u001b[39m\"\"\" Build a Independent masker with the given background data.\u001b[39;00m\n\u001b[1;32m    249\u001b[0m \n\u001b[1;32m    250\u001b[0m \u001b[39m    Parameters\u001b[39;00m\n\u001b[0;32m   (...)\u001b[0m\n\u001b[1;32m    260\u001b[0m \u001b[39m        about 1, 10, 100, or 1000 background samples are reasonable choices.\u001b[39;00m\n\u001b[1;32m    261\u001b[0m \u001b[39m    \"\"\"\u001b[39;00m\n\u001b[0;32m--> 262\u001b[0m     \u001b[39msuper\u001b[39;49m()\u001b[39m.\u001b[39;49m\u001b[39m__init__\u001b[39;49m(data, max_samples\u001b[39m=\u001b[39;49mmax_samples, clustering\u001b[39m=\u001b[39;49m\u001b[39mNone\u001b[39;49;00m)\n",
      "File \u001b[0;32m/data/DATALAB_PAU/20_projects/j0215602/DS_NLP/env/lib/python3.9/site-packages/shap/maskers/_tabular.py:82\u001b[0m, in \u001b[0;36mTabular.__init__\u001b[0;34m(self, data, max_samples, clustering)\u001b[0m\n\u001b[1;32m     80\u001b[0m \u001b[39m# self._last_mask = np.zeros(self.data.shape[1], dtype=np.bool)\u001b[39;00m\n\u001b[1;32m     81\u001b[0m \u001b[39mself\u001b[39m\u001b[39m.\u001b[39m_masked_data \u001b[39m=\u001b[39m data\u001b[39m.\u001b[39mcopy()\n\u001b[0;32m---> 82\u001b[0m \u001b[39mself\u001b[39m\u001b[39m.\u001b[39m_last_mask \u001b[39m=\u001b[39m np\u001b[39m.\u001b[39mzeros(data\u001b[39m.\u001b[39mshape[\u001b[39m1\u001b[39m], dtype\u001b[39m=\u001b[39mnp\u001b[39m.\u001b[39;49mbool)\n\u001b[1;32m     83\u001b[0m \u001b[39mself\u001b[39m\u001b[39m.\u001b[39mshape \u001b[39m=\u001b[39m \u001b[39mself\u001b[39m\u001b[39m.\u001b[39mdata\u001b[39m.\u001b[39mshape\n\u001b[1;32m     84\u001b[0m \u001b[39mself\u001b[39m\u001b[39m.\u001b[39msupports_delta_masking \u001b[39m=\u001b[39m \u001b[39mTrue\u001b[39;00m\n",
      "File \u001b[0;32m/data/DATALAB_PAU/20_projects/j0215602/DS_NLP/env/lib/python3.9/site-packages/numpy/__init__.py:305\u001b[0m, in \u001b[0;36m__getattr__\u001b[0;34m(attr)\u001b[0m\n\u001b[1;32m    300\u001b[0m     warnings\u001b[39m.\u001b[39mwarn(\n\u001b[1;32m    301\u001b[0m         \u001b[39mf\u001b[39m\u001b[39m\"\u001b[39m\u001b[39mIn the future `np.\u001b[39m\u001b[39m{\u001b[39;00mattr\u001b[39m}\u001b[39;00m\u001b[39m` will be defined as the \u001b[39m\u001b[39m\"\u001b[39m\n\u001b[1;32m    302\u001b[0m         \u001b[39m\"\u001b[39m\u001b[39mcorresponding NumPy scalar.\u001b[39m\u001b[39m\"\u001b[39m, \u001b[39mFutureWarning\u001b[39;00m, stacklevel\u001b[39m=\u001b[39m\u001b[39m2\u001b[39m)\n\u001b[1;32m    304\u001b[0m \u001b[39mif\u001b[39;00m attr \u001b[39min\u001b[39;00m __former_attrs__:\n\u001b[0;32m--> 305\u001b[0m     \u001b[39mraise\u001b[39;00m \u001b[39mAttributeError\u001b[39;00m(__former_attrs__[attr])\n\u001b[1;32m    307\u001b[0m \u001b[39m# Importing Tester requires importing all of UnitTest which is not a\u001b[39;00m\n\u001b[1;32m    308\u001b[0m \u001b[39m# cheap import Since it is mainly used in test suits, we lazy import it\u001b[39;00m\n\u001b[1;32m    309\u001b[0m \u001b[39m# here to save on the order of 10 ms of import time for most users\u001b[39;00m\n\u001b[1;32m    310\u001b[0m \u001b[39m#\u001b[39;00m\n\u001b[1;32m    311\u001b[0m \u001b[39m# The previous way Tester was imported also had a side effect of adding\u001b[39;00m\n\u001b[1;32m    312\u001b[0m \u001b[39m# the full `numpy.testing` namespace\u001b[39;00m\n\u001b[1;32m    313\u001b[0m \u001b[39mif\u001b[39;00m attr \u001b[39m==\u001b[39m \u001b[39m'\u001b[39m\u001b[39mtesting\u001b[39m\u001b[39m'\u001b[39m:\n",
      "\u001b[0;31mAttributeError\u001b[0m: module 'numpy' has no attribute 'bool'.\n`np.bool` was a deprecated alias for the builtin `bool`. To avoid this error in existing code, use `bool` by itself. Doing this will not modify any behavior and is safe. If you specifically wanted the numpy scalar type, use `np.bool_` here.\nThe aliases was originally deprecated in NumPy 1.20; for more details and guidance see the original release note at:\n    https://numpy.org/devdocs/release/1.20.0-notes.html#deprecations"
     ]
    }
   ],
   "source": [
    "\n",
    "\n",
    "explainer = shap.TreeExplainer(rf, data=X_test_bin_tfidf.toarray())\n",
    "\n",
    "shap_values = explainer.shap_values(X_test_bin_tfidf.todense(), approximate=True)\n",
    "\n",
    "print('Expected Value:', explainer.expected_value)\n",
    "\n",
    "pd.DataFrame(shap_values).head()"
   ]
  },
  {
   "attachments": {},
   "cell_type": "markdown",
   "id": "f0684619",
   "metadata": {},
   "source": [
    "## 3 classes"
   ]
  },
  {
   "cell_type": "code",
   "execution_count": 67,
   "id": "edbe5707",
   "metadata": {},
   "outputs": [
    {
     "data": {
      "text/html": [
       "<style>#sk-container-id-3 {color: black;background-color: white;}#sk-container-id-3 pre{padding: 0;}#sk-container-id-3 div.sk-toggleable {background-color: white;}#sk-container-id-3 label.sk-toggleable__label {cursor: pointer;display: block;width: 100%;margin-bottom: 0;padding: 0.3em;box-sizing: border-box;text-align: center;}#sk-container-id-3 label.sk-toggleable__label-arrow:before {content: \"▸\";float: left;margin-right: 0.25em;color: #696969;}#sk-container-id-3 label.sk-toggleable__label-arrow:hover:before {color: black;}#sk-container-id-3 div.sk-estimator:hover label.sk-toggleable__label-arrow:before {color: black;}#sk-container-id-3 div.sk-toggleable__content {max-height: 0;max-width: 0;overflow: hidden;text-align: left;background-color: #f0f8ff;}#sk-container-id-3 div.sk-toggleable__content pre {margin: 0.2em;color: black;border-radius: 0.25em;background-color: #f0f8ff;}#sk-container-id-3 input.sk-toggleable__control:checked~div.sk-toggleable__content {max-height: 200px;max-width: 100%;overflow: auto;}#sk-container-id-3 input.sk-toggleable__control:checked~label.sk-toggleable__label-arrow:before {content: \"▾\";}#sk-container-id-3 div.sk-estimator input.sk-toggleable__control:checked~label.sk-toggleable__label {background-color: #d4ebff;}#sk-container-id-3 div.sk-label input.sk-toggleable__control:checked~label.sk-toggleable__label {background-color: #d4ebff;}#sk-container-id-3 input.sk-hidden--visually {border: 0;clip: rect(1px 1px 1px 1px);clip: rect(1px, 1px, 1px, 1px);height: 1px;margin: -1px;overflow: hidden;padding: 0;position: absolute;width: 1px;}#sk-container-id-3 div.sk-estimator {font-family: monospace;background-color: #f0f8ff;border: 1px dotted black;border-radius: 0.25em;box-sizing: border-box;margin-bottom: 0.5em;}#sk-container-id-3 div.sk-estimator:hover {background-color: #d4ebff;}#sk-container-id-3 div.sk-parallel-item::after {content: \"\";width: 100%;border-bottom: 1px solid gray;flex-grow: 1;}#sk-container-id-3 div.sk-label:hover label.sk-toggleable__label {background-color: #d4ebff;}#sk-container-id-3 div.sk-serial::before {content: \"\";position: absolute;border-left: 1px solid gray;box-sizing: border-box;top: 0;bottom: 0;left: 50%;z-index: 0;}#sk-container-id-3 div.sk-serial {display: flex;flex-direction: column;align-items: center;background-color: white;padding-right: 0.2em;padding-left: 0.2em;position: relative;}#sk-container-id-3 div.sk-item {position: relative;z-index: 1;}#sk-container-id-3 div.sk-parallel {display: flex;align-items: stretch;justify-content: center;background-color: white;position: relative;}#sk-container-id-3 div.sk-item::before, #sk-container-id-3 div.sk-parallel-item::before {content: \"\";position: absolute;border-left: 1px solid gray;box-sizing: border-box;top: 0;bottom: 0;left: 50%;z-index: -1;}#sk-container-id-3 div.sk-parallel-item {display: flex;flex-direction: column;z-index: 1;position: relative;background-color: white;}#sk-container-id-3 div.sk-parallel-item:first-child::after {align-self: flex-end;width: 50%;}#sk-container-id-3 div.sk-parallel-item:last-child::after {align-self: flex-start;width: 50%;}#sk-container-id-3 div.sk-parallel-item:only-child::after {width: 0;}#sk-container-id-3 div.sk-dashed-wrapped {border: 1px dashed gray;margin: 0 0.4em 0.5em 0.4em;box-sizing: border-box;padding-bottom: 0.4em;background-color: white;}#sk-container-id-3 div.sk-label label {font-family: monospace;font-weight: bold;display: inline-block;line-height: 1.2em;}#sk-container-id-3 div.sk-label-container {text-align: center;}#sk-container-id-3 div.sk-container {/* jupyter's `normalize.less` sets `[hidden] { display: none; }` but bootstrap.min.css set `[hidden] { display: none !important; }` so we also need the `!important` here to be able to override the default hidden behavior on the sphinx rendered scikit-learn.org. See: https://github.com/scikit-learn/scikit-learn/issues/21755 */display: inline-block !important;position: relative;}#sk-container-id-3 div.sk-text-repr-fallback {display: none;}</style><div id=\"sk-container-id-3\" class=\"sk-top-container\"><div class=\"sk-text-repr-fallback\"><pre>RandomForestClassifier(n_jobs=-1)</pre><b>In a Jupyter environment, please rerun this cell to show the HTML representation or trust the notebook. <br />On GitHub, the HTML representation is unable to render, please try loading this page with nbviewer.org.</b></div><div class=\"sk-container\" hidden><div class=\"sk-item\"><div class=\"sk-estimator sk-toggleable\"><input class=\"sk-toggleable__control sk-hidden--visually\" id=\"sk-estimator-id-3\" type=\"checkbox\" checked><label for=\"sk-estimator-id-3\" class=\"sk-toggleable__label sk-toggleable__label-arrow\">RandomForestClassifier</label><div class=\"sk-toggleable__content\"><pre>RandomForestClassifier(n_jobs=-1)</pre></div></div></div></div></div>"
      ],
      "text/plain": [
       "RandomForestClassifier(n_jobs=-1)"
      ]
     },
     "execution_count": 67,
     "metadata": {},
     "output_type": "execute_result"
    }
   ],
   "source": [
    "# Application de TF-IDF aux avis\n",
    "vectorizer = TfidfVectorizer(max_features=5000, stop_words=stopwords.words('french'), ngram_range=(2,4))\n",
    "X_train_tfidf = vectorizer.fit_transform(df_train[\"text_preprocess\"].values)\n",
    "X_test_tfidf = vectorizer.transform(df_test[\"text_preprocess\"].values)\n",
    "\n",
    "rf = RandomForestClassifier(n_jobs=-1)\n",
    "\n",
    "# Entraînement du modèle.\n",
    "rf.fit(X_train_tfidf, y_train)"
   ]
  },
  {
   "cell_type": "code",
   "execution_count": 69,
   "id": "15fd01a6",
   "metadata": {},
   "outputs": [
    {
     "name": "stderr",
     "output_type": "stream",
     "text": [
      "/data/DATALAB_PAU/18_HPC/tmp/ipykernel_75949/2176178015.py:11: UserWarning: FixedFormatter should only be used together with FixedLocator\n",
      "  ax.set_xticklabels([\"\"]+labels)\n",
      "/data/DATALAB_PAU/18_HPC/tmp/ipykernel_75949/2176178015.py:13: UserWarning: FixedFormatter should only be used together with FixedLocator\n",
      "  ax.set_yticklabels([\"\"]+labels)\n"
     ]
    },
    {
     "data": {
      "image/png": "[encoded data removed]",
      "text/plain": [
       "<Figure size 750x750 with 1 Axes>"
      ]
     },
     "metadata": {},
     "output_type": "display_data"
    }
   ],
   "source": [
    "LABELS = [0, 1, 2]\n",
    "y_pred = rf.predict(X_test_tfidf)\n",
    "\n",
    "cm = confusion_matrix(y_test, y_pred)\n",
    "plotCMX(LABELS, cm)"
   ]
  },
  {
   "cell_type": "code",
   "execution_count": 70,
   "id": "5c7226c7",
   "metadata": {},
   "outputs": [
    {
     "name": "stdout",
     "output_type": "stream",
     "text": [
      "                   precision    recall  f1-score   support\n",
      "\n",
      "__label__NEGATIVE       0.79      0.80      0.79      5550\n",
      " __label__NEUTRAL       0.18      0.20      0.19      1272\n",
      "__label__POSITIVE       0.90      0.89      0.89     14292\n",
      "\n",
      "         accuracy                           0.82     21114\n",
      "        macro avg       0.62      0.63      0.63     21114\n",
      "     weighted avg       0.83      0.82      0.82     21114\n",
      "\n"
     ]
    }
   ],
   "source": [
    "print(classification_report(y_test, y_pred))"
   ]
  },
  {
   "cell_type": "code",
   "execution_count": null,
   "id": "4feac44f",
   "metadata": {},
   "outputs": [],
   "source": []
  }
 ],
 "metadata": {
  "kernelspec": {
   "display_name": "Python 3 (ipykernel)",
   "language": "python",
   "name": "python3"
  },
  "language_info": {
   "codemirror_mode": {
    "name": "ipython",
    "version": 3
   },
   "file_extension": ".py",
   "mimetype": "text/x-python",
   "name": "python",
   "nbconvert_exporter": "python",
   "pygments_lexer": "ipython3",
   "version": "3.9.16"
  }
 },
 "nbformat": 4,
 "nbformat_minor": 5
}
