{
 "cells": [
  {
   "attachments": {},
   "cell_type": "markdown",
   "id": "a76c96aa",
   "metadata": {},
   "source": [
    "<table style=\"border:none; border-collapse:collapse; cellspacing:0; cellpadding:0\">\n",
    "    <tr>\n",
    "        <td width=30% style=\"border:none\">\n",
    "            <img src=\"logo_datascientest.png\" width=\"100%\"/>\n",
    "        </td>\n",
    "        <td style=\"border:none\">\n",
    "            <center>\n",
    "                <h1>DS project: Customer satisfaction</h1>\n",
    "                <h2>Topic Modeling - BERTopic</h2>\n",
    "            </center>\n",
    "        </td>\n",
    "    </tr>\n",
    "</table>\n",
    "\n",
    "<hr>\n",
    "\n",
    "**Date** : 2023\n",
    "\n",
    "**Author** : Elie MAZE, Luc Thomas\n",
    "\n",
    "**Goal** : Trouver les topics à partir d'avis de clients et estimer comment ils sont liés à des sujets de mécontentements ou  de satisfaction:  \n",
    "- experience utilisateur  \n",
    "- livraison / logistique  \n",
    "- service client  \n",
    "- qualité du produit  \n",
    "   ..."
   ]
  },
  {
   "cell_type": "code",
   "execution_count": 65,
   "id": "d4dc1580",
   "metadata": {},
   "outputs": [
    {
     "name": "stdout",
     "output_type": "stream",
     "text": [
      "The autoreload extension is already loaded. To reload it, use:\n",
      "  %reload_ext autoreload\n"
     ]
    }
   ],
   "source": [
    "import _mypath\n",
    "import os\n",
    "import pandas as pd\n",
    "import numpy as np\n",
    "from tqdm import tqdm\n",
    "from threadpoolctl import threadpool_limits\n",
    "\n",
    "import gensim\n",
    "from gensim.utils import simple_preprocess\n",
    "import gensim.corpora as corpora\n",
    "from gensim.models import CoherenceModel\n",
    "from gensim.models.phrases import Phrases, Phraser\n",
    "\n",
    "from random import choice\n",
    "\n",
    "import nltk\n",
    "nltk.data.path.append(\"/data/DATALAB_PAU/18_HPC/nltk_data\")\n",
    "from nltk.corpus import stopwords\n",
    "\n",
    "from pprint import pprint\n",
    "\n",
    "from data.processing import plot_word_cloud\n",
    "from visu.visu import plotVectors\n",
    "\n",
    "from IPython.display import IFrame\n",
    "\n",
    "import seaborn as sns\n",
    "import matplotlib.pyplot as plt\n",
    "%matplotlib inline\n",
    "\n",
    "%load_ext autoreload\n",
    "%autoreload 1"
   ]
  },
  {
   "cell_type": "code",
   "execution_count": 2,
   "id": "8b88cebe",
   "metadata": {},
   "outputs": [
    {
     "name": "stdout",
     "output_type": "stream",
     "text": [
      "pyLDAvis: 3.4.0\n"
     ]
    }
   ],
   "source": [
    "import pyLDAvis.gensim\n",
    "import pickle \n",
    "import pyLDAvis\n",
    "print(\"pyLDAvis: {0}\".format(pyLDAvis.__version__))\n",
    "\n",
    "pyLDAvis.enable_notebook()"
   ]
  },
  {
   "cell_type": "code",
   "execution_count": 3,
   "id": "8088600f",
   "metadata": {},
   "outputs": [],
   "source": [
    "stop_words = stopwords.words('french')"
   ]
  },
  {
   "cell_type": "code",
   "execution_count": 67,
   "id": "700081da",
   "metadata": {},
   "outputs": [],
   "source": [
    "PRJ_FOLDER = \"/data/DATALAB_PAU/20_projects/j0215602/DS_NLP\"\n",
    "#PRJ_FOLDER = r\"D:\\DevPy\\DS_NLP\"\n",
    "\n",
    "DATA_FOLDER = os.path.join(PRJ_FOLDER, \"input\", \"processed\")\n",
    "OUTDIR = os.path.join(PRJ_FOLDER, \"lda_results\")\n",
    "\n",
    "_MAX_WORKERS = 8"
   ]
  },
  {
   "attachments": {},
   "cell_type": "markdown",
   "id": "7ab46244",
   "metadata": {},
   "source": [
    "# Data loading"
   ]
  },
  {
   "cell_type": "code",
   "execution_count": 5,
   "id": "58b3b8f1",
   "metadata": {},
   "outputs": [
    {
     "name": "stdout",
     "output_type": "stream",
     "text": [
      "data set: (105511, 11)\n"
     ]
    }
   ],
   "source": [
    "infile = os.path.join(DATA_FOLDER, \"processed_dataset.csv\")\n",
    "df = pd.read_csv(infile, sep=\",\", encoding=\"utf-8\", engine=\"python\")\n",
    "\n",
    "print(\"data set:\", df.shape)"
   ]
  },
  {
   "cell_type": "code",
   "execution_count": 6,
   "id": "331d02ca",
   "metadata": {},
   "outputs": [
    {
     "data": {
      "text/html": [
       "<div>\n",
       "<style scoped>\n",
       "    .dataframe tbody tr th:only-of-type {\n",
       "        vertical-align: middle;\n",
       "    }\n",
       "\n",
       "    .dataframe tbody tr th {\n",
       "        vertical-align: top;\n",
       "    }\n",
       "\n",
       "    .dataframe thead th {\n",
       "        text-align: right;\n",
       "    }\n",
       "</style>\n",
       "<table border=\"1\" class=\"dataframe\">\n",
       "  <thead>\n",
       "    <tr style=\"text-align: right;\">\n",
       "      <th></th>\n",
       "      <th>Commentaire</th>\n",
       "      <th>star</th>\n",
       "      <th>date</th>\n",
       "      <th>client</th>\n",
       "      <th>reponse</th>\n",
       "      <th>source</th>\n",
       "      <th>company</th>\n",
       "      <th>langage</th>\n",
       "      <th>cleaned_words</th>\n",
       "      <th>cleaned_lemma</th>\n",
       "      <th>Sentiment</th>\n",
       "    </tr>\n",
       "  </thead>\n",
       "  <tbody>\n",
       "    <tr>\n",
       "      <th>0</th>\n",
       "      <td>Colis commandé mardi 28 fevrier 23  , livraiso...</td>\n",
       "      <td>1</td>\n",
       "      <td>2023-03-07</td>\n",
       "      <td>Toto</td>\n",
       "      <td>NaN</td>\n",
       "      <td>TrustPilot</td>\n",
       "      <td>Amazon</td>\n",
       "      <td>fr</td>\n",
       "      <td>colis commandé mardi  fevrier   livraison  jeu...</td>\n",
       "      <td>colis commander mardi  fevrier   livraison  je...</td>\n",
       "      <td>__label__NEGATIVE</td>\n",
       "    </tr>\n",
       "    <tr>\n",
       "      <th>1</th>\n",
       "      <td>Amazon avec sa politique de retour est la pire...</td>\n",
       "      <td>1</td>\n",
       "      <td>2023-03-07</td>\n",
       "      <td>nasri eddine</td>\n",
       "      <td>NaN</td>\n",
       "      <td>TrustPilot</td>\n",
       "      <td>Amazon</td>\n",
       "      <td>fr</td>\n",
       "      <td>amazon   politique     pire     contrairement ...</td>\n",
       "      <td>amazon   politique     pire     contrairement ...</td>\n",
       "      <td>__label__NEGATIVE</td>\n",
       "    </tr>\n",
       "    <tr>\n",
       "      <th>2</th>\n",
       "      <td>Dieu sait que j'en connais des déboires avec l...</td>\n",
       "      <td>4</td>\n",
       "      <td>2023-03-07</td>\n",
       "      <td>Amandine</td>\n",
       "      <td>NaN</td>\n",
       "      <td>TrustPilot</td>\n",
       "      <td>Amazon</td>\n",
       "      <td>fr</td>\n",
       "      <td>dieu     connais  déboires   sites marchands  ...</td>\n",
       "      <td>dieu     connaître  déboire   site marchand  a...</td>\n",
       "      <td>__label__POSITIVE</td>\n",
       "    </tr>\n",
       "    <tr>\n",
       "      <th>3</th>\n",
       "      <td>Nul, preleve une commande que je n'ai jamais r...</td>\n",
       "      <td>1</td>\n",
       "      <td>2023-03-07</td>\n",
       "      <td>Bob Brico</td>\n",
       "      <td>NaN</td>\n",
       "      <td>TrustPilot</td>\n",
       "      <td>Amazon</td>\n",
       "      <td>fr</td>\n",
       "      <td>preleve  commande     jamais reçu   service cl...</td>\n",
       "      <td>prelev  commande     jamais recevoir   service...</td>\n",
       "      <td>__label__NEGATIVE</td>\n",
       "    </tr>\n",
       "    <tr>\n",
       "      <th>4</th>\n",
       "      <td>Colis soit disant livré mais jamais reçu donc ...</td>\n",
       "      <td>1</td>\n",
       "      <td>2023-03-06</td>\n",
       "      <td>Client</td>\n",
       "      <td>NaN</td>\n",
       "      <td>TrustPilot</td>\n",
       "      <td>Amazon</td>\n",
       "      <td>fr</td>\n",
       "      <td>colis  disant livré  jamais reçu  perdu non re...</td>\n",
       "      <td>colis  dire livrer  jamais recevoir  perdre no...</td>\n",
       "      <td>__label__NEGATIVE</td>\n",
       "    </tr>\n",
       "  </tbody>\n",
       "</table>\n",
       "</div>"
      ],
      "text/plain": [
       "                                         Commentaire  star        date   \n",
       "0  Colis commandé mardi 28 fevrier 23  , livraiso...     1  2023-03-07  \\\n",
       "1  Amazon avec sa politique de retour est la pire...     1  2023-03-07   \n",
       "2  Dieu sait que j'en connais des déboires avec l...     4  2023-03-07   \n",
       "3  Nul, preleve une commande que je n'ai jamais r...     1  2023-03-07   \n",
       "4  Colis soit disant livré mais jamais reçu donc ...     1  2023-03-06   \n",
       "\n",
       "         client reponse      source company langage   \n",
       "0          Toto     NaN  TrustPilot  Amazon      fr  \\\n",
       "1  nasri eddine     NaN  TrustPilot  Amazon      fr   \n",
       "2      Amandine     NaN  TrustPilot  Amazon      fr   \n",
       "3     Bob Brico     NaN  TrustPilot  Amazon      fr   \n",
       "4        Client     NaN  TrustPilot  Amazon      fr   \n",
       "\n",
       "                                       cleaned_words   \n",
       "0  colis commandé mardi  fevrier   livraison  jeu...  \\\n",
       "1  amazon   politique     pire     contrairement ...   \n",
       "2  dieu     connais  déboires   sites marchands  ...   \n",
       "3  preleve  commande     jamais reçu   service cl...   \n",
       "4  colis  disant livré  jamais reçu  perdu non re...   \n",
       "\n",
       "                                       cleaned_lemma          Sentiment  \n",
       "0  colis commander mardi  fevrier   livraison  je...  __label__NEGATIVE  \n",
       "1  amazon   politique     pire     contrairement ...  __label__NEGATIVE  \n",
       "2  dieu     connaître  déboire   site marchand  a...  __label__POSITIVE  \n",
       "3  prelev  commande     jamais recevoir   service...  __label__NEGATIVE  \n",
       "4  colis  dire livrer  jamais recevoir  perdre no...  __label__NEGATIVE  "
      ]
     },
     "execution_count": 6,
     "metadata": {},
     "output_type": "execute_result"
    }
   ],
   "source": [
    "df.head(5)"
   ]
  },
  {
   "cell_type": "code",
   "execution_count": 7,
   "id": "cd23f836",
   "metadata": {},
   "outputs": [
    {
     "data": {
      "text/plain": [
       "star\n",
       "5    52991\n",
       "1    24140\n",
       "4    18418\n",
       "3     6355\n",
       "2     3607\n",
       "Name: count, dtype: int64"
      ]
     },
     "execution_count": 7,
     "metadata": {},
     "output_type": "execute_result"
    }
   ],
   "source": [
    "df.star.value_counts()"
   ]
  },
  {
   "cell_type": "code",
   "execution_count": 8,
   "id": "7a13cb5d",
   "metadata": {},
   "outputs": [
    {
     "name": "stdout",
     "output_type": "stream",
     "text": [
      "samples per star: 2000\n",
      "Samples: (10000, 5)\n"
     ]
    },
    {
     "data": {
      "text/html": [
       "<div>\n",
       "<style scoped>\n",
       "    .dataframe tbody tr th:only-of-type {\n",
       "        vertical-align: middle;\n",
       "    }\n",
       "\n",
       "    .dataframe tbody tr th {\n",
       "        vertical-align: top;\n",
       "    }\n",
       "\n",
       "    .dataframe thead th {\n",
       "        text-align: right;\n",
       "    }\n",
       "</style>\n",
       "<table border=\"1\" class=\"dataframe\">\n",
       "  <thead>\n",
       "    <tr style=\"text-align: right;\">\n",
       "      <th></th>\n",
       "      <th>Commentaire</th>\n",
       "      <th>cleaned_words</th>\n",
       "      <th>cleaned_lemma</th>\n",
       "      <th>star</th>\n",
       "      <th>satisfaction</th>\n",
       "    </tr>\n",
       "  </thead>\n",
       "  <tbody>\n",
       "    <tr>\n",
       "      <th>0</th>\n",
       "      <td>Bonjour, je tiens a prévenir tout le monde du ...</td>\n",
       "      <td>bonjour     prévenir   monde  vol frauduleux  ...</td>\n",
       "      <td>bonjour     prévenir   monde  vol frauduleux  ...</td>\n",
       "      <td>1</td>\n",
       "      <td>negative</td>\n",
       "    </tr>\n",
       "    <tr>\n",
       "      <th>1</th>\n",
       "      <td>Mon litige avec C Discount dure depuis décembr...</td>\n",
       "      <td>litige   discount dure  décembre   suite   avi...</td>\n",
       "      <td>litige   discount dur  décembre   suite   avis...</td>\n",
       "      <td>1</td>\n",
       "      <td>negative</td>\n",
       "    </tr>\n",
       "    <tr>\n",
       "      <th>2</th>\n",
       "      <td>Les codes de réductions ne fonctionnent pas po...</td>\n",
       "      <td>codes  réductions  fonctionnent    etudiants</td>\n",
       "      <td>code  réduction  fonctionner    etudiant</td>\n",
       "      <td>1</td>\n",
       "      <td>negative</td>\n",
       "    </tr>\n",
       "    <tr>\n",
       "      <th>3</th>\n",
       "      <td>Très déçue. Je commande un jeu de croquet pour...</td>\n",
       "      <td>déçue   commande  jeu  croquet   été   env   r...</td>\n",
       "      <td>déçu   commande  jeu  croquet   être   env   r...</td>\n",
       "      <td>1</td>\n",
       "      <td>negative</td>\n",
       "    </tr>\n",
       "    <tr>\n",
       "      <th>4</th>\n",
       "      <td>Service client inexistant, j'ai commandé un té...</td>\n",
       "      <td>service client inexistant    commandé  télépho...</td>\n",
       "      <td>service client inexistant    commander  téléph...</td>\n",
       "      <td>1</td>\n",
       "      <td>negative</td>\n",
       "    </tr>\n",
       "  </tbody>\n",
       "</table>\n",
       "</div>"
      ],
      "text/plain": [
       "                                         Commentaire   \n",
       "0  Bonjour, je tiens a prévenir tout le monde du ...  \\\n",
       "1  Mon litige avec C Discount dure depuis décembr...   \n",
       "2  Les codes de réductions ne fonctionnent pas po...   \n",
       "3  Très déçue. Je commande un jeu de croquet pour...   \n",
       "4  Service client inexistant, j'ai commandé un té...   \n",
       "\n",
       "                                       cleaned_words   \n",
       "0  bonjour     prévenir   monde  vol frauduleux  ...  \\\n",
       "1  litige   discount dure  décembre   suite   avi...   \n",
       "2       codes  réductions  fonctionnent    etudiants   \n",
       "3  déçue   commande  jeu  croquet   été   env   r...   \n",
       "4  service client inexistant    commandé  télépho...   \n",
       "\n",
       "                                       cleaned_lemma  star satisfaction  \n",
       "0  bonjour     prévenir   monde  vol frauduleux  ...     1     negative  \n",
       "1  litige   discount dur  décembre   suite   avis...     1     negative  \n",
       "2           code  réduction  fonctionner    etudiant     1     negative  \n",
       "3  déçu   commande  jeu  croquet   être   env   r...     1     negative  \n",
       "4  service client inexistant    commander  téléph...     1     negative  "
      ]
     },
     "execution_count": 8,
     "metadata": {},
     "output_type": "execute_result"
    }
   ],
   "source": [
    "SAMPLE_NB = 2000\n",
    "print(\"samples per star:\", SAMPLE_NB)\n",
    "\n",
    "samples = []\n",
    "\n",
    "for star in range(1,6):\n",
    "    satisfaction = \"negative\"\n",
    "    if star==3:\n",
    "        satisfaction = \"neutral\"\n",
    "    elif star>3:\n",
    "        satisfaction = \"positive\"\n",
    "        \n",
    "    mask = (df[\"star\"]==star)\n",
    "    sample = df.loc[mask, [\"Commentaire\", \"cleaned_words\", \"cleaned_lemma\", \"star\"]].sample(n=SAMPLE_NB)\n",
    "    sample[\"satisfaction\"] = satisfaction\n",
    "    samples += [sample]\n",
    "\n",
    "samples = pd.concat(samples)\n",
    "samples = samples.reset_index(drop=True)\n",
    "\n",
    "print(\"Samples:\", samples.shape)\n",
    "samples.head(5)"
   ]
  },
  {
   "cell_type": "code",
   "execution_count": 9,
   "id": "7e243750",
   "metadata": {},
   "outputs": [
    {
     "name": "stdout",
     "output_type": "stream",
     "text": [
      "reviews: 10000\n",
      "\n",
      "Bonjour à tous, petit retour sur le \"leader de l'E-commerce Français\" CDISCOUNT.Tout se passe bien pour passer commande et payer, forcément. je précise qu'il s'agit d'un TV LG 65 pouces. Facturé 37 euros de livraison tout de même.Commande passée le 2 juin. toujours pas expédiée à ce jour.Appel à CDISCOUNT le 8 Juin au service client qui m'indique qu'il n'est pas responsable car il n'est pas l'expéditeur direct du produit.leur service m'indique donc contacter directement le vendeur et laisser couler 48 ouvrés.Forcément, rien ne se produit, toujours pas de livraison.A l'issue des 48 heures ouvrées, nouvel appel à CDISCOUNT, m'indiquant que le vendeur a été notifié, mais toujours sans réponse. Aucune preuve ne m'est fournie.Dans le même temps, je parviens par mes propres moyen à contacter le vendeur (Société sans numéro de téléphone répondant au nom de EJACOS).Encore une fois, CDISCOUNT est incapable de me rendre des comptes sur son partenaire commercial.Le vendeur de EJACOS m'indique avoir mis en place un nouveau suivi client , bla, bla, bla.Nouvel appel le 11 juin, pas plus de renseignements.Il est incompréhensible pour moi que CDISCOUNT se décharge à tel point sur le vendeur, même si celui-ci est incompétent.Il doit répondre de ses partenaires, comme le fait AMAZON, vrai leader en terme de E COMMERCE.Très déçu.Je prévois d'équiper une cuisine en électroménager, mais compte tenu des délais de livraison à rallonge, je passerai mon chemin et me tournerai vers une autre enseigne, sans aucun doute, considérant les relations opaques ( voir inexistantes) entre ses partenaires commerciaux et ses transporteurs.C'est n'importe quoi. A revoir. Ne mérite pas une étoile complète.Je publie ce commentaire le 14 juin et le mettrai à jour une fois le problème solutionné, si solution il y a.Toujours pas de TV dans mon salon à ce jour.Bonjour Damien, comme dit dans mon message , ceci a déjà été fait . Et a 2 reprises. Merci pour cette non résolution.Commande N° 2106022056SJL3S.\n",
      "\n",
      "lemmas:\n",
      "bonjour    petit     leader   e-commerce français  cdiscount.tout  passer bien  passer commande  payer  forcément   préciser    agir   tv lg  pouce  facturer  euro  livraison   même.commande passer   juin    expédier   jour.appel  cdiscount   juin  service client   indique      responsable       expéditeur direct  produit.leur service  indique  contacter   vendeur   couler  ouvrés.forcément  rien   produire     livraison.a  issue   heure ouvrer  nouveau appel  cdiscount   indiquer   vendeur  être notifier     réponse  aucun preuve    fournie.dans   temps   parvenir   propre moyen  contacter  vendeur  société  numéro  téléphone répondre  nom  ejacos).encore  fois  cdiscount  incapable     compte   partenaire commercial.le vendeur  ejaco  indique  mettre  place   suivre client  bla  bla  bla.nouvel appel   juin     renseignements.il  incompréhensible    cdiscount  décharge   point   vendeur      incompétent.il  répondre   partenaire     amazon  vrai leader  terme   commerce.très déçu.j prévoir  équiper  cuisine  électroménager   compte tenir  délai  livraison  rallonge   passer  chemin   tourner    enseigne   aucun doute  considérer  relation opaque  voir inexistant    partenaire commercial   transporteurs.c'       revoir   mérite   étoile complète.je publier  commentaire   juin   mettre  jour  fois  problème solutionner   solution   a.toujours   tv   salon   jour.bonjour damien      message     être      reprise     non résolution.command numéro 2106022056sjl3s\n"
     ]
    }
   ],
   "source": [
    "reviews = samples[\"Commentaire\"].tolist()\n",
    "cleaned_reviews = samples[\"cleaned_words\"].tolist()\n",
    "lemma_reviews = samples[\"cleaned_lemma\"].tolist()\n",
    "\n",
    "print(\"reviews:\", len(reviews), end=\"\\n\\n\")\n",
    "print(reviews[10], end=\"\\n\\n\")\n",
    "\n",
    "print(\"lemmas:\")\n",
    "print(lemma_reviews[10])"
   ]
  },
  {
   "attachments": {},
   "cell_type": "markdown",
   "id": "f94994d0",
   "metadata": {},
   "source": [
    "# 1-grams\n",
    "## Prepare data for LDA Analysis"
   ]
  },
  {
   "cell_type": "code",
   "execution_count": 10,
   "id": "d32bf2e2",
   "metadata": {},
   "outputs": [],
   "source": [
    "def sent_to_words(comments):\n",
    "    for sentence in comments:\n",
    "        # deacc=True removes punctuations\n",
    "        yield(gensim.utils.simple_preprocess(str(sentence), deacc=True))"
   ]
  },
  {
   "cell_type": "code",
   "execution_count": 11,
   "id": "c0cb2f85",
   "metadata": {},
   "outputs": [
    {
     "name": "stdout",
     "output_type": "stream",
     "text": [
      "comments_words: 10000\n"
     ]
    },
    {
     "data": {
      "text/plain": [
       "['bonjour',\n",
       " 'prevenir',\n",
       " 'monde',\n",
       " 'vol',\n",
       " 'frauduleux',\n",
       " 'cdiscount',\n",
       " 'intermediaire',\n",
       " 'paypal',\n",
       " 'service',\n",
       " 'prepayer',\n",
       " 'eventuel',\n",
       " 'livraison',\n",
       " 'etre',\n",
       " 'facturer',\n",
       " 'euro']"
      ]
     },
     "execution_count": 11,
     "metadata": {},
     "output_type": "execute_result"
    }
   ],
   "source": [
    "comments_words = list(sent_to_words(lemma_reviews))\n",
    "\n",
    "print(\"comments_words:\", len(comments_words))\n",
    "comments_words[0]"
   ]
  },
  {
   "cell_type": "code",
   "execution_count": 19,
   "id": "e70d3365",
   "metadata": {},
   "outputs": [],
   "source": [
    "# create dictionary\n",
    "id2word = corpora.Dictionary(comments_words)\n",
    "\n",
    "# create Corpus\n",
    "# Term Document Frequency (TDF)\n",
    "corpus = [id2word.doc2bow(text) for text in comments_words]"
   ]
  },
  {
   "cell_type": "code",
   "execution_count": 20,
   "id": "6af05345",
   "metadata": {},
   "outputs": [
    {
     "name": "stdout",
     "output_type": "stream",
     "text": [
      "Corpus:\n",
      "\n",
      "0 [(0, 1), (1, 1), (2, 1), (3, 1), (4, 1), (5, 1), (6, 1), (7, 1), (8, 1), (9, 1), (10, 1), (11, 1), (12, 1), (13, 2), (14, 1), (15, 1), (16, 1), (17, 1), (18, 1)]\n",
      "1 [(19, 1), (20, 1), (21, 1), (22, 1), (23, 1), (24, 1), (25, 1), (26, 1), (27, 1), (28, 1)]\n",
      "...\n",
      "N [(108, 1), (116, 1), (135, 1), (203, 1), (243, 1), (366, 1), (573, 1), (618, 1), (1226, 1), (2488, 1), (4968, 1)]\n"
     ]
    }
   ],
   "source": [
    "print(\"Corpus:\", end=\"\\n\\n\")\n",
    "print(0, corpus[0])\n",
    "print(1, corpus[1])\n",
    "print(\"...\")\n",
    "print(\"N\", corpus[-1])"
   ]
  },
  {
   "attachments": {},
   "cell_type": "markdown",
   "id": "11c46012",
   "metadata": {},
   "source": [
    "## LDA model training"
   ]
  },
  {
   "attachments": {},
   "cell_type": "markdown",
   "id": "dabfa4dd",
   "metadata": {},
   "source": [
    "La cohérence (C_v) calcule la similarité entre les paires de mots présents dans un même sujet pour mesurer la cohérence intra-sujet. Plus précisément, elle calcule la mesure de similarité entre les mots en utilisant la mesure de co-occurrence pointwise mutual information (PMI)."
   ]
  },
  {
   "cell_type": "code",
   "execution_count": 34,
   "id": "b9b7519a",
   "metadata": {},
   "outputs": [],
   "source": [
    "benchmark = []\n",
    "topic_range = range(4,15)\n",
    "for k in topic_range:\n",
    "    lda_model = gensim.models.LdaMulticore(corpus=corpus, id2word=id2word, num_topics=k, passes=10, workers=4)\n",
    "    coherence_model_lda = CoherenceModel(model=lda_model, texts=comments_words, dictionary=id2word, coherence='c_v')\n",
    "    benchmark += [ [k, coherence_model_lda.get_coherence()] ]\n",
    "    \n",
    "bench_data = pd.DataFrame(benchmark)\n",
    "bench_data.columns = [\"k\", \"coherence\"]"
   ]
  },
  {
   "cell_type": "code",
   "execution_count": 41,
   "id": "130cfbd6",
   "metadata": {},
   "outputs": [
    {
     "data": {
      "text/html": [
       "<div>\n",
       "<style scoped>\n",
       "    .dataframe tbody tr th:only-of-type {\n",
       "        vertical-align: middle;\n",
       "    }\n",
       "\n",
       "    .dataframe tbody tr th {\n",
       "        vertical-align: top;\n",
       "    }\n",
       "\n",
       "    .dataframe thead th {\n",
       "        text-align: right;\n",
       "    }\n",
       "</style>\n",
       "<table border=\"1\" class=\"dataframe\">\n",
       "  <thead>\n",
       "    <tr style=\"text-align: right;\">\n",
       "      <th></th>\n",
       "      <th>k</th>\n",
       "      <th>coherence</th>\n",
       "    </tr>\n",
       "  </thead>\n",
       "  <tbody>\n",
       "    <tr>\n",
       "      <th>0</th>\n",
       "      <td>4</td>\n",
       "      <td>0.507972</td>\n",
       "    </tr>\n",
       "    <tr>\n",
       "      <th>1</th>\n",
       "      <td>5</td>\n",
       "      <td>0.515276</td>\n",
       "    </tr>\n",
       "    <tr>\n",
       "      <th>2</th>\n",
       "      <td>6</td>\n",
       "      <td>0.477113</td>\n",
       "    </tr>\n",
       "    <tr>\n",
       "      <th>3</th>\n",
       "      <td>7</td>\n",
       "      <td>0.458641</td>\n",
       "    </tr>\n",
       "    <tr>\n",
       "      <th>4</th>\n",
       "      <td>8</td>\n",
       "      <td>0.514857</td>\n",
       "    </tr>\n",
       "    <tr>\n",
       "      <th>5</th>\n",
       "      <td>9</td>\n",
       "      <td>0.506380</td>\n",
       "    </tr>\n",
       "    <tr>\n",
       "      <th>6</th>\n",
       "      <td>10</td>\n",
       "      <td>0.501349</td>\n",
       "    </tr>\n",
       "    <tr>\n",
       "      <th>7</th>\n",
       "      <td>11</td>\n",
       "      <td>0.508384</td>\n",
       "    </tr>\n",
       "    <tr>\n",
       "      <th>8</th>\n",
       "      <td>12</td>\n",
       "      <td>0.498023</td>\n",
       "    </tr>\n",
       "    <tr>\n",
       "      <th>9</th>\n",
       "      <td>13</td>\n",
       "      <td>0.511727</td>\n",
       "    </tr>\n",
       "    <tr>\n",
       "      <th>10</th>\n",
       "      <td>14</td>\n",
       "      <td>0.482035</td>\n",
       "    </tr>\n",
       "  </tbody>\n",
       "</table>\n",
       "</div>"
      ],
      "text/plain": [
       "     k  coherence\n",
       "0    4   0.507972\n",
       "1    5   0.515276\n",
       "2    6   0.477113\n",
       "3    7   0.458641\n",
       "4    8   0.514857\n",
       "5    9   0.506380\n",
       "6   10   0.501349\n",
       "7   11   0.508384\n",
       "8   12   0.498023\n",
       "9   13   0.511727\n",
       "10  14   0.482035"
      ]
     },
     "execution_count": 41,
     "metadata": {},
     "output_type": "execute_result"
    }
   ],
   "source": [
    "bench_data"
   ]
  },
  {
   "cell_type": "code",
   "execution_count": 42,
   "id": "9b9b5203",
   "metadata": {},
   "outputs": [
    {
     "name": "stdout",
     "output_type": "stream",
     "text": [
      "Optimal number of topics: 5\n"
     ]
    }
   ],
   "source": [
    "i = bench_data[\"coherence\"].argmax()\n",
    "print(\"Optimal number of topics:\",  bench_data.at[i, \"k\"])"
   ]
  },
  {
   "cell_type": "code",
   "execution_count": 40,
   "id": "de6d496e",
   "metadata": {},
   "outputs": [
    {
     "name": "stderr",
     "output_type": "stream",
     "text": [
      "No artists with labels found to put in legend.  Note that artists whose label start with an underscore are ignored when legend() is called with no argument.\n"
     ]
    },
    {
     "data": {
      "image/png": "[encoded data removed]",
      "text/plain": [
       "<Figure size 800x400 with 1 Axes>"
      ]
     },
     "metadata": {},
     "output_type": "display_data"
    }
   ],
   "source": [
    "plt.figure(figsize=(8,4))\n",
    "plt.title('LDA model coherence vs number of topics', fontsize=14)\n",
    "sns.lineplot(data=bench_data, x='k', y='coherence')\n",
    "plt.xlabel(\"k\")\n",
    "plt.legend()\n",
    "plt.show()"
   ]
  },
  {
   "cell_type": "code",
   "execution_count": 43,
   "id": "7b6a2d37",
   "metadata": {},
   "outputs": [
    {
     "name": "stdout",
     "output_type": "stream",
     "text": [
      "[(0,\n",
      "  '0.018*\"vendeur\" + 0.017*\"produit\" + 0.016*\"avis\" + 0.014*\"acheter\" + '\n",
      "  '0.013*\"cdiscount\" + 0.013*\"fnac\" + 0.013*\"site\" + 0.010*\"amazon\" + '\n",
      "  '0.008*\"faire\" + 0.006*\"bien\"'),\n",
      " (1,\n",
      "  '0.021*\"service\" + 0.020*\"client\" + 0.020*\"commande\" + 0.013*\"amazon\" + '\n",
      "  '0.012*\"etre\" + 0.012*\"jour\" + 0.011*\"colis\" + 0.011*\"recevoir\" + '\n",
      "  '0.009*\"cdiscount\" + 0.009*\"faire\"'),\n",
      " (2,\n",
      "  '0.024*\"cdiscount\" + 0.021*\"carte\" + 0.021*\"frais\" + 0.018*\"prix\" + '\n",
      "  '0.014*\"article\" + 0.014*\"site\" + 0.013*\"payer\" + 0.013*\"fois\" + '\n",
      "  '0.012*\"livraison\" + 0.012*\"trop\"'),\n",
      " (3,\n",
      "  '0.053*\"commande\" + 0.031*\"livraison\" + 0.026*\"bien\" + 0.025*\"passer\" + '\n",
      "  '0.016*\"livrer\" + 0.015*\"rien\" + 0.014*\"bon\" + 0.014*\"colis\" + 0.013*\"fois\" '\n",
      "  '+ 0.012*\"cdiscount\"'),\n",
      " (4,\n",
      "  '0.040*\"bon\" + 0.040*\"livraison\" + 0.038*\"site\" + 0.032*\"rapide\" + '\n",
      "  '0.031*\"produit\" + 0.031*\"prix\" + 0.025*\"bien\" + 0.021*\"cdiscount\" + '\n",
      "  '0.019*\"choix\" + 0.019*\"commande\"')]\n"
     ]
    }
   ],
   "source": [
    "# number of topics\n",
    "num_topics = 5\n",
    "\n",
    "# build LDA model\n",
    "lda_model = gensim.models.LdaMulticore(corpus=corpus, id2word=id2word, num_topics=num_topics, passes=10, workers=2)\n",
    "\n",
    "# print the Keyword in the 10 topics\n",
    "pprint(lda_model.print_topics())"
   ]
  },
  {
   "attachments": {},
   "cell_type": "markdown",
   "id": "c2f7d1f1",
   "metadata": {},
   "source": [
    "## Analyzing LDA model results"
   ]
  },
  {
   "cell_type": "code",
   "execution_count": 45,
   "id": "433213ff",
   "metadata": {},
   "outputs": [
    {
     "name": "stderr",
     "output_type": "stream",
     "text": [
      "D:\\Programmes\\anaconda3\\lib\\site-packages\\pyLDAvis\\_prepare.py:243: FutureWarning: In a future version of pandas all arguments of DataFrame.drop except for the argument 'labels' will be keyword-only.\n",
      "  default_term_info = default_term_info.sort_values(\n"
     ]
    }
   ],
   "source": [
    "# visualize the topics\n",
    "LDAvis_data_filepath = os.path.join(OUTDIR, 'ldavis_prepared_'+str(num_topics))\n",
    "\n",
    "# # this is a bit time consuming - make the if statement True\n",
    "# # if you want to execute visualization prep yourself\n",
    "LDAvis_prepared = pyLDAvis.gensim.prepare(lda_model, corpus, id2word)\n",
    "with open(LDAvis_data_filepath, 'wb') as f:\n",
    "    pickle.dump(LDAvis_prepared, f)"
   ]
  },
  {
   "cell_type": "code",
   "execution_count": 46,
   "id": "3b4aeb34",
   "metadata": {},
   "outputs": [],
   "source": [
    "LDAvis_visu_filepath = os.path.join(OUTDIR, 'ldavis_prepared_'+str(num_topics) +'.html')\n",
    "\n",
    "with open(LDAvis_data_filepath, 'rb') as f:\n",
    "    LDAvis_prepared = pickle.load(f)\n",
    "    \n",
    "pyLDAvis.save_html(LDAvis_prepared, LDAvis_visu_filepath)"
   ]
  },
  {
   "cell_type": "code",
   "execution_count": 47,
   "id": "1731088b",
   "metadata": {},
   "outputs": [
    {
     "data": {
      "text/plain": [
       "18035"
      ]
     },
     "execution_count": 47,
     "metadata": {},
     "output_type": "execute_result"
    }
   ],
   "source": [
    "topics = lda_model.get_document_topics(corpus, per_word_topics=False)\n",
    "len(topics)"
   ]
  },
  {
   "cell_type": "code",
   "execution_count": 48,
   "id": "79c74e83",
   "metadata": {},
   "outputs": [],
   "source": [
    "THRESHOLD = 0.2\n",
    "\n",
    "max_topic = 0\n",
    "stats = []\n",
    "for i, doc_topics in enumerate(topics):\n",
    "    for topic, proba in doc_topics:\n",
    "        if proba<0.2: continue\n",
    "        \n",
    "        star = samples.at[i, \"star\"]\n",
    "        stats += [[topic, proba, star]]\n",
    "            \n",
    "stats = pd.DataFrame(stats)\n",
    "stats.columns = [\"topic\", \"proba\", \"star\"]"
   ]
  },
  {
   "cell_type": "code",
   "execution_count": 49,
   "id": "92b4c8a1",
   "metadata": {},
   "outputs": [
    {
     "data": {
      "image/png": "[encoded data removed]",
      "text/plain": [
       "<Figure size 1000x600 with 1 Axes>"
      ]
     },
     "metadata": {},
     "output_type": "display_data"
    }
   ],
   "source": [
    "fig, ax = plt.subplots(figsize=[10,6])\n",
    "sns.boxplot(x=\"topic\", y=\"star\", data=stats, ax=ax)\n",
    "plt.title(\"Distribution of star vs. stats\")\n",
    "plt.show()"
   ]
  },
  {
   "cell_type": "code",
   "execution_count": 51,
   "id": "1785e3b1",
   "metadata": {},
   "outputs": [
    {
     "name": "stdout",
     "output_type": "stream",
     "text": [
      "index: 4113\n",
      "\n",
      "J'ai été client  longtemps chez amazon , mais depuis cette nouvelle habitude avec leurs livreurs de laisser mes colis chez des inconnus sans me demander mon accord ni même avertir , j'ai décidé de refuser mes derniers colis et ce sera mes dernières commandes en ligne . En tout cas chez eux .\n",
      "\n",
      "Topic 1, Probability 0.8975427746772766\n",
      "   service    0.020598132\n",
      "   client    0.020201609\n",
      "   commande    0.01964285\n",
      "   amazon    0.013490512\n",
      "   etre    0.012460366\n",
      "   jour    0.01218225\n",
      "   colis    0.011359947\n",
      "   recevoir    0.0106516015\n",
      "   cdiscount    0.009087925\n",
      "   faire    0.00876274\n",
      "\n"
     ]
    }
   ],
   "source": [
    "index = choice(range(0, len(reviews)))\n",
    "\n",
    "print(\"index:\", index, end=\"\\n\\n\")\n",
    "print(reviews[index], end=\"\\n\\n\")\n",
    "\n",
    "doc_topics = topics[index]\n",
    "for topic, prob in doc_topics:\n",
    "    if prob>THRESHOLD:\n",
    "        print(f\"Topic {topic}, Probability {prob}\")\n",
    "        for term, tprob in lda_model.show_topic(topic):\n",
    "            print(\"  \", term, \"  \", tprob)\n",
    "        print()"
   ]
  },
  {
   "attachments": {},
   "cell_type": "markdown",
   "id": "85a8356d",
   "metadata": {},
   "source": [
    "## Conclusion"
   ]
  },
  {
   "attachments": {},
   "cell_type": "markdown",
   "id": "ced909da",
   "metadata": {},
   "source": [
    "Les thematiques principales associés aux 5 topics sont les suivantes:  \n",
    "  \n",
    "cluster 1  \n",
    "- produits \n",
    "- passer commande  \n",
    "- livraisons et logistique \n",
    "- service client  \n",
    "    \n",
    "cluster 2  \n",
    "- produits  \n",
    "- experience avec le vendeur  \n",
    "- avis  \n",
    "  \n",
    "cluster 3  \n",
    "- paiement et au prix/frais  \n",
    "  \n",
    "cluster 4  \n",
    "- prix, \n",
    "- service client \n",
    "- qualité du produit et au choix  \n",
    "- rapidité de la livraison  \n",
    "  \n",
    "  \n",
    "cluster 5  \n",
    "- passer commande  \n",
    "- livraisons et la logistique  "
   ]
  },
  {
   "attachments": {},
   "cell_type": "markdown",
   "id": "146f9311",
   "metadata": {},
   "source": [
    "# n-grams"
   ]
  },
  {
   "cell_type": "code",
   "execution_count": 98,
   "id": "a7babab3",
   "metadata": {},
   "outputs": [
    {
     "data": {
      "text/plain": [
       "10000"
      ]
     },
     "execution_count": 98,
     "metadata": {},
     "output_type": "execute_result"
    }
   ],
   "source": [
    "from nltk import ngrams\n",
    "\n",
    "comments_words = list(sent_to_words(lemma_reviews))\n",
    "reviews_bigrams = [[\"_\".join(list(items)) for items in ngrams(words, 2)] for words in comments_words] \n",
    "len(reviews_bigrams)"
   ]
  },
  {
   "cell_type": "code",
   "execution_count": 104,
   "id": "a6445abc",
   "metadata": {},
   "outputs": [],
   "source": [
    "from collections import Counter\n",
    "counter = Counter([grams for review in reviews_bigrams for grams in review])\n",
    "for k, v in counter.items():\n",
    "    v /= len(reviews_bigrams)\n",
    "    counter[k] = v"
   ]
  },
  {
   "cell_type": "code",
   "execution_count": 113,
   "id": "9165688a",
   "metadata": {},
   "outputs": [
    {
     "data": {
      "text/plain": [
       "<AxesSubplot:>"
      ]
     },
     "execution_count": 113,
     "metadata": {},
     "output_type": "execute_result"
    },
    {
     "data": {
      "image/png": "[encoded data removed]",
      "text/plain": [
       "<Figure size 640x480 with 1 Axes>"
      ]
     },
     "metadata": {},
     "output_type": "display_data"
    }
   ],
   "source": [
    "stats = pd.DataFrame.from_dict(counter, orient=\"index\", columns=[\"count\"])\n",
    "stats[\"count\"].hist(log=True, bins=100)"
   ]
  },
  {
   "cell_type": "code",
   "execution_count": 114,
   "id": "bbf63e69",
   "metadata": {},
   "outputs": [
    {
     "data": {
      "text/plain": [
       "0.0001"
      ]
     },
     "execution_count": 114,
     "metadata": {},
     "output_type": "execute_result"
    }
   ],
   "source": [
    "m = (stats[\"count\"]>0)\n",
    "stats.loc[m, \"count\"].min()"
   ]
  },
  {
   "cell_type": "code",
   "execution_count": 118,
   "id": "e4670d2b",
   "metadata": {},
   "outputs": [
    {
     "data": {
      "text/plain": [
       "8038"
      ]
     },
     "execution_count": 118,
     "metadata": {},
     "output_type": "execute_result"
    }
   ],
   "source": [
    "cleaned_bigrams = [bigrams for bigrams in [[item for item in items if counter[item]>=0.001] for items in reviews_bigrams] if bigrams ]\n",
    "len(cleaned_bigrams)\n"
   ]
  },
  {
   "cell_type": "code",
   "execution_count": 123,
   "id": "754efa86",
   "metadata": {},
   "outputs": [
    {
     "data": {
      "text/plain": [
       "['livraison_etre', 'facturer_euro']"
      ]
     },
     "execution_count": 123,
     "metadata": {},
     "output_type": "execute_result"
    }
   ],
   "source": [
    "cleaned_bigrams[0]"
   ]
  },
  {
   "cell_type": "code",
   "execution_count": 119,
   "id": "39d60581",
   "metadata": {},
   "outputs": [],
   "source": [
    "# create dictionary\n",
    "id2word = corpora.Dictionary(cleaned_bigrams)\n",
    "\n",
    "# create Corpus\n",
    "# Term Document Frequency (TDF)\n",
    "corpus = [id2word.doc2bow(text) for text in cleaned_bigrams]"
   ]
  },
  {
   "attachments": {},
   "cell_type": "markdown",
   "id": "7bf4742a",
   "metadata": {},
   "source": [
    "## LDA model training"
   ]
  },
  {
   "cell_type": "code",
   "execution_count": 126,
   "id": "70c2101a",
   "metadata": {},
   "outputs": [
    {
     "name": "stderr",
     "output_type": "stream",
     "text": [
      "100%|██████████| 11/11 [01:28<00:00,  8.04s/it]\n"
     ]
    }
   ],
   "source": [
    "benchmark = []\n",
    "topic_range = range(4,15)\n",
    "for k in tqdm(topic_range):\n",
    "    lda_model = gensim.models.LdaMulticore(corpus=corpus, id2word=id2word, num_topics=k, passes=10, workers=4)\n",
    "    coherence_model_lda = CoherenceModel(model=lda_model, texts=cleaned_bigrams, dictionary=id2word, coherence='c_v')\n",
    "    benchmark += [ [k, coherence_model_lda.get_coherence()] ]\n",
    "    \n",
    "bench_data = pd.DataFrame(benchmark)\n",
    "bench_data.columns = [\"k\", \"coherence\"]"
   ]
  },
  {
   "cell_type": "code",
   "execution_count": 127,
   "id": "1da22f1d",
   "metadata": {},
   "outputs": [
    {
     "data": {
      "text/html": [
       "<div>\n",
       "<style scoped>\n",
       "    .dataframe tbody tr th:only-of-type {\n",
       "        vertical-align: middle;\n",
       "    }\n",
       "\n",
       "    .dataframe tbody tr th {\n",
       "        vertical-align: top;\n",
       "    }\n",
       "\n",
       "    .dataframe thead th {\n",
       "        text-align: right;\n",
       "    }\n",
       "</style>\n",
       "<table border=\"1\" class=\"dataframe\">\n",
       "  <thead>\n",
       "    <tr style=\"text-align: right;\">\n",
       "      <th></th>\n",
       "      <th>k</th>\n",
       "      <th>coherence</th>\n",
       "    </tr>\n",
       "  </thead>\n",
       "  <tbody>\n",
       "    <tr>\n",
       "      <th>0</th>\n",
       "      <td>4</td>\n",
       "      <td>0.374781</td>\n",
       "    </tr>\n",
       "    <tr>\n",
       "      <th>1</th>\n",
       "      <td>5</td>\n",
       "      <td>0.429234</td>\n",
       "    </tr>\n",
       "    <tr>\n",
       "      <th>2</th>\n",
       "      <td>6</td>\n",
       "      <td>0.487797</td>\n",
       "    </tr>\n",
       "    <tr>\n",
       "      <th>3</th>\n",
       "      <td>7</td>\n",
       "      <td>0.446573</td>\n",
       "    </tr>\n",
       "    <tr>\n",
       "      <th>4</th>\n",
       "      <td>8</td>\n",
       "      <td>0.425202</td>\n",
       "    </tr>\n",
       "    <tr>\n",
       "      <th>5</th>\n",
       "      <td>9</td>\n",
       "      <td>0.487790</td>\n",
       "    </tr>\n",
       "    <tr>\n",
       "      <th>6</th>\n",
       "      <td>10</td>\n",
       "      <td>0.437166</td>\n",
       "    </tr>\n",
       "    <tr>\n",
       "      <th>7</th>\n",
       "      <td>11</td>\n",
       "      <td>0.462850</td>\n",
       "    </tr>\n",
       "    <tr>\n",
       "      <th>8</th>\n",
       "      <td>12</td>\n",
       "      <td>0.494401</td>\n",
       "    </tr>\n",
       "    <tr>\n",
       "      <th>9</th>\n",
       "      <td>13</td>\n",
       "      <td>0.458391</td>\n",
       "    </tr>\n",
       "    <tr>\n",
       "      <th>10</th>\n",
       "      <td>14</td>\n",
       "      <td>0.503995</td>\n",
       "    </tr>\n",
       "  </tbody>\n",
       "</table>\n",
       "</div>"
      ],
      "text/plain": [
       "     k  coherence\n",
       "0    4   0.374781\n",
       "1    5   0.429234\n",
       "2    6   0.487797\n",
       "3    7   0.446573\n",
       "4    8   0.425202\n",
       "5    9   0.487790\n",
       "6   10   0.437166\n",
       "7   11   0.462850\n",
       "8   12   0.494401\n",
       "9   13   0.458391\n",
       "10  14   0.503995"
      ]
     },
     "execution_count": 127,
     "metadata": {},
     "output_type": "execute_result"
    }
   ],
   "source": [
    "bench_data"
   ]
  },
  {
   "cell_type": "code",
   "execution_count": 128,
   "id": "76fd34ec",
   "metadata": {},
   "outputs": [
    {
     "name": "stdout",
     "output_type": "stream",
     "text": [
      "Optimal number of topics: 14\n"
     ]
    }
   ],
   "source": [
    "i = bench_data[\"coherence\"].argmax()\n",
    "print(\"Optimal number of topics:\",  bench_data.at[i, \"k\"])"
   ]
  },
  {
   "cell_type": "code",
   "execution_count": 129,
   "id": "5e267fad",
   "metadata": {},
   "outputs": [
    {
     "name": "stderr",
     "output_type": "stream",
     "text": [
      "No artists with labels found to put in legend.  Note that artists whose label start with an underscore are ignored when legend() is called with no argument.\n"
     ]
    },
    {
     "data": {
      "image/png": "[encoded data removed]",
      "text/plain": [
       "<Figure size 800x400 with 1 Axes>"
      ]
     },
     "metadata": {},
     "output_type": "display_data"
    }
   ],
   "source": [
    "plt.figure(figsize=(8,4))\n",
    "plt.title('LDA model coherence vs number of topics', fontsize=14)\n",
    "sns.lineplot(data=bench_data, x='k', y='coherence')\n",
    "plt.xlabel(\"k\")\n",
    "plt.legend()\n",
    "plt.show()"
   ]
  },
  {
   "cell_type": "code",
   "execution_count": 130,
   "id": "78bae1e0",
   "metadata": {},
   "outputs": [
    {
     "name": "stdout",
     "output_type": "stream",
     "text": [
      "[(0,\n",
      "  '0.019*\"paiement_fois\" + 0.014*\"service_client\" + 0.014*\"commande_passer\" + '\n",
      "  '0.013*\"etre_livrer\" + 0.013*\"bien_passer\" + 0.013*\"passer_commande\" + '\n",
      "  '0.012*\"recevoir_colis\" + 0.011*\"aujourd_hui\" + 0.011*\"recevoir_commande\" + '\n",
      "  '0.009*\"jamais_souci\"'),\n",
      " (1,\n",
      "  '0.048*\"livraison_rapide\" + 0.032*\"bon_site\" + 0.027*\"qualite_prix\" + '\n",
      "  '0.020*\"rapport_qualite\" + 0.019*\"delai_livraison\" + 0.017*\"beaucoup_choix\" '\n",
      "  '+ 0.016*\"rien_redire\" + 0.016*\"bon_service\" + 0.015*\"choix_prix\" + '\n",
      "  '0.015*\"bon_produit\"'),\n",
      " (2,\n",
      "  '0.038*\"frais_port\" + 0.035*\"service_client\" + 0.025*\"carte_cdiscount\" + '\n",
      "  '0.024*\"livraison_gratuit\" + 0.023*\"bon_achat\" + 0.017*\"frais_livraison\" + '\n",
      "  '0.015*\"payer_fois\" + 0.011*\"cdiscount_volonte\" + 0.010*\"grand_choix\" + '\n",
      "  '0.009*\"payer_frais\"'),\n",
      " (3,\n",
      "  '0.046*\"service_client\" + 0.017*\"bon_achat\" + 0.014*\"bon_prix\" + '\n",
      "  '0.013*\"delai_livraison\" + 0.012*\"dernier_commande\" + 0.011*\"choix_produit\" '\n",
      "  '+ 0.011*\"prix_interessant\" + 0.010*\"fnac_com\" + 0.009*\"jamais_etre\" + '\n",
      "  '0.009*\"rupture_stock\"'),\n",
      " (4,\n",
      "  '0.019*\"passer_commande\" + 0.019*\"service_client\" + '\n",
      "  '0.016*\"commande_cdiscount\" + 0.011*\"client_cdiscount\" + 0.009*\"trop_long\" + '\n",
      "  '0.009*\"frais_livraison\" + 0.009*\"commande_article\" + 0.008*\"bon_reduction\" '\n",
      "  '+ 0.008*\"aujourd_hui\" + 0.008*\"client_annee\"'),\n",
      " (5,\n",
      "  '0.033*\"service_client\" + 0.027*\"cdiscount_volonte\" + 0.013*\"point_relais\" + '\n",
      "  '0.012*\"jamais_decevoir\" + 0.011*\"point_relai\" + 0.010*\"bon_site\" + '\n",
      "  '0.010*\"passer_commande\" + 0.008*\"faire_rembourser\" + 0.007*\"client_an\" + '\n",
      "  '0.007*\"colis_etre\"')]\n"
     ]
    }
   ],
   "source": [
    "# number of topics\n",
    "num_topics = 6\n",
    "\n",
    "# build LDA model\n",
    "lda_model = gensim.models.LdaMulticore(corpus=corpus, id2word=id2word, num_topics=num_topics, passes=10, workers=2)\n",
    "\n",
    "# print the Keyword in the 10 topics\n",
    "pprint(lda_model.print_topics())"
   ]
  },
  {
   "attachments": {},
   "cell_type": "markdown",
   "id": "44a29359",
   "metadata": {},
   "source": [
    "## Analyzing LDA model results"
   ]
  },
  {
   "cell_type": "code",
   "execution_count": 131,
   "id": "ccd912d0",
   "metadata": {},
   "outputs": [],
   "source": [
    "# visualize the topics\n",
    "LDAvis_data_filepath = os.path.join(OUTDIR, 'ldavis_prepared_bigrams_'+str(num_topics))\n",
    "\n",
    "# # this is a bit time consuming - make the if statement True\n",
    "# # if you want to execute visualization prep yourself\n",
    "LDAvis_prepared = pyLDAvis.gensim.prepare(lda_model, corpus, id2word)\n",
    "with open(LDAvis_data_filepath, 'wb') as f:\n",
    "    pickle.dump(LDAvis_prepared, f)"
   ]
  },
  {
   "cell_type": "code",
   "execution_count": 132,
   "id": "ad737c83",
   "metadata": {},
   "outputs": [],
   "source": [
    "LDAvis_visu_filepath = os.path.join(OUTDIR, 'ldavis_prepared_bigrams_'+str(num_topics) +'.html')\n",
    "\n",
    "with open(LDAvis_data_filepath, 'rb') as f:\n",
    "    LDAvis_prepared = pickle.load(f)\n",
    "    \n",
    "pyLDAvis.save_html(LDAvis_prepared, LDAvis_visu_filepath)"
   ]
  },
  {
   "cell_type": "code",
   "execution_count": 133,
   "id": "f9ea4b27",
   "metadata": {},
   "outputs": [
    {
     "data": {
      "text/plain": [
       "8038"
      ]
     },
     "execution_count": 133,
     "metadata": {},
     "output_type": "execute_result"
    }
   ],
   "source": [
    "topics = lda_model.get_document_topics(corpus, per_word_topics=False)\n",
    "len(topics)"
   ]
  },
  {
   "cell_type": "code",
   "execution_count": 134,
   "id": "aa19b6f4",
   "metadata": {},
   "outputs": [],
   "source": [
    "THRESHOLD = 0.2\n",
    "\n",
    "max_topic = 0\n",
    "stats = []\n",
    "for i, doc_topics in enumerate(topics):\n",
    "    for topic, proba in doc_topics:\n",
    "        if proba<0.2: continue\n",
    "        \n",
    "        star = samples.at[i, \"star\"]\n",
    "        stats += [[topic, proba, star]]\n",
    "            \n",
    "stats = pd.DataFrame(stats)\n",
    "stats.columns = [\"topic\", \"proba\", \"star\"]"
   ]
  },
  {
   "cell_type": "code",
   "execution_count": 135,
   "id": "9879e0ad",
   "metadata": {},
   "outputs": [
    {
     "data": {
      "image/png": "[encoded data removed]",
      "text/plain": [
       "<Figure size 1000x600 with 1 Axes>"
      ]
     },
     "metadata": {},
     "output_type": "display_data"
    }
   ],
   "source": [
    "fig, ax = plt.subplots(figsize=[10,6])\n",
    "sns.boxplot(x=\"topic\", y=\"star\", data=stats, ax=ax)\n",
    "plt.title(\"Distribution of star vs. stats\")\n",
    "plt.show()"
   ]
  },
  {
   "cell_type": "code",
   "execution_count": 136,
   "id": "1732491b",
   "metadata": {},
   "outputs": [
    {
     "name": "stdout",
     "output_type": "stream",
     "text": [
      "index: 6586\n",
      "\n",
      "Encore beaucoup trop de descriptions imprécises ou découlant d'une traduction très approximative qui nuisent à la bonne compréhension des caractéristiques des produits, et aussi des photos ne montrant pas exactement l'article concerné induisant des doutes sur le choix, comme par exemple une photo de clé de 17 quand l'annonce décrit une clé de 21...Autrement large choix, tarifs concurrentiels en général et les livraisons globalement rapides.\n",
      "\n",
      "Topic 1, Probability 0.5833298563957214\n",
      "   livraison_rapide    0.048303347\n",
      "   bon_site    0.03157251\n",
      "   qualite_prix    0.026611771\n",
      "   rapport_qualite    0.02014309\n",
      "   delai_livraison    0.019285506\n",
      "   beaucoup_choix    0.016859787\n",
      "   rien_redire    0.01636906\n",
      "   bon_service    0.015868438\n",
      "   choix_prix    0.015201332\n",
      "   bon_produit    0.014689308\n",
      "\n"
     ]
    }
   ],
   "source": [
    "index = choice(range(0, len(reviews)))\n",
    "\n",
    "print(\"index:\", index, end=\"\\n\\n\")\n",
    "print(reviews[index], end=\"\\n\\n\")\n",
    "\n",
    "doc_topics = topics[index]\n",
    "for topic, prob in doc_topics:\n",
    "    if prob>THRESHOLD:\n",
    "        print(f\"Topic {topic}, Probability {prob}\")\n",
    "        for term, tprob in lda_model.show_topic(topic):\n",
    "            print(\"  \", term, \"  \", tprob)\n",
    "        print()"
   ]
  },
  {
   "attachments": {},
   "cell_type": "markdown",
   "id": "6a0290c2",
   "metadata": {},
   "source": [
    "## Conclusion"
   ]
  },
  {
   "attachments": {},
   "cell_type": "markdown",
   "id": "36dc2df7",
   "metadata": {},
   "source": [
    "Les thematiques principales associés aux 5 topics sont les suivantes:  \n",
    "  \n",
    "cluster 1: experience user, service et livraison    \n",
    "- site... \n",
    "- service client  \n",
    "- delai livraison  \n",
    "- point relais  \n",
    "- etre livré\n",
    "  \n",
    "cluster 2:\n",
    "- paiement plusieurs fois\n",
    "- bon produit  \n",
    "- etre livré\n",
    "- recevoir commande/colis  \n",
    "  \n",
    "cluster 3: prix-paiement  \n",
    "- frais de port / livraison\n",
    "- payer en plusieurs fois\n",
    "- bon d'achat, carte CDiscount  \n",
    "  \n",
    "cluster 4  \n",
    "- rapidité/délai de la livraison  \n",
    "- bon d'achat  \n",
    "- prix \n",
    "- service client\n",
    "- choix produit  \n",
    "  \n",
    "cluster 5  \n",
    "- fais de livraison  \n",
    "- commande CDiscount  \n",
    "- passer commande\n",
    "  \n",
    "cluster 6: offre et prix et service  \n",
    "- prix/rapidité/délai de la livraison  \n",
    "- service  \n",
    "- produit  \n",
    "- experience user (ergonomie, site...)  \n",
    "- rapport qualité/prix  \n",
    "- choix  "
   ]
  },
  {
   "attachments": {},
   "cell_type": "markdown",
   "id": "e5a9f68e",
   "metadata": {},
   "source": [
    "L'approche bi-grams apporte un peu plus de contexte, permet d'inclure des sujets plus clairs pour chaque topic.    \n",
    "  \n",
    "De façon générale, l'approche BoW est simple a mettre en oeuvre et beaucoup plus rapide que l'utilisation de modeles de deep learning.   \n",
    "Il facile d'interpréter les résultats de topic modeling puisque chaque commentaire est représentré par un ensemble de n-grams.  \n",
    "Mais cette approche ne tient pas compte de l'ordre des mots, de leur signification (synonymes, etc.) ni de la relation entre les mots.  \n",
    "Beaucoup de topics ont un vocabulaire commun.  \n",
    "  "
   ]
  },
  {
   "attachments": {},
   "cell_type": "markdown",
   "id": "db64862a",
   "metadata": {},
   "source": []
  }
 ],
 "metadata": {
  "kernelspec": {
   "display_name": "Python 3 (ipykernel)",
   "language": "python",
   "name": "python3"
  },
  "language_info": {
   "codemirror_mode": {
    "name": "ipython",
    "version": 3
   },
   "file_extension": ".py",
   "mimetype": "text/x-python",
   "name": "python",
   "nbconvert_exporter": "python",
   "pygments_lexer": "ipython3",
   "version": "3.9.16"
  }
 },
 "nbformat": 4,
 "nbformat_minor": 5
}
