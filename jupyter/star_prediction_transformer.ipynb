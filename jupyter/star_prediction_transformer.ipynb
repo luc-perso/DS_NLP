{
 "cells": [
  {
   "cell_type": "markdown",
   "id": "a76c96aa",
   "metadata": {},
   "source": [
    "<table style=\"border:none; border-collapse:collapse; cellspacing:0; cellpadding:0\">\n",
    "    <tr>\n",
    "        <td width=30% style=\"border:none\">\n",
    "            <img src=\"logo_datascientest.png\" width=\"100%\"/>\n",
    "        </td>\n",
    "        <td style=\"border:none\">\n",
    "            <center>\n",
    "                <h1>DS project: Customer satisfaction</h1>\n",
    "                <h2>Modelisation - Transformers</h2>\n",
    "            </center>\n",
    "        </td>\n",
    "    </tr>\n",
    "</table>\n",
    "\n",
    "<hr>\n",
    "\n",
    "**Date** : 2023\n",
    "\n",
    "**Author** : Elie MAZE, Luc Thomas\n",
    "\n",
    "**Goal** : Train & evaluate models"
   ]
  },
  {
   "cell_type": "code",
   "execution_count": 128,
   "id": "d4dc1580",
   "metadata": {},
   "outputs": [
    {
     "name": "stdout",
     "output_type": "stream",
     "text": [
      "The autoreload extension is already loaded. To reload it, use:\n",
      "  %reload_ext autoreload\n"
     ]
    }
   ],
   "source": [
    "import _mypath\n",
    "import os\n",
    "import shap\n",
    "import pandas as pd\n",
    "\n",
    "from sklearn.metrics import confusion_matrix, classification_report\n",
    "import numpy as np\n",
    "from tqdm import tqdm\n",
    "from threadpoolctl import threadpool_limits\n",
    "\n",
    "import torch\n",
    "from torch.utils.data import DataLoader\n",
    "from transformers import FlaubertTokenizer, FlaubertForSequenceClassification, AdamW\n",
    "from torch.optim.lr_scheduler import ReduceLROnPlateau\n",
    "\n",
    "from random import choice\n",
    "\n",
    "%matplotlib inline\n",
    "import seaborn as sns\n",
    "import matplotlib.pyplot as plt\n",
    "\n",
    "from visu.visu import plotCMX, plotErrors, plot_learning_curves\n",
    "from utils.utils import getErrors\n",
    "from training.dataset import CommentDataset\n",
    "from explicability.explicability import explain\n",
    "\n",
    "%load_ext autoreload\n",
    "%autoreload 2"
   ]
  },
  {
   "cell_type": "code",
   "execution_count": 4,
   "id": "8d19f4d8",
   "metadata": {},
   "outputs": [],
   "source": [
    "DATA_FOLDER = \"/data/DATALAB_PAU/20_projects/j0215602/DS_NLP/input/labeled\"\n",
    "MODEL_PATH = \"/data/DATALAB_PAU/07_Models/transformers/pretrained/flaubert-base-uncased\"\n",
    "MODEL_OUTFILE = \"/data/DATALAB_PAU/07_Models/transformers/test/flaubert-base-uncased\"\n",
    "MODEL_OUTFILE_5CLS = \"/data/DATALAB_PAU/07_Models/transformers/test/flaubert-base-uncased-5cls\"\n",
    "_MAX_WORKERS = 8"
   ]
  },
  {
   "cell_type": "code",
   "execution_count": 4,
   "id": "f6cacb10",
   "metadata": {},
   "outputs": [],
   "source": [
    "os.environ[\"CUDA_VISIBLE_DEVICES\"]=\"14\"\n",
    "os.environ[\"LD_LIBRARY_PATH\"]=\"/data/appli_PITSI/HGX2//nvidia/cuda/install/cuda_11.2.1/lib64/:/data/appli_PITSI/HGX2/nvidia/cuda/install/cuda_11.2.1_compat/lib64:/data/appli_PITSI/HGX2/nvidia/cudnn/install/cudnn-11.2-linux-x64-v8.1.1.33/lib64\""
   ]
  },
  {
   "cell_type": "code",
   "execution_count": 6,
   "id": "8e8ddf82",
   "metadata": {},
   "outputs": [
    {
     "name": "stdout",
     "output_type": "stream",
     "text": [
      "__Used Logical Devices: cuda:0\n",
      "__CUDNN VERSION: 8101\n",
      "__Device Name: Tesla V100-SXM3-32GB\n",
      "__Device Total Memory: 31.7 GB\n",
      "__Memory Usage: Allocated 0.0 GB, Cached 0.0 GB\n"
     ]
    }
   ],
   "source": [
    "# selecting a GPU with PyTorch (choose a free GPU!) \n",
    "GPU_NUMBER=0\n",
    "\n",
    "# setting device on GPU if available, else CPU\n",
    "device = torch.device(\"cuda:{0}\".format(GPU_NUMBER) if torch.cuda.is_available() else 'cpu')\n",
    "\n",
    "if torch.cuda.is_available():\n",
    "    print(\"__Used Logical Devices: {0}\".format(device))\n",
    "    print(\"__CUDNN VERSION:\", torch.backends.cudnn.version())\n",
    "    print(\"__Device Name:\",torch.cuda.get_device_name(GPU_NUMBER))\n",
    "    print(\"__Device Total Memory: {} GB\".format(round(torch.cuda.get_device_properties(device).total_memory/1024**3,1)))\n",
    "    print(\"__Memory Usage: Allocated {0} GB, Cached {1} GB\".format(\n",
    "        round(torch.cuda.memory_allocated(device)/1024**3,1), \n",
    "        round(torch.torch.cuda.memory_reserved(device)/1024**3,1)))"
   ]
  },
  {
   "cell_type": "markdown",
   "id": "22d456ec",
   "metadata": {},
   "source": [
    "# __FlauBERT__"
   ]
  },
  {
   "cell_type": "code",
   "execution_count": 9,
   "id": "241760dc",
   "metadata": {},
   "outputs": [],
   "source": [
    "num_classes = 2\n",
    "batch_size = 32\n",
    "num_epochs = 8\n",
    "learning_rate = 2e-5"
   ]
  },
  {
   "cell_type": "markdown",
   "id": "2d628fb8",
   "metadata": {},
   "source": [
    "# 2 classes\n",
    "## Data loading"
   ]
  },
  {
   "cell_type": "code",
   "execution_count": 6,
   "id": "5c1af657",
   "metadata": {},
   "outputs": [],
   "source": [
    "DATA_FOLDER = r\"D:\\DevPy\\DS_NLP\\input\\labeled\"\n",
    "MODEL_PATH = r\"D:\\DevPy\\DS_NLP\\models\\flaubert-base-uncased\"\n",
    "MODEL_OUTFILE = r\"D:\\DevPy\\DS_NLP\\models\\fine_tuned\\flaubert-base-uncased\""
   ]
  },
  {
   "cell_type": "code",
   "execution_count": 7,
   "id": "58b3b8f1",
   "metadata": {},
   "outputs": [
    {
     "name": "stdout",
     "output_type": "stream",
     "text": [
      "train set: (63459, 11)\n",
      "val set: (15865, 11)\n",
      "test set: (19832, 11)\n"
     ]
    }
   ],
   "source": [
    "outfile_2cls_train = os.path.join(DATA_FOLDER, \"train_2classes.csv\")\n",
    "df_train = pd.read_csv(outfile_2cls_train, sep=\",\", encoding=\"utf-8\", engine=\"python\")\n",
    "\n",
    "outfile_2cls_val = os.path.join(DATA_FOLDER, \"val_2classes.csv\")\n",
    "df_val = pd.read_csv(outfile_2cls_val, sep=\",\", encoding=\"utf-8\", engine=\"python\")\n",
    "\n",
    "outfile_2cls_test = os.path.join(DATA_FOLDER, \"test_2classes.csv\")\n",
    "df_test = pd.read_csv(outfile_2cls_test, sep=\",\", encoding=\"utf-8\", engine=\"python\")\n",
    "\n",
    "print(\"train set:\", df_train.shape)\n",
    "print(\"val set:\", df_val.shape)\n",
    "print(\"test set:\", df_test.shape)"
   ]
  },
  {
   "cell_type": "markdown",
   "id": "cb7f223c",
   "metadata": {},
   "source": [
    "# Load pretrained models"
   ]
  },
  {
   "cell_type": "code",
   "execution_count": 10,
   "id": "7e68526d",
   "metadata": {},
   "outputs": [],
   "source": [
    "tokenizer = FlaubertTokenizer.from_pretrained(MODEL_PATH)"
   ]
  },
  {
   "cell_type": "code",
   "execution_count": 11,
   "id": "9f8c978c",
   "metadata": {},
   "outputs": [
    {
     "name": "stderr",
     "output_type": "stream",
     "text": [
      "Some weights of the model checkpoint at /data/DATALAB_PAU/07_Models/transformers/pretrained/flaubert-base-uncased were not used when initializing FlaubertForSequenceClassification: ['pred_layer.proj.weight', 'pred_layer.proj.bias']\n",
      "- This IS expected if you are initializing FlaubertForSequenceClassification from the checkpoint of a model trained on another task or with another architecture (e.g. initializing a BertForSequenceClassification model from a BertForPreTraining model).\n",
      "- This IS NOT expected if you are initializing FlaubertForSequenceClassification from the checkpoint of a model that you expect to be exactly identical (initializing a BertForSequenceClassification model from a BertForSequenceClassification model).\n",
      "Some weights of FlaubertForSequenceClassification were not initialized from the model checkpoint at /data/DATALAB_PAU/07_Models/transformers/pretrained/flaubert-base-uncased and are newly initialized: ['sequence_summary.summary.bias', 'sequence_summary.summary.weight']\n",
      "You should probably TRAIN this model on a down-stream task to be able to use it for predictions and inference.\n"
     ]
    }
   ],
   "source": [
    "model = FlaubertForSequenceClassification.from_pretrained(MODEL_PATH, num_labels=num_classes).to(device)"
   ]
  },
  {
   "cell_type": "code",
   "execution_count": 12,
   "id": "2a3bd323",
   "metadata": {},
   "outputs": [
    {
     "name": "stdout",
     "output_type": "stream",
     "text": [
      "__Used Logical Devices: cuda:0\n",
      "__CUDNN VERSION: 8101\n",
      "__Device Name: Tesla V100-SXM3-32GB\n",
      "__Device Total Memory: 31.7 GB\n",
      "__Memory Usage: Allocated 0.5 GB, Cached 0.5 GB\n"
     ]
    }
   ],
   "source": [
    "if torch.cuda.is_available():\n",
    "    print(\"__Used Logical Devices: {0}\".format(device))\n",
    "    print(\"__CUDNN VERSION:\", torch.backends.cudnn.version())\n",
    "    print(\"__Device Name:\",torch.cuda.get_device_name(GPU_NUMBER))\n",
    "    print(\"__Device Total Memory: {} GB\".format(round(torch.cuda.get_device_properties(device).total_memory/1024**3,1)))\n",
    "    print(\"__Memory Usage: Allocated {0} GB, Cached {1} GB\".format(\n",
    "        round(torch.cuda.memory_allocated(device)/1024**3,1), \n",
    "        round(torch.torch.cuda.memory_reserved(device)/1024**3,1)))"
   ]
  },
  {
   "cell_type": "markdown",
   "id": "96fa321a",
   "metadata": {},
   "source": [
    "## Data prep\n",
    "### Encode labels"
   ]
  },
  {
   "cell_type": "code",
   "execution_count": 72,
   "id": "99463fe3",
   "metadata": {},
   "outputs": [],
   "source": [
    "mapping = {1:0, 2:0, \n",
    "           4:1, 5:1}\n",
    "\n",
    "df_train[\"Sentiment_code\"] = df_train[\"star\"].replace(mapping).astype(int)\n",
    "df_val[\"Sentiment_code\"] = df_val[\"star\"].replace(mapping).astype(int)\n",
    "df_test[\"Sentiment_code\"] = df_test[\"star\"].replace(mapping).astype(int)"
   ]
  },
  {
   "cell_type": "code",
   "execution_count": 14,
   "id": "ec9b484d",
   "metadata": {},
   "outputs": [],
   "source": [
    "X_train = df_train[\"Commentaire\"].values\n",
    "y_train = df_train[\"Sentiment_code\"].values\n",
    "\n",
    "train_dataset = CommentDataset(X_train, y_train, tokenizer)\n",
    "train_loader = DataLoader(train_dataset, batch_size=batch_size, shuffle=True)"
   ]
  },
  {
   "cell_type": "code",
   "execution_count": 15,
   "id": "937a4534",
   "metadata": {},
   "outputs": [
    {
     "name": "stdout",
     "output_type": "stream",
     "text": [
      "torch.Size([32, 128])\n",
      "torch.Size([32, 128])\n",
      "torch.Size([32])\n"
     ]
    }
   ],
   "source": [
    "first_batch = next(iter(train_loader))\n",
    "\n",
    "print(first_batch[\"input_ids\"].shape)\n",
    "print(first_batch[\"attention_mask\"].shape)\n",
    "print(first_batch[\"labels\"].shape)"
   ]
  },
  {
   "cell_type": "code",
   "execution_count": 16,
   "id": "227e4354",
   "metadata": {},
   "outputs": [
    {
     "data": {
      "text/plain": [
       "tensor([0, 1])"
      ]
     },
     "execution_count": 16,
     "metadata": {},
     "output_type": "execute_result"
    }
   ],
   "source": [
    "first_batch[\"labels\"].unique()"
   ]
  },
  {
   "cell_type": "code",
   "execution_count": 17,
   "id": "1130f9c6",
   "metadata": {},
   "outputs": [],
   "source": [
    "train_dataset = CommentDataset(X_train, y_train, tokenizer)\n",
    "train_loader = DataLoader(train_dataset, batch_size=batch_size, shuffle=True)\n",
    "\n",
    "X_val = df_val[\"Commentaire\"].values\n",
    "y_val = df_val[\"Sentiment_code\"].values\n",
    "\n",
    "val_dataset = CommentDataset(X_val, y_val, tokenizer)\n",
    "val_loader = DataLoader(val_dataset, batch_size=batch_size, shuffle=False)"
   ]
  },
  {
   "cell_type": "code",
   "execution_count": 73,
   "id": "efc78b9e",
   "metadata": {},
   "outputs": [],
   "source": [
    "X_test = df_test[\"Commentaire\"].values\n",
    "y_test = df_test[\"Sentiment_code\"].values\n",
    "\n",
    "test_dataset = CommentDataset(X_test, y_test, tokenizer)\n",
    "test_loader = DataLoader(test_dataset, batch_size=batch_size, shuffle=False)"
   ]
  },
  {
   "cell_type": "markdown",
   "id": "bb1b5712",
   "metadata": {},
   "source": [
    "## Training"
   ]
  },
  {
   "cell_type": "code",
   "execution_count": 78,
   "id": "01db16d4",
   "metadata": {},
   "outputs": [
    {
     "name": "stderr",
     "output_type": "stream",
     "text": [
      "This implementation of AdamW is deprecated and will be removed in a future version. Use the PyTorch implementation torch.optim.AdamW instead, or set `no_deprecation_warning=True` to disable this warning\n"
     ]
    }
   ],
   "source": [
    "optimizer = AdamW(model.parameters(), lr=learning_rate)\n",
    "loss_fn = torch.nn.CrossEntropyLoss()\n",
    "scheduler = ReduceLROnPlateau(optimizer, mode='min', factor=0.1, patience=2, verbose=True)"
   ]
  },
  {
   "cell_type": "code",
   "execution_count": 20,
   "id": "7a432433",
   "metadata": {},
   "outputs": [
    {
     "name": "stderr",
     "output_type": "stream",
     "text": [
      "100%|██████████| 1984/1984 [07:52<00:00,  4.20it/s]\n"
     ]
    },
    {
     "name": "stdout",
     "output_type": "stream",
     "text": [
      "Epoch 1/8 - Training Loss: 0.1158 , Accuracy: 0.9572 - Validation Loss: 0.0828 , Accuracy: 0.9695\n"
     ]
    },
    {
     "name": "stderr",
     "output_type": "stream",
     "text": [
      "100%|██████████| 1984/1984 [07:39<00:00,  4.32it/s]\n"
     ]
    },
    {
     "name": "stdout",
     "output_type": "stream",
     "text": [
      "Epoch 2/8 - Training Loss: 0.0789 , Accuracy: 0.9708 - Validation Loss: 0.0930 , Accuracy: 0.9667\n"
     ]
    },
    {
     "name": "stderr",
     "output_type": "stream",
     "text": [
      "100%|██████████| 1984/1984 [07:45<00:00,  4.26it/s]\n"
     ]
    },
    {
     "name": "stdout",
     "output_type": "stream",
     "text": [
      "Epoch 3/8 - Training Loss: 0.0631 , Accuracy: 0.9774 - Validation Loss: 0.0862 , Accuracy: 0.9714\n"
     ]
    },
    {
     "name": "stderr",
     "output_type": "stream",
     "text": [
      "100%|██████████| 1984/1984 [07:42<00:00,  4.29it/s]\n"
     ]
    },
    {
     "name": "stdout",
     "output_type": "stream",
     "text": [
      "Epoch 4/8 - Training Loss: 0.0495 , Accuracy: 0.9825 - Validation Loss: 0.0999 , Accuracy: 0.9694\n",
      "Epoch 00004: reducing learning rate of group 0 to 2.0000e-06.\n"
     ]
    },
    {
     "name": "stderr",
     "output_type": "stream",
     "text": [
      "100%|██████████| 1984/1984 [07:39<00:00,  4.31it/s]\n"
     ]
    },
    {
     "name": "stdout",
     "output_type": "stream",
     "text": [
      "Epoch 5/8 - Training Loss: 0.0276 , Accuracy: 0.9910 - Validation Loss: 0.1049 , Accuracy: 0.9711\n"
     ]
    },
    {
     "name": "stderr",
     "output_type": "stream",
     "text": [
      "100%|██████████| 1984/1984 [07:41<00:00,  4.30it/s]\n"
     ]
    },
    {
     "name": "stdout",
     "output_type": "stream",
     "text": [
      "Epoch 6/8 - Training Loss: 0.0209 , Accuracy: 0.9935 - Validation Loss: 0.1227 , Accuracy: 0.9703\n"
     ]
    },
    {
     "name": "stderr",
     "output_type": "stream",
     "text": [
      "100%|██████████| 1984/1984 [07:40<00:00,  4.31it/s]\n"
     ]
    },
    {
     "name": "stdout",
     "output_type": "stream",
     "text": [
      "Epoch 7/8 - Training Loss: 0.0163 , Accuracy: 0.9954 - Validation Loss: 0.1259 , Accuracy: 0.9709\n",
      "Epoch 00007: reducing learning rate of group 0 to 2.0000e-07.\n"
     ]
    },
    {
     "name": "stderr",
     "output_type": "stream",
     "text": [
      "100%|██████████| 1984/1984 [08:23<00:00,  3.94it/s]\n"
     ]
    },
    {
     "name": "stdout",
     "output_type": "stream",
     "text": [
      "Epoch 8/8 - Training Loss: 0.0135 , Accuracy: 0.9964 - Validation Loss: 0.1322 , Accuracy: 0.9708\n"
     ]
    }
   ],
   "source": [
    "hist_train_loss = []\n",
    "hist_val_loss = []\n",
    "hist_train_acc = []\n",
    "hist_val_acc = []\n",
    "min_loss = float('inf')\n",
    "best_model = None\n",
    "\n",
    "with threadpool_limits(limits=_MAX_WORKERS):\n",
    "\n",
    "    for epoch in range(num_epochs):\n",
    "        model.train()\n",
    "        optimizer.zero_grad()\n",
    "        total_loss = 0\n",
    "        total_correct = 0\n",
    "        total_samples = 0\n",
    "\n",
    "        for i, batch in tqdm(enumerate(train_loader), total=len(train_loader)):\n",
    "            input_ids = batch[\"input_ids\"].to(device)\n",
    "            attention_mask = batch[\"attention_mask\"].to(device)\n",
    "            labels = batch[\"labels\"].to(device)\n",
    "\n",
    "            optimizer.zero_grad()\n",
    "            outputs = model(input_ids=input_ids, attention_mask=attention_mask, labels=labels)\n",
    "            logits = outputs.logits\n",
    "            loss = loss_fn(logits, labels)\n",
    "\n",
    "            loss.backward()\n",
    "            optimizer.step()\n",
    "\n",
    "            total_loss += loss.item()\n",
    "\n",
    "            _, predicted = torch.max(logits, 1)\n",
    "            total_correct += (predicted == labels).sum().item()\n",
    "            total_samples += labels.size(0)\n",
    "\n",
    "        avg_loss = total_loss / len(train_loader)\n",
    "        train_accuracy = total_correct / total_samples\n",
    "\n",
    "        hist_train_loss += [avg_loss]\n",
    "        hist_train_acc += [train_accuracy]\n",
    "\n",
    "        ## EVAL\n",
    "        model.eval()\n",
    "        valid_loss = 0\n",
    "        valid_correct = 0\n",
    "        valid_samples = 0\n",
    "\n",
    "        with torch.no_grad():\n",
    "            for batch in val_loader:\n",
    "                input_ids = batch[\"input_ids\"].to(device)\n",
    "                attention_mask = batch[\"attention_mask\"].to(device)\n",
    "                labels = batch[\"labels\"].to(device)\n",
    "\n",
    "                outputs = model(input_ids=input_ids, attention_mask=attention_mask, labels=labels)\n",
    "                logits = outputs.logits\n",
    "                loss = loss_fn(logits, labels)\n",
    "\n",
    "                valid_loss += loss.item()\n",
    "                _, predicted = torch.max(logits, 1)\n",
    "                valid_correct += (predicted == labels).sum().item()\n",
    "                valid_samples += labels.size(0)\n",
    "\n",
    "        avg_valid_loss = valid_loss / len(val_loader)\n",
    "        valid_accuracy = valid_correct / valid_samples\n",
    "\n",
    "        print(f\"Epoch {epoch+1}/{num_epochs} - Training Loss: {avg_loss:.4f} , Accuracy: {train_accuracy:.4f} - Validation Loss: {avg_valid_loss:.4f} , Accuracy: {valid_accuracy:.4f}\")\n",
    "\n",
    "        if min_loss >= avg_valid_loss:\n",
    "            min_loss = avg_valid_loss\n",
    "            model.save_pretrained(MODEL_OUTFILE)\n",
    "\n",
    "        scheduler.step(avg_valid_loss)\n",
    "\n",
    "        hist_val_loss += [avg_valid_loss]\n",
    "        hist_val_acc += [valid_accuracy]"
   ]
  },
  {
   "cell_type": "code",
   "execution_count": 28,
   "id": "7f797f00",
   "metadata": {},
   "outputs": [
    {
     "data": {
      "image/png": "[encoded data removed]",
      "text/plain": [
       "<Figure size 1200x500 with 2 Axes>"
      ]
     },
     "metadata": {},
     "output_type": "display_data"
    }
   ],
   "source": [
    "plot_learning_curves(num_epochs, hist_train_loss, hist_val_loss, hist_train_acc, hist_val_acc, figsize=(12, 5))"
   ]
  },
  {
   "cell_type": "markdown",
   "id": "1feb4ce2",
   "metadata": {},
   "source": [
    "## Evaluation"
   ]
  },
  {
   "cell_type": "code",
   "execution_count": 76,
   "id": "224ba6f7",
   "metadata": {},
   "outputs": [],
   "source": [
    "model_finetuned = FlaubertForSequenceClassification.from_pretrained(MODEL_OUTFILE, num_labels=num_classes).to(device)"
   ]
  },
  {
   "cell_type": "code",
   "execution_count": 79,
   "id": "660074ba",
   "metadata": {},
   "outputs": [],
   "source": [
    "y_pred = []\n",
    "y_true = []\n",
    "\n",
    "model_finetuned.eval()\n",
    "with torch.no_grad():\n",
    "    for batch in test_loader:\n",
    "        input_ids = batch[\"input_ids\"].to(device)\n",
    "        attention_mask = batch[\"attention_mask\"].to(device)\n",
    "        labels = batch[\"labels\"].to(device)\n",
    "\n",
    "        outputs = model_finetuned(input_ids=input_ids, attention_mask=attention_mask)\n",
    "        logits = outputs.logits\n",
    "        loss = loss_fn(logits, labels)\n",
    "\n",
    "        _, predicted = torch.max(logits, 1)\n",
    "        predictions = predicted.cpu().numpy()\n",
    "        labels = labels.cpu().numpy()\n",
    "\n",
    "        y_pred.extend(predictions)\n",
    "        y_true.extend(labels)\n",
    "        \n",
    "\n",
    "y_pred = np.array(y_pred)\n",
    "y_true = np.array(y_true)"
   ]
  },
  {
   "cell_type": "code",
   "execution_count": 80,
   "id": "33f61ef1",
   "metadata": {},
   "outputs": [
    {
     "name": "stdout",
     "output_type": "stream",
     "text": [
      "Labels: [0, 2]\n"
     ]
    },
    {
     "name": "stderr",
     "output_type": "stream",
     "text": [
      "FixedFormatter should only be used together with FixedLocator\n",
      "FixedFormatter should only be used together with FixedLocator\n"
     ]
    },
    {
     "data": {
      "image/png": "[encoded data removed]",
      "text/plain": [
       "<Figure size 750x750 with 1 Axes>"
      ]
     },
     "metadata": {},
     "output_type": "display_data"
    }
   ],
   "source": [
    "LABELS = [0,2]\n",
    "print(\"Labels:\", LABELS)\n",
    "\n",
    "cm = confusion_matrix(y_true, y_pred)\n",
    "plotCMX(LABELS, cm)"
   ]
  },
  {
   "cell_type": "code",
   "execution_count": 81,
   "id": "8ed1f58d",
   "metadata": {},
   "outputs": [
    {
     "name": "stdout",
     "output_type": "stream",
     "text": [
      "              precision    recall  f1-score   support\n",
      "\n",
      "           0       0.94      0.95      0.95      5550\n",
      "           1       0.98      0.98      0.98     14282\n",
      "\n",
      "    accuracy                           0.97     19832\n",
      "   macro avg       0.96      0.96      0.96     19832\n",
      "weighted avg       0.97      0.97      0.97     19832\n",
      "\n"
     ]
    }
   ],
   "source": [
    "print(classification_report(y_true, y_pred))"
   ]
  },
  {
   "cell_type": "markdown",
   "id": "5dd83dd3",
   "metadata": {},
   "source": [
    "## Explicability"
   ]
  },
  {
   "cell_type": "markdown",
   "id": "09d422e5",
   "metadata": {},
   "source": [
    "Les attributions sont des scores ou des poids qui indiquent l'importance relative de chaque subword de la séquence d'entrée pour la prédiction finale du modèle.  \n",
    "Pour calculer ces attributions, Captum effectue une comparaison entre les entrées réelles (input_ids) et une ligne de base (baseline_input_ids) pour chaque élément de la séquence.  \n",
    "La ligne de base (baseline) est une séquence fictive qui sert de référence pour évaluer l'importance des éléments de la séquence d'entrée. Elle est construite avec des valeurs neutres ou par défaut, ici: pad_token_id."
   ]
  },
  {
   "cell_type": "code",
   "execution_count": 123,
   "id": "83059004",
   "metadata": {},
   "outputs": [],
   "source": [
    "tokenizer = FlaubertTokenizer.from_pretrained(MODEL_PATH)"
   ]
  },
  {
   "cell_type": "code",
   "execution_count": 96,
   "id": "9ca271db",
   "metadata": {},
   "outputs": [],
   "source": [
    "model = FlaubertForSequenceClassification.from_pretrained(MODEL_OUTFILE, num_labels=num_classes).to(\"cpu\")"
   ]
  },
  {
   "cell_type": "markdown",
   "id": "693bdf0f",
   "metadata": {},
   "source": [
    "Primary attribution: a method to evaluate the influence of each feature on the model’s prediction"
   ]
  },
  {
   "cell_type": "code",
   "execution_count": 106,
   "id": "01082a32",
   "metadata": {},
   "outputs": [
    {
     "name": "stdout",
     "output_type": "stream",
     "text": [
      "index: 7313\n",
      "- True value: 1\n",
      "- Prediction: 1\n",
      "\n",
      "parfait toujours très honnête et professionnelle\n"
     ]
    }
   ],
   "source": [
    "index = choice(range(0, df_test.shape[0]-1))\n",
    "text = df_test.at[index, \"Commentaire\"]\n",
    "prediction = y_pred[index]\n",
    "true_class = y_true[index]\n",
    "\n",
    "print(\"index:\", index)\n",
    "print(\"- True value:\", true_class)\n",
    "print(\"- Prediction:\", prediction, end=\"\\n\\n\")\n",
    "\n",
    "print(text)"
   ]
  },
  {
   "cell_type": "code",
   "execution_count": 129,
   "id": "39febb6b",
   "metadata": {},
   "outputs": [
    {
     "name": "stdout",
     "output_type": "stream",
     "text": [
      "\n",
      "CLASS: NEGATIVE\n",
      "\n"
     ]
    },
    {
     "data": {
      "text/html": [
       "<table width: 100%><div style=\"border-top: 1px solid; margin-top: 5px;             padding-top: 5px; display: inline-block\"><b>Legend: </b><span style=\"display: inline-block; width: 10px; height: 10px;                 border: 1px solid; background-color:                 hsl(0, 75%, 60%)\"></span> Negative  <span style=\"display: inline-block; width: 10px; height: 10px;                 border: 1px solid; background-color:                 hsl(0, 75%, 100%)\"></span> Neutral  <span style=\"display: inline-block; width: 10px; height: 10px;                 border: 1px solid; background-color:                 hsl(120, 75%, 50%)\"></span> Positive  </div><tr><th>True Label</th><th>Predicted Label</th><th>Attribution Label</th><th>Attribution Score</th><th>Word Importance</th><tr><td><text style=\"padding-right:2em\"><b>1</b></text></td><td><text style=\"padding-right:2em\"><b>1 (3.62)</b></text></td><td><text style=\"padding-right:2em\"><b>parfait toujours très honnête et professionnelle</b></text></td><td><text style=\"padding-right:2em\"><b>-0.06</b></text></td><td><mark style=\"background-color: hsl(0, 75%, 100%); opacity:1.0;                     line-height:1.75\"><font color=\"black\"> #/s                    </font></mark><mark style=\"background-color: hsl(0, 75%, 76%); opacity:1.0;                     line-height:1.75\"><font color=\"black\"> parfait</w>                    </font></mark><mark style=\"background-color: hsl(120, 75%, 92%); opacity:1.0;                     line-height:1.75\"><font color=\"black\"> toujours</w>                    </font></mark><mark style=\"background-color: hsl(0, 75%, 85%); opacity:1.0;                     line-height:1.75\"><font color=\"black\"> très</w>                    </font></mark><mark style=\"background-color: hsl(120, 75%, 86%); opacity:1.0;                     line-height:1.75\"><font color=\"black\"> honnête</w>                    </font></mark><mark style=\"background-color: hsl(120, 75%, 70%); opacity:1.0;                     line-height:1.75\"><font color=\"black\"> et</w>                    </font></mark><mark style=\"background-color: hsl(0, 75%, 95%); opacity:1.0;                     line-height:1.75\"><font color=\"black\"> professionnelle</w>                    </font></mark><mark style=\"background-color: hsl(0, 75%, 100%); opacity:1.0;                     line-height:1.75\"><font color=\"black\"> #/s                    </font></mark></td><tr></table>"
      ],
      "text/plain": [
       "<IPython.core.display.HTML object>"
      ]
     },
     "metadata": {},
     "output_type": "display_data"
    },
    {
     "name": "stdout",
     "output_type": "stream",
     "text": [
      "\n",
      "CLASS: POSITIVE\n",
      "\n"
     ]
    },
    {
     "data": {
      "text/html": [
       "<table width: 100%><div style=\"border-top: 1px solid; margin-top: 5px;             padding-top: 5px; display: inline-block\"><b>Legend: </b><span style=\"display: inline-block; width: 10px; height: 10px;                 border: 1px solid; background-color:                 hsl(0, 75%, 60%)\"></span> Negative  <span style=\"display: inline-block; width: 10px; height: 10px;                 border: 1px solid; background-color:                 hsl(0, 75%, 100%)\"></span> Neutral  <span style=\"display: inline-block; width: 10px; height: 10px;                 border: 1px solid; background-color:                 hsl(120, 75%, 50%)\"></span> Positive  </div><tr><th>True Label</th><th>Predicted Label</th><th>Attribution Label</th><th>Attribution Score</th><th>Word Importance</th><tr><td><text style=\"padding-right:2em\"><b>1</b></text></td><td><text style=\"padding-right:2em\"><b>1 (3.62)</b></text></td><td><text style=\"padding-right:2em\"><b>parfait toujours très honnête et professionnelle</b></text></td><td><text style=\"padding-right:2em\"><b>-0.73</b></text></td><td><mark style=\"background-color: hsl(0, 75%, 100%); opacity:1.0;                     line-height:1.75\"><font color=\"black\"> #/s                    </font></mark><mark style=\"background-color: hsl(120, 75%, 82%); opacity:1.0;                     line-height:1.75\"><font color=\"black\"> parfait</w>                    </font></mark><mark style=\"background-color: hsl(0, 75%, 83%); opacity:1.0;                     line-height:1.75\"><font color=\"black\"> toujours</w>                    </font></mark><mark style=\"background-color: hsl(120, 75%, 90%); opacity:1.0;                     line-height:1.75\"><font color=\"black\"> très</w>                    </font></mark><mark style=\"background-color: hsl(120, 75%, 97%); opacity:1.0;                     line-height:1.75\"><font color=\"black\"> honnête</w>                    </font></mark><mark style=\"background-color: hsl(0, 75%, 69%); opacity:1.0;                     line-height:1.75\"><font color=\"black\"> et</w>                    </font></mark><mark style=\"background-color: hsl(0, 75%, 94%); opacity:1.0;                     line-height:1.75\"><font color=\"black\"> professionnelle</w>                    </font></mark><mark style=\"background-color: hsl(0, 75%, 100%); opacity:1.0;                     line-height:1.75\"><font color=\"black\"> #/s                    </font></mark></td><tr></table>"
      ],
      "text/plain": [
       "<IPython.core.display.HTML object>"
      ]
     },
     "metadata": {},
     "output_type": "display_data"
    }
   ],
   "source": [
    "mapping_classes = {0: \"NEGATIVE\", 1: \"POSITIVE\"}\n",
    "explain(model, tokenizer, text, true_class, mapping_classes)"
   ]
  },
  {
   "cell_type": "markdown",
   "id": "24840cb6",
   "metadata": {},
   "source": [
    "# 5 classes\n",
    "## Data loading"
   ]
  },
  {
   "cell_type": "code",
   "execution_count": 60,
   "id": "a6f1ba5a",
   "metadata": {},
   "outputs": [],
   "source": [
    "num_classes = 5"
   ]
  },
  {
   "cell_type": "code",
   "execution_count": 59,
   "id": "891cd806",
   "metadata": {},
   "outputs": [
    {
     "name": "stdout",
     "output_type": "stream",
     "text": [
      "train set: (67525, 11)\n",
      "val set: (16882, 11)\n",
      "test set: (21104, 11)\n"
     ]
    }
   ],
   "source": [
    "outfile_5cls_train = os.path.join(DATA_FOLDER, \"train_5classes.csv\")\n",
    "df_train = pd.read_csv(outfile_5cls_train, sep=\",\", encoding=\"utf-8\", engine=\"python\")\n",
    "\n",
    "outfile_5cls_val = os.path.join(DATA_FOLDER, \"val_5classes.csv\")\n",
    "df_val = pd.read_csv(outfile_5cls_val, sep=\",\", encoding=\"utf-8\", engine=\"python\")\n",
    "\n",
    "outfile_5cls_test = os.path.join(DATA_FOLDER, \"test_5classes.csv\")\n",
    "df_test = pd.read_csv(outfile_5cls_test, sep=\",\", encoding=\"utf-8\", engine=\"python\")\n",
    "\n",
    "print(\"train set:\", df_train.shape)\n",
    "print(\"val set:\", df_val.shape)\n",
    "print(\"test set:\", df_test.shape)"
   ]
  },
  {
   "cell_type": "markdown",
   "id": "e983d5db",
   "metadata": {},
   "source": [
    "# Load pretrained models"
   ]
  },
  {
   "cell_type": "code",
   "execution_count": 55,
   "id": "23b867b2",
   "metadata": {},
   "outputs": [],
   "source": [
    "tokenizer = FlaubertTokenizer.from_pretrained(MODEL_PATH)"
   ]
  },
  {
   "cell_type": "code",
   "execution_count": 56,
   "id": "fa403c26",
   "metadata": {},
   "outputs": [
    {
     "name": "stderr",
     "output_type": "stream",
     "text": [
      "Some weights of the model checkpoint at /data/DATALAB_PAU/07_Models/transformers/pretrained/flaubert-base-uncased were not used when initializing FlaubertForSequenceClassification: ['pred_layer.proj.weight', 'pred_layer.proj.bias']\n",
      "- This IS expected if you are initializing FlaubertForSequenceClassification from the checkpoint of a model trained on another task or with another architecture (e.g. initializing a BertForSequenceClassification model from a BertForPreTraining model).\n",
      "- This IS NOT expected if you are initializing FlaubertForSequenceClassification from the checkpoint of a model that you expect to be exactly identical (initializing a BertForSequenceClassification model from a BertForSequenceClassification model).\n",
      "Some weights of FlaubertForSequenceClassification were not initialized from the model checkpoint at /data/DATALAB_PAU/07_Models/transformers/pretrained/flaubert-base-uncased and are newly initialized: ['sequence_summary.summary.bias', 'sequence_summary.summary.weight']\n",
      "You should probably TRAIN this model on a down-stream task to be able to use it for predictions and inference.\n"
     ]
    }
   ],
   "source": [
    "model = FlaubertForSequenceClassification.from_pretrained(MODEL_PATH, num_labels=num_classes).to(device)"
   ]
  },
  {
   "cell_type": "code",
   "execution_count": 57,
   "id": "bf515c0c",
   "metadata": {},
   "outputs": [
    {
     "name": "stdout",
     "output_type": "stream",
     "text": [
      "__Used Logical Devices: cuda:0\n",
      "__CUDNN VERSION: 8101\n",
      "__Device Name: Tesla V100-SXM3-32GB\n",
      "__Device Total Memory: 31.7 GB\n",
      "__Memory Usage: Allocated 3.2 GB, Cached 5.8 GB\n"
     ]
    }
   ],
   "source": [
    "if torch.cuda.is_available():\n",
    "    print(\"__Used Logical Devices: {0}\".format(device))\n",
    "    print(\"__CUDNN VERSION:\", torch.backends.cudnn.version())\n",
    "    print(\"__Device Name:\",torch.cuda.get_device_name(GPU_NUMBER))\n",
    "    print(\"__Device Total Memory: {} GB\".format(round(torch.cuda.get_device_properties(device).total_memory/1024**3,1)))\n",
    "    print(\"__Memory Usage: Allocated {0} GB, Cached {1} GB\".format(\n",
    "        round(torch.cuda.memory_allocated(device)/1024**3,1), \n",
    "        round(torch.torch.cuda.memory_reserved(device)/1024**3,1)))"
   ]
  },
  {
   "cell_type": "markdown",
   "id": "32f191fd",
   "metadata": {},
   "source": [
    "## Data prep\n",
    "### Encode labels"
   ]
  },
  {
   "cell_type": "code",
   "execution_count": 62,
   "id": "70b75701",
   "metadata": {},
   "outputs": [
    {
     "data": {
      "text/plain": [
       "Sentiment_code\n",
       "0     4828\n",
       "1      722\n",
       "2     1271\n",
       "3     3684\n",
       "4    10599\n",
       "Name: count, dtype: int64"
      ]
     },
     "execution_count": 62,
     "metadata": {},
     "output_type": "execute_result"
    }
   ],
   "source": [
    "df_train[\"Sentiment_code\"] = df_train[\"star\"]-1\n",
    "df_val[\"Sentiment_code\"] = df_val[\"star\"]-1\n",
    "df_test[\"Sentiment_code\"] = df_test[\"star\"]-1\n",
    "\n",
    "df_test[\"Sentiment_code\"].value_counts().sort_index()"
   ]
  },
  {
   "cell_type": "code",
   "execution_count": 63,
   "id": "4949e145",
   "metadata": {},
   "outputs": [],
   "source": [
    "X_train = df_train[\"Commentaire\"].values\n",
    "y_train = df_train[\"Sentiment_code\"].values\n",
    "\n",
    "train_dataset = CommentDataset(X_train, y_train, tokenizer)\n",
    "train_loader = DataLoader(train_dataset, batch_size=batch_size, shuffle=True)\n",
    "\n",
    "X_val = df_val[\"Commentaire\"].values\n",
    "y_val = df_val[\"Sentiment_code\"].values\n",
    "\n",
    "val_dataset = CommentDataset(X_val, y_val, tokenizer)\n",
    "val_loader = DataLoader(val_dataset, batch_size=batch_size, shuffle=False)\n",
    "\n",
    "X_test = df_test[\"Commentaire\"].values\n",
    "y_test = df_test[\"Sentiment_code\"].values\n",
    "\n",
    "test_dataset = CommentDataset(X_test, y_test, tokenizer)\n",
    "test_loader = DataLoader(test_dataset, batch_size=batch_size, shuffle=False)"
   ]
  },
  {
   "cell_type": "markdown",
   "id": "f606eb83",
   "metadata": {},
   "source": [
    "## Training"
   ]
  },
  {
   "cell_type": "code",
   "execution_count": 64,
   "id": "9c13cd99",
   "metadata": {},
   "outputs": [
    {
     "name": "stdout",
     "output_type": "stream",
     "text": [
      "Class weights for uibalanced dataset:\n",
      "star 0: 0.8742\n",
      "star 1: 5.8514\n",
      "star 2: 3.3206\n",
      "star 3: 1.1458\n",
      "star 4: 0.3982\n"
     ]
    }
   ],
   "source": [
    "stats_class = df_train.star.value_counts().sort_index().to_dict()\n",
    "stats_class = np.array(list(stats_class.values()))\n",
    "class_weights = sum(stats_class) / (num_classes*stats_class)\n",
    "\n",
    "print(\"Class weights for uibalanced dataset:\")\n",
    "for star in range(5):\n",
    "    print(f\"star {star:d}: {class_weights[star]:.4f}\")"
   ]
  },
  {
   "cell_type": "code",
   "execution_count": 65,
   "id": "9b4aee91",
   "metadata": {},
   "outputs": [],
   "source": [
    "loss_fn = torch.nn.CrossEntropyLoss(weight=torch.FloatTensor(class_weights).to(device)) "
   ]
  },
  {
   "cell_type": "code",
   "execution_count": 66,
   "id": "e8254848",
   "metadata": {},
   "outputs": [
    {
     "name": "stderr",
     "output_type": "stream",
     "text": [
      "This implementation of AdamW is deprecated and will be removed in a future version. Use the PyTorch implementation torch.optim.AdamW instead, or set `no_deprecation_warning=True` to disable this warning\n"
     ]
    }
   ],
   "source": [
    "optimizer = AdamW(model.parameters(), lr=learning_rate)\n",
    "loss_fn = torch.nn.CrossEntropyLoss(weight=torch.FloatTensor(class_weights).to(device))\n",
    "scheduler = ReduceLROnPlateau(optimizer, mode='min', factor=0.1, patience=2, verbose=True)"
   ]
  },
  {
   "cell_type": "code",
   "execution_count": 67,
   "id": "a39ba821",
   "metadata": {},
   "outputs": [
    {
     "name": "stderr",
     "output_type": "stream",
     "text": [
      "100%|██████████| 2111/2111 [08:21<00:00,  4.21it/s]\n"
     ]
    },
    {
     "name": "stdout",
     "output_type": "stream",
     "text": [
      "Epoch 1/8 - Training Loss: 1.0643 , Accuracy: 0.6221 - Validation Loss: 0.7341 , Accuracy: 0.6874\n"
     ]
    },
    {
     "name": "stderr",
     "output_type": "stream",
     "text": [
      "100%|██████████| 2111/2111 [08:09<00:00,  4.31it/s]\n"
     ]
    },
    {
     "name": "stdout",
     "output_type": "stream",
     "text": [
      "Epoch 2/8 - Training Loss: 0.9263 , Accuracy: 0.6776 - Validation Loss: 0.7200 , Accuracy: 0.7049\n"
     ]
    },
    {
     "name": "stderr",
     "output_type": "stream",
     "text": [
      "100%|██████████| 2111/2111 [08:09<00:00,  4.31it/s]\n"
     ]
    },
    {
     "name": "stdout",
     "output_type": "stream",
     "text": [
      "Epoch 3/8 - Training Loss: 0.8821 , Accuracy: 0.6883 - Validation Loss: 0.7345 , Accuracy: 0.6970\n"
     ]
    },
    {
     "name": "stderr",
     "output_type": "stream",
     "text": [
      "100%|██████████| 2111/2111 [08:08<00:00,  4.32it/s]\n"
     ]
    },
    {
     "name": "stdout",
     "output_type": "stream",
     "text": [
      "Epoch 4/8 - Training Loss: 0.8268 , Accuracy: 0.6994 - Validation Loss: 0.7193 , Accuracy: 0.7088\n"
     ]
    },
    {
     "name": "stderr",
     "output_type": "stream",
     "text": [
      "100%|██████████| 2111/2111 [08:10<00:00,  4.30it/s]\n"
     ]
    },
    {
     "name": "stdout",
     "output_type": "stream",
     "text": [
      "Epoch 5/8 - Training Loss: 0.7707 , Accuracy: 0.7139 - Validation Loss: 0.7879 , Accuracy: 0.6805\n"
     ]
    },
    {
     "name": "stderr",
     "output_type": "stream",
     "text": [
      "100%|██████████| 2111/2111 [08:07<00:00,  4.33it/s]\n"
     ]
    },
    {
     "name": "stdout",
     "output_type": "stream",
     "text": [
      "Epoch 6/8 - Training Loss: 0.7012 , Accuracy: 0.7264 - Validation Loss: 0.7624 , Accuracy: 0.7000\n"
     ]
    },
    {
     "name": "stderr",
     "output_type": "stream",
     "text": [
      "100%|██████████| 2111/2111 [08:09<00:00,  4.31it/s]\n"
     ]
    },
    {
     "name": "stdout",
     "output_type": "stream",
     "text": [
      "Epoch 7/8 - Training Loss: 0.6367 , Accuracy: 0.7417 - Validation Loss: 0.7996 , Accuracy: 0.6920\n",
      "Epoch 00007: reducing learning rate of group 0 to 2.0000e-06.\n"
     ]
    },
    {
     "name": "stderr",
     "output_type": "stream",
     "text": [
      "100%|██████████| 2111/2111 [08:11<00:00,  4.30it/s]\n"
     ]
    },
    {
     "name": "stdout",
     "output_type": "stream",
     "text": [
      "Epoch 8/8 - Training Loss: 0.4920 , Accuracy: 0.7745 - Validation Loss: 0.8612 , Accuracy: 0.6960\n"
     ]
    }
   ],
   "source": [
    "hist_train_loss = []\n",
    "hist_val_loss = []\n",
    "hist_train_acc = []\n",
    "hist_val_acc = []\n",
    "min_loss = float('inf')\n",
    "best_model = None\n",
    "\n",
    "with threadpool_limits(limits=_MAX_WORKERS):\n",
    "\n",
    "    for epoch in range(num_epochs):\n",
    "        model.train()\n",
    "        optimizer.zero_grad()\n",
    "        total_loss = 0\n",
    "        total_correct = 0\n",
    "        total_samples = 0\n",
    "\n",
    "        for i, batch in tqdm(enumerate(train_loader), total=len(train_loader)):\n",
    "            input_ids = batch[\"input_ids\"].to(device)\n",
    "            attention_mask = batch[\"attention_mask\"].to(device)\n",
    "            labels = batch[\"labels\"].to(device)\n",
    "\n",
    "            optimizer.zero_grad()\n",
    "            outputs = model(input_ids=input_ids, attention_mask=attention_mask, labels=labels)\n",
    "            logits = outputs.logits\n",
    "            loss = loss_fn(logits, labels)\n",
    "\n",
    "            loss.backward()\n",
    "            optimizer.step()\n",
    "\n",
    "            total_loss += loss.item()\n",
    "\n",
    "            _, predicted = torch.max(logits, 1)\n",
    "            total_correct += (predicted == labels).sum().item()\n",
    "            total_samples += labels.size(0)\n",
    "\n",
    "        avg_loss = total_loss / len(train_loader)\n",
    "        train_accuracy = total_correct / total_samples\n",
    "\n",
    "        hist_train_loss += [avg_loss]\n",
    "        hist_train_acc += [train_accuracy]\n",
    "\n",
    "        ## EVAL\n",
    "        model.eval()\n",
    "        valid_loss = 0\n",
    "        valid_correct = 0\n",
    "        valid_samples = 0\n",
    "\n",
    "        with torch.no_grad():\n",
    "            for batch in val_loader:\n",
    "                input_ids = batch[\"input_ids\"].to(device)\n",
    "                attention_mask = batch[\"attention_mask\"].to(device)\n",
    "                labels = batch[\"labels\"].to(device)\n",
    "\n",
    "                outputs = model(input_ids=input_ids, attention_mask=attention_mask, labels=labels)\n",
    "                logits = outputs.logits\n",
    "                loss = loss_fn(logits, labels)\n",
    "\n",
    "                valid_loss += loss.item()\n",
    "                _, predicted = torch.max(logits, 1)\n",
    "                valid_correct += (predicted == labels).sum().item()\n",
    "                valid_samples += labels.size(0)\n",
    "\n",
    "        avg_valid_loss = valid_loss / len(val_loader)\n",
    "        valid_accuracy = valid_correct / valid_samples\n",
    "\n",
    "        print(f\"Epoch {epoch+1}/{num_epochs} - Training Loss: {avg_loss:.4f} , Accuracy: {train_accuracy:.4f} - Validation Loss: {avg_valid_loss:.4f} , Accuracy: {valid_accuracy:.4f}\")\n",
    "\n",
    "        if min_loss >= avg_valid_loss:\n",
    "            min_loss = avg_valid_loss\n",
    "            model.save_pretrained(MODEL_OUTFILE_5CLS)\n",
    "\n",
    "        scheduler.step(avg_valid_loss)\n",
    "\n",
    "        hist_val_loss += [avg_valid_loss]\n",
    "        hist_val_acc += [valid_accuracy]"
   ]
  },
  {
   "cell_type": "code",
   "execution_count": 69,
   "id": "1c48bed5",
   "metadata": {},
   "outputs": [
    {
     "data": {
      "image/png": "[encoded data removed]",
      "text/plain": [
       "<Figure size 1200x500 with 2 Axes>"
      ]
     },
     "metadata": {},
     "output_type": "display_data"
    }
   ],
   "source": [
    "plot_learning_curves(num_epochs, hist_train_loss, hist_val_loss, hist_train_acc, hist_val_acc, figsize=(12, 5))"
   ]
  },
  {
   "cell_type": "markdown",
   "id": "51cc5209",
   "metadata": {},
   "source": [
    "## Evaluation"
   ]
  },
  {
   "cell_type": "code",
   "execution_count": 70,
   "id": "c612c4ea",
   "metadata": {},
   "outputs": [],
   "source": [
    "model_finetuned = FlaubertForSequenceClassification.from_pretrained(MODEL_OUTFILE_5CLS, num_labels=num_classes).to(device)"
   ]
  },
  {
   "cell_type": "code",
   "execution_count": 71,
   "id": "0b1411c1",
   "metadata": {},
   "outputs": [],
   "source": [
    "y_pred = []\n",
    "y_true = []\n",
    "\n",
    "model_finetuned.eval()\n",
    "with torch.no_grad():\n",
    "    for batch in test_loader:\n",
    "        input_ids = batch[\"input_ids\"].to(device)\n",
    "        attention_mask = batch[\"attention_mask\"].to(device)\n",
    "        labels = batch[\"labels\"].to(device)\n",
    "\n",
    "        outputs = model_finetuned(input_ids=input_ids, attention_mask=attention_mask)\n",
    "        logits = outputs.logits\n",
    "        loss = loss_fn(logits, labels)\n",
    "\n",
    "        _, predicted = torch.max(logits, 1)\n",
    "        predictions = predicted.cpu().numpy()\n",
    "        labels = labels.cpu().numpy()\n",
    "\n",
    "        y_pred.extend(predictions)\n",
    "        y_true.extend(labels)\n",
    "        \n",
    "\n",
    "y_pred = np.array(y_pred)\n",
    "y_true = np.array(y_true)"
   ]
  },
  {
   "cell_type": "code",
   "execution_count": 72,
   "id": "fe06a11e",
   "metadata": {},
   "outputs": [
    {
     "name": "stdout",
     "output_type": "stream",
     "text": [
      "Labels: [0, 1, 2, 3, 4]\n"
     ]
    },
    {
     "name": "stderr",
     "output_type": "stream",
     "text": [
      "FixedFormatter should only be used together with FixedLocator\n",
      "FixedFormatter should only be used together with FixedLocator\n"
     ]
    },
    {
     "data": {
      "image/png": "[encoded data removed]",
      "text/plain": [
       "<Figure size 750x750 with 1 Axes>"
      ]
     },
     "metadata": {},
     "output_type": "display_data"
    }
   ],
   "source": [
    "LABELS = [0, 1, 2, 3, 4]\n",
    "print(\"Labels:\", LABELS)\n",
    "\n",
    "cm = confusion_matrix(y_true, y_pred)\n",
    "plotCMX(LABELS, cm)"
   ]
  },
  {
   "cell_type": "code",
   "execution_count": 73,
   "id": "808c993f",
   "metadata": {},
   "outputs": [
    {
     "name": "stdout",
     "output_type": "stream",
     "text": [
      "              precision    recall  f1-score   support\n",
      "\n",
      "           0       0.93      0.76      0.84      3863\n",
      "           1       0.18      0.34      0.23       577\n",
      "           2       0.31      0.62      0.41      1017\n",
      "           3       0.48      0.34      0.39      2947\n",
      "           4       0.85      0.85      0.85      8478\n",
      "\n",
      "    accuracy                           0.71     16882\n",
      "   macro avg       0.55      0.58      0.55     16882\n",
      "weighted avg       0.75      0.71      0.72     16882\n",
      "\n"
     ]
    }
   ],
   "source": [
    "print(classification_report(y_true, y_pred))"
   ]
  },
  {
   "cell_type": "code",
   "execution_count": null,
   "id": "620c6c0b",
   "metadata": {},
   "outputs": [],
   "source": []
  }
 ],
 "metadata": {
  "kernelspec": {
   "display_name": "Python 3 (ipykernel)",
   "language": "python",
   "name": "python3"
  },
  "language_info": {
   "codemirror_mode": {
    "name": "ipython",
    "version": 3
   },
   "file_extension": ".py",
   "mimetype": "text/x-python",
   "name": "python",
   "nbconvert_exporter": "python",
   "pygments_lexer": "ipython3",
   "version": "3.9.15"
  }
 },
 "nbformat": 4,
 "nbformat_minor": 5
}
